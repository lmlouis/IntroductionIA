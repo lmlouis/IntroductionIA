{
  "nbformat": 4,
  "nbformat_minor": 0,
  "metadata": {
    "colab": {
      "provenance": [],
      "collapsed_sections": [],
      "authorship_tag": "ABX9TyML7z4o9xmQnqGfXY/cmJEc",
      "include_colab_link": true
    },
    "kernelspec": {
      "name": "python3",
      "display_name": "Python 3"
    },
    "language_info": {
      "name": "python"
    }
  },
  "cells": [
    {
      "cell_type": "markdown",
      "metadata": {
        "id": "view-in-github",
        "colab_type": "text"
      },
      "source": [
        "<a href=\"https://colab.research.google.com/github/lmlouis/IntroductionIA/blob/main/checkpoint_skillspython.ipynb\" target=\"_parent\"><img src=\"https://colab.research.google.com/assets/colab-badge.svg\" alt=\"Open In Colab\"/></a>"
      ]
    },
    {
      "cell_type": "markdown",
      "source": [
        "# Question 1\n",
        "\n",
        "Ecrivez un programme qui trouvera tous les nombres qui sont divisibles par 7 mais qui ne sont pas un multiple de 5, entre 2000 et 3200 (les deux inclus). Les nombres obtenus doivent être imprimés dans une liste.\n",
        "\n",
        "Hint: Consider using the range(#begin, #end) method."
      ],
      "metadata": {
        "id": "ymcLpZ01MZV0"
      }
    },
    {
      "cell_type": "code",
      "execution_count": null,
      "metadata": {
        "colab": {
          "base_uri": "https://localhost:8080/"
        },
        "id": "R3xxYsz6MCbW",
        "outputId": "6cdbc09b-1841-4b71-a503-1246e05c1afc"
      },
      "outputs": [
        {
          "output_type": "execute_result",
          "data": {
            "text/plain": [
              "[2002,\n",
              " 2009,\n",
              " 2016,\n",
              " 2023,\n",
              " 2037,\n",
              " 2044,\n",
              " 2051,\n",
              " 2058,\n",
              " 2072,\n",
              " 2079,\n",
              " 2086,\n",
              " 2093,\n",
              " 2107,\n",
              " 2114,\n",
              " 2121,\n",
              " 2128,\n",
              " 2142,\n",
              " 2149,\n",
              " 2156,\n",
              " 2163,\n",
              " 2177,\n",
              " 2184,\n",
              " 2191,\n",
              " 2198,\n",
              " 2212,\n",
              " 2219,\n",
              " 2226,\n",
              " 2233,\n",
              " 2247,\n",
              " 2254,\n",
              " 2261,\n",
              " 2268,\n",
              " 2282,\n",
              " 2289,\n",
              " 2296,\n",
              " 2303,\n",
              " 2317,\n",
              " 2324,\n",
              " 2331,\n",
              " 2338,\n",
              " 2352,\n",
              " 2359,\n",
              " 2366,\n",
              " 2373,\n",
              " 2387,\n",
              " 2394,\n",
              " 2401,\n",
              " 2408,\n",
              " 2422,\n",
              " 2429,\n",
              " 2436,\n",
              " 2443,\n",
              " 2457,\n",
              " 2464,\n",
              " 2471,\n",
              " 2478,\n",
              " 2492,\n",
              " 2499,\n",
              " 2506,\n",
              " 2513,\n",
              " 2527,\n",
              " 2534,\n",
              " 2541,\n",
              " 2548,\n",
              " 2562,\n",
              " 2569,\n",
              " 2576,\n",
              " 2583,\n",
              " 2597,\n",
              " 2604,\n",
              " 2611,\n",
              " 2618,\n",
              " 2632,\n",
              " 2639,\n",
              " 2646,\n",
              " 2653,\n",
              " 2667,\n",
              " 2674,\n",
              " 2681,\n",
              " 2688,\n",
              " 2702,\n",
              " 2709,\n",
              " 2716,\n",
              " 2723,\n",
              " 2737,\n",
              " 2744,\n",
              " 2751,\n",
              " 2758,\n",
              " 2772,\n",
              " 2779,\n",
              " 2786,\n",
              " 2793,\n",
              " 2807,\n",
              " 2814,\n",
              " 2821,\n",
              " 2828,\n",
              " 2842,\n",
              " 2849,\n",
              " 2856,\n",
              " 2863,\n",
              " 2877,\n",
              " 2884,\n",
              " 2891,\n",
              " 2898,\n",
              " 2912,\n",
              " 2919,\n",
              " 2926,\n",
              " 2933,\n",
              " 2947,\n",
              " 2954,\n",
              " 2961,\n",
              " 2968,\n",
              " 2982,\n",
              " 2989,\n",
              " 2996]"
            ]
          },
          "metadata": {},
          "execution_count": 24
        }
      ],
      "source": [
        "# n divisibles par 7 <=> n mod 7 = 0 et n non multiple de 5 <=> n != 5k ( n mod 5 != 0)\n",
        "# ajouter un élément n dans une liste list.append(n)\n",
        "# condition range(#begin, #end) avec 2000 <= n <= 3000\n",
        "\n",
        "# methode 1 :  simple boucle while \n",
        "\"\"\"\n",
        "list_entiers = []\n",
        "for n in range(2000, 3001):\n",
        "  if( n%7 == 0 and n%5 != 0):\n",
        "    list_entiers.append(n)\n",
        "print(list_entiers)\n",
        "\"\"\"\n",
        "# methode 2 : liste comprehension \n",
        "list_entiers = [n for n in range(2000, 3001) if(n%7 == 0 and n%5 != 0)]\n",
        "\n",
        "list_entiers"
      ]
    },
    {
      "cell_type": "markdown",
      "source": [
        "# Question 2 \n",
        "\n",
        " Ecrivez un programme capable de calculer la factorielle d'un nombre donné. (La factorielle de n est le produit de tous les entiers positifs inférieurs ou égaux à n). Par exemple : Pour la factorielle(5)= 5 x 4 x 3 x 2 x 1 le résultat est 120 (c'est-à-dire la factorielle (0)=1)."
      ],
      "metadata": {
        "id": "g4Dsl3fRSK9m"
      }
    },
    {
      "cell_type": "code",
      "source": [
        "\"\"\"\n",
        "fact(0)=1 \n",
        "fact(n)=nx(n-1)x...x2x1\n",
        "\"\"\"\n",
        "\n",
        "def fact(n):\n",
        "  a = 1\n",
        "  while(n != 0):\n",
        "      a = a * n\n",
        "      n = n -1\n",
        "  return a\n",
        "  \n",
        "fact(5)"
      ],
      "metadata": {
        "colab": {
          "base_uri": "https://localhost:8080/"
        },
        "id": "l7FJpOvmSq9i",
        "outputId": "014c2c60-2ad1-45cf-fad5-78d6ab9ed9ec"
      },
      "execution_count": null,
      "outputs": [
        {
          "output_type": "execute_result",
          "data": {
            "text/plain": [
              "120"
            ]
          },
          "metadata": {},
          "execution_count": 12
        }
      ]
    },
    {
      "cell_type": "markdown",
      "source": [
        "# Question 3 \n",
        "\n",
        "Avec un nombre entier donné n, écrivez un programme pour générer un dictionnaire qui contient (i, i*i) tel que est un nombre entier entre 1 et n (les deux inclus). Ensuite, le programme doit imprimer le dictionnaire. Supposons que l'entrée suivante soit fournie au programme : 8 Alors, la sortie devrait être : {1 : 1, 2 : 4, 3 : 9, 4 : 16, 5 : 25, 6 : 36, 7 : 49, 8 : 64}  "
      ],
      "metadata": {
        "id": "ssiOBaOOWktT"
      }
    },
    {
      "cell_type": "code",
      "source": [
        "# dict cle/valeur = i / i*i\n",
        "# pour i : i à n \n",
        "#  n le nombre d'itérations \n",
        "#dict_n = {i : i*i pour i compris entre 1 et n sens large}\n",
        "\n",
        "# metode 1  :  simple boucle for\n",
        "\"\"\"\n",
        "def carrer2(n):\n",
        "  dict_n = {}\n",
        "  for i in range (1, n+1):\n",
        "    dict_n[i] = i*i\n",
        "  print(dict_n)\n",
        "carrer2(8)  \n",
        "\"\"\"\n",
        "# methode 2  :  dictionnaire comprehension \n",
        "def carrer2(n):\n",
        "  dict_n = {k+1:v for k, v in enumerate([ i*i for i in range(1, n+1)])} \n",
        "  print(dict_n)\n",
        "\n",
        "carrer2(8) "
      ],
      "metadata": {
        "colab": {
          "base_uri": "https://localhost:8080/"
        },
        "id": "iE53ez3NXBut",
        "outputId": "b8e550da-ba2b-4ec9-8c5f-7d6e03ff1cc4"
      },
      "execution_count": null,
      "outputs": [
        {
          "output_type": "stream",
          "name": "stdout",
          "text": [
            "{1: 1, 2: 4, 3: 9, 4: 16, 5: 25, 6: 36, 7: 49, 8: 64}\n"
          ]
        }
      ]
    },
    {
      "cell_type": "markdown",
      "source": [
        "# Question 4 \n",
        "\n",
        "Étant donné une chaîne de caractères non vide et un entier n, renvoyer une nouvelle chaîne de caractères où le caractère à l'indice n a été supprimé. La valeur de n sera un indice valide d'un caractère dans la chaîne originale (c'est-à-dire que n sera dans la plage 0..len(str)-1 inclus). \n",
        "\n",
        "missing_char('kitten', 1) → 'ktten' par exemple ici nous supprimons \"i\" qui est situé dans l'indice 1.\n",
        "\n",
        "missing_char('kitten', 0) → 'itten' par exemple ici on supprime \"k\" qui se trouve à l'indice 0\n",
        "\n",
        "missing_char('kitten', 4) → 'kittn' ici nous supprimons \"e\" qui se trouve dans l'inde"
      ],
      "metadata": {
        "id": "9Aes1M4riw4H"
      }
    },
    {
      "cell_type": "code",
      "source": [
        "def missing_char(chaine, indexe):\n",
        "  new_chain =\"\"\n",
        "  for i in range(len(chaine)):\n",
        "    if(i != indexe):\n",
        "      new_chain += chaine[i]\n",
        "  return new_chain\n",
        "  \n",
        "missing_char('kitten', 4) "
      ],
      "metadata": {
        "colab": {
          "base_uri": "https://localhost:8080/",
          "height": 35
        },
        "id": "gTorIa0-j1Mq",
        "outputId": "0861bdea-8c9c-48a1-8cfe-6fc61220757a"
      },
      "execution_count": null,
      "outputs": [
        {
          "output_type": "execute_result",
          "data": {
            "text/plain": [
              "'kittn'"
            ],
            "application/vnd.google.colaboratory.intrinsic+json": {
              "type": "string"
            }
          },
          "metadata": {},
          "execution_count": 26
        }
      ]
    },
    {
      "cell_type": "markdown",
      "source": [
        "# Question 5 \n",
        "\n",
        "Écrivez un programme NumPy pour convertir un tableau NumPy en une structure de liste Python.\n",
        "\n",
        "Sortie attendue : \n",
        "\n",
        "Eléments de array original : [[0 1] [2 3] [4 5]] \n",
        "\n",
        "array en liste : [[0, 1], [2, 3], [4, 5]] "
      ],
      "metadata": {
        "id": "zK3kXDXXn-77"
      }
    },
    {
      "cell_type": "code",
      "source": [
        "import numpy as np\n",
        "\n",
        "tab = np.array([[0,1],[2,3],[4,5]])\n",
        "\n",
        "# methode 1 : simple boucle for\n",
        "\"\"\"\n",
        "l =[]\n",
        "for i in range(tab_np.ndim + 1):\n",
        "  l.append(list(tab_np[i])) \n",
        "print(l)\n",
        "\"\"\"\n",
        "# methode 2 : fonction \n",
        "\n",
        "def arraytolist(tab_np):\n",
        "  return [list(tab_np[i]) for i in range(tab_np.ndim + 1)]\n",
        "\n",
        "\n",
        "# methode 3 :  methode tolist()\n",
        "\n",
        "def arraytolist2(tab_np):\n",
        "  return tab_np.tolist()\n",
        "\n",
        "arraytolist2(tab)"
      ],
      "metadata": {
        "colab": {
          "base_uri": "https://localhost:8080/"
        },
        "id": "vOHiuJrqoB3P",
        "outputId": "9cda3131-531d-453d-acf1-341f1e97c1c7"
      },
      "execution_count": null,
      "outputs": [
        {
          "output_type": "execute_result",
          "data": {
            "text/plain": [
              "[[0, 1], [2, 3], [4, 5]]"
            ]
          },
          "metadata": {},
          "execution_count": 44
        }
      ]
    },
    {
      "cell_type": "markdown",
      "source": [
        "# Question 6\n",
        "\n",
        "Ecrivez un programme NumPy pour calculer la matrice de covariance de deux tableaux donnés. \n",
        "\n",
        "Tableau original1 : [0 1 2] \n",
        "\n",
        "Tableau original2 : [2 1 0] \n",
        "\n",
        "Matrice de covariance desdits tableaux : [[ 1. -1.] [-1. 1.]]\n",
        " \n",
        "\n",
        "Astuce : Nous pouvons utiliser la fonction np.cov() pour calculer la covariance entre ces deux tableaux."
      ],
      "metadata": {
        "id": "_yLgZekHxGR6"
      }
    },
    {
      "cell_type": "code",
      "source": [
        "import numpy as np\n",
        "tab1 = np.array([0,1,2])\n",
        "tab2 = np.array([2,1,0])\n",
        "cov = np.cov(tab1, tab2)\n",
        "cov"
      ],
      "metadata": {
        "colab": {
          "base_uri": "https://localhost:8080/"
        },
        "id": "yWajH1DpywdE",
        "outputId": "42faad21-ce54-4864-94d3-71d511dd3ada"
      },
      "execution_count": null,
      "outputs": [
        {
          "output_type": "execute_result",
          "data": {
            "text/plain": [
              "array([[ 1., -1.],\n",
              "       [-1.,  1.]])"
            ]
          },
          "metadata": {},
          "execution_count": 51
        }
      ]
    },
    {
      "cell_type": "markdown",
      "source": [
        "# Question 7\n",
        "\n",
        "Question : Ecrivez un programme qui calcule et imprime la valeur selon la formule donnée : Q= Racine carrée de [(2 * C * D)/H] \n",
        "\n",
        "Les valeurs fixes de C et H sont les suivantes : C est 50. H est de 30. \n",
        "\n",
        "D est la variable dont les valeurs doivent être entrées dans votre programme dans une séquence séparée par des virgules. (Cela signifie que D contient plus d'une valeur)\n",
        "\n",
        "Exemple : Supposons que la séquence d'entrée suivante, séparée par des virgules, soit donnée au programme : 100,150,180 La sortie du programme devrait être 18,22,24. \n",
        "\n",
        "Pour mieux expliquer cela, nous allons obtenir un résultat pour chaque valeur de D :  Q1= racine carrée de [(2 * C * 100)/H] =18, Q2= racine carrée de [(2 * C * 150)/H] = 22 et Q3 = racine carrée de [(2 * C * 180)/H] = 24.\n",
        "\n",
        "Conseil : si le résultat reçu est sous forme décimale, il doit être arrondi à la valeur la plus proche. Par exemple, si le résultat reçu est 26.0, il doit être imprimé sous la forme 26. Si des données d'entrée sont fournies à la question, il faut supposer qu'il s'agit d'une entrée de console. "
      ],
      "metadata": {
        "id": "fIi0kMrS1qdm"
      }
    },
    {
      "cell_type": "code",
      "source": [
        "from math import sqrt\n",
        "def Calcule2Q(D):\n",
        "  C = 50\n",
        "  H = 30\n",
        "  return sqrt((2*C*D)/H)\n",
        "\n",
        "D = list()\n",
        "\n",
        "reponse =\"\"\n",
        "while(reponse != \"n\"):\n",
        "  D.append(float(input(\"entrer valeurs de D : \")))\n",
        "  reponse = input(\"saisir une autre valeur [y/n] ? : \")\n",
        "\n",
        "for i in range(len(D)):\n",
        "  print( \"Q\",i+1,\" = \", round(Calcule2Q(D[i])) )"
      ],
      "metadata": {
        "colab": {
          "base_uri": "https://localhost:8080/"
        },
        "id": "N0_jLKBq1t51",
        "outputId": "f9809184-55e4-4da9-d196-a1ceacab2347"
      },
      "execution_count": null,
      "outputs": [
        {
          "output_type": "stream",
          "name": "stdout",
          "text": [
            "entrer valeurs de D : 100\n",
            "saisir une autre valeur [y/n] ? : y\n",
            "entrer valeurs de D : 150\n",
            "saisir une autre valeur [y/n] ? : y\n",
            "entrer valeurs de D : 180\n",
            "saisir une autre valeur [y/n] ? : n\n",
            "Q 1  =  18\n",
            "Q 2  =  22\n",
            "Q 3  =  24\n"
          ]
        }
      ]
    }
  ]
}