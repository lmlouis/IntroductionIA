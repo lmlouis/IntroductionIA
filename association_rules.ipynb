{
  "nbformat": 4,
  "nbformat_minor": 0,
  "metadata": {
    "colab": {
      "provenance": [],
      "mount_file_id": "1BoydSqPOFZ4Qi53IGyJCFwgS5xye_KmN",
      "authorship_tag": "ABX9TyOwU+aLRx/X13yR3R79Xxn9",
      "include_colab_link": true
    },
    "kernelspec": {
      "name": "python3",
      "display_name": "Python 3"
    },
    "language_info": {
      "name": "python"
    }
  },
  "cells": [
    {
      "cell_type": "markdown",
      "metadata": {
        "id": "view-in-github",
        "colab_type": "text"
      },
      "source": [
        "<a href=\"https://colab.research.google.com/github/lmlouis/IntroductionIA/blob/main/association_rules.ipynb\" target=\"_parent\"><img src=\"https://colab.research.google.com/assets/colab-badge.svg\" alt=\"Open In Colab\"/></a>"
      ]
    },
    {
      "cell_type": "markdown",
      "source": [
        "**Objective**\n",
        "Association Rules\n",
        "\n",
        "Imaginons que vous soyez un ingénieur en apprentissage automatique travaillant pour une entreprise de vêtements et que vous souhaitiez adopter de nouvelles stratégies pour améliorer les bénéfices de l'entreprise.\n",
        "\n",
        "Utilisez cet dataset et l'extraction de règles d'association pour trouver de nouveaux plans de marketing. \n",
        "\n",
        "Notez que l'une des stratégies peut être basée sur les éléments qui doivent être réunis\n",
        "```\n",
        "dataset = [['Skirt', 'Sneakers', 'Scarf', 'Pants', 'Hat'],\n",
        "\n",
        "    ['Sunglasses', 'Skirt', 'Sneakers', 'Pants', 'Hat'],\n",
        "\n",
        "    ['Dress', 'Sandals', 'Scarf', 'Pants', 'Heels'],\n",
        "\n",
        "    ['Dress', 'Necklace', 'Earrings', 'Scarf', 'Hat', 'Heels', 'Hat'],\n",
        "\n",
        "   ['Earrings', 'Skirt', 'Skirt', 'Scarf', 'Shirt', 'Pants']]\n",
        "\n",
        "```\n",
        "Bonus : Essayez de faire un peu de visualisation avant d'appliquer l'algorithme d'Apriori.\n",
        "\n",
        "Faisons le même point de contrôle mais avec un plus grand ensemble de données !"
      ],
      "metadata": {
        "id": "X542HRBVWpQP"
      }
    },
    {
      "cell_type": "markdown",
      "source": [
        "# Le dataset\n",
        "\n",
        "Le dataset présente des transactions d'articles d'un magasin de vetêments sous forme de maticce d'items qui se repetent avec une fréquence données.\n"
      ],
      "metadata": {
        "id": "TGMQZT9XGWhk"
      }
    },
    {
      "cell_type": "code",
      "execution_count": 1,
      "metadata": {
        "id": "ou6I0gnbWlBf"
      },
      "outputs": [],
      "source": [
        "dataset = [\n",
        "    ['Skirt', 'Sneakers', 'Scarf', 'Pants', 'Hat'],\n",
        "\n",
        "    ['Sunglasses', 'Skirt', 'Sneakers', 'Pants', 'Hat'],\n",
        "\n",
        "    ['Dress', 'Sandals', 'Scarf', 'Pants', 'Heels'],\n",
        "\n",
        "    ['Dress', 'Necklace', 'Earrings', 'Scarf', 'Hat', 'Heels', 'Hat'],\n",
        "\n",
        "   ['Earrings', 'Skirt', 'Skirt', 'Scarf', 'Shirt', 'Pants']\n",
        "   ]"
      ]
    },
    {
      "cell_type": "markdown",
      "source": [
        "# Apriori Preparation\n",
        "\n",
        "Afin d'utiliser la fonction apriori, nous devons transformer notre jeu de données en un DataFrame encodé avec la methode **one-hot**.\n",
        " \n",
        "Transaction Encoder crée un tableau NumPy à partir d'une liste et le \"one-hot\" et l'encode (mais dans un format **True/False** et non en des 1 et des 0)."
      ],
      "metadata": {
        "id": "uJ2DzRnpQ1VC"
      }
    },
    {
      "cell_type": "code",
      "source": [
        "import mlxtend\n",
        "import pandas as pd\n",
        "from mlxtend.preprocessing import TransactionEncoder\n",
        "transaction_encoder=TransactionEncoder()\n",
        "arrray_transaction_encoder=transaction_encoder.fit(dataset).transform(dataset)    \n",
        "dataframe=pd.DataFrame(arrray_transaction_encoder, columns=transaction_encoder.columns_)  \n",
        "dataframe"
      ],
      "metadata": {
        "colab": {
          "base_uri": "https://localhost:8080/",
          "height": 206
        },
        "id": "x_hTZHhFwRnV",
        "outputId": "c9891885-17b3-4250-cdd3-1b24ba3360af"
      },
      "execution_count": 2,
      "outputs": [
        {
          "output_type": "execute_result",
          "data": {
            "text/plain": [
              "   Dress  Earrings    Hat  Heels  Necklace  Pants  Sandals  Scarf  Shirt  \\\n",
              "0  False     False   True  False     False   True    False   True  False   \n",
              "1  False     False   True  False     False   True    False  False  False   \n",
              "2   True     False  False   True     False   True     True   True  False   \n",
              "3   True      True   True   True      True  False    False   True  False   \n",
              "4  False      True  False  False     False   True    False   True   True   \n",
              "\n",
              "   Skirt  Sneakers  Sunglasses  \n",
              "0   True      True       False  \n",
              "1   True      True        True  \n",
              "2  False     False       False  \n",
              "3  False     False       False  \n",
              "4   True     False       False  "
            ],
            "text/html": [
              "\n",
              "  <div id=\"df-bbcfd416-ac1a-4d3f-9113-41cfc3857168\">\n",
              "    <div class=\"colab-df-container\">\n",
              "      <div>\n",
              "<style scoped>\n",
              "    .dataframe tbody tr th:only-of-type {\n",
              "        vertical-align: middle;\n",
              "    }\n",
              "\n",
              "    .dataframe tbody tr th {\n",
              "        vertical-align: top;\n",
              "    }\n",
              "\n",
              "    .dataframe thead th {\n",
              "        text-align: right;\n",
              "    }\n",
              "</style>\n",
              "<table border=\"1\" class=\"dataframe\">\n",
              "  <thead>\n",
              "    <tr style=\"text-align: right;\">\n",
              "      <th></th>\n",
              "      <th>Dress</th>\n",
              "      <th>Earrings</th>\n",
              "      <th>Hat</th>\n",
              "      <th>Heels</th>\n",
              "      <th>Necklace</th>\n",
              "      <th>Pants</th>\n",
              "      <th>Sandals</th>\n",
              "      <th>Scarf</th>\n",
              "      <th>Shirt</th>\n",
              "      <th>Skirt</th>\n",
              "      <th>Sneakers</th>\n",
              "      <th>Sunglasses</th>\n",
              "    </tr>\n",
              "  </thead>\n",
              "  <tbody>\n",
              "    <tr>\n",
              "      <th>0</th>\n",
              "      <td>False</td>\n",
              "      <td>False</td>\n",
              "      <td>True</td>\n",
              "      <td>False</td>\n",
              "      <td>False</td>\n",
              "      <td>True</td>\n",
              "      <td>False</td>\n",
              "      <td>True</td>\n",
              "      <td>False</td>\n",
              "      <td>True</td>\n",
              "      <td>True</td>\n",
              "      <td>False</td>\n",
              "    </tr>\n",
              "    <tr>\n",
              "      <th>1</th>\n",
              "      <td>False</td>\n",
              "      <td>False</td>\n",
              "      <td>True</td>\n",
              "      <td>False</td>\n",
              "      <td>False</td>\n",
              "      <td>True</td>\n",
              "      <td>False</td>\n",
              "      <td>False</td>\n",
              "      <td>False</td>\n",
              "      <td>True</td>\n",
              "      <td>True</td>\n",
              "      <td>True</td>\n",
              "    </tr>\n",
              "    <tr>\n",
              "      <th>2</th>\n",
              "      <td>True</td>\n",
              "      <td>False</td>\n",
              "      <td>False</td>\n",
              "      <td>True</td>\n",
              "      <td>False</td>\n",
              "      <td>True</td>\n",
              "      <td>True</td>\n",
              "      <td>True</td>\n",
              "      <td>False</td>\n",
              "      <td>False</td>\n",
              "      <td>False</td>\n",
              "      <td>False</td>\n",
              "    </tr>\n",
              "    <tr>\n",
              "      <th>3</th>\n",
              "      <td>True</td>\n",
              "      <td>True</td>\n",
              "      <td>True</td>\n",
              "      <td>True</td>\n",
              "      <td>True</td>\n",
              "      <td>False</td>\n",
              "      <td>False</td>\n",
              "      <td>True</td>\n",
              "      <td>False</td>\n",
              "      <td>False</td>\n",
              "      <td>False</td>\n",
              "      <td>False</td>\n",
              "    </tr>\n",
              "    <tr>\n",
              "      <th>4</th>\n",
              "      <td>False</td>\n",
              "      <td>True</td>\n",
              "      <td>False</td>\n",
              "      <td>False</td>\n",
              "      <td>False</td>\n",
              "      <td>True</td>\n",
              "      <td>False</td>\n",
              "      <td>True</td>\n",
              "      <td>True</td>\n",
              "      <td>True</td>\n",
              "      <td>False</td>\n",
              "      <td>False</td>\n",
              "    </tr>\n",
              "  </tbody>\n",
              "</table>\n",
              "</div>\n",
              "      <button class=\"colab-df-convert\" onclick=\"convertToInteractive('df-bbcfd416-ac1a-4d3f-9113-41cfc3857168')\"\n",
              "              title=\"Convert this dataframe to an interactive table.\"\n",
              "              style=\"display:none;\">\n",
              "        \n",
              "  <svg xmlns=\"http://www.w3.org/2000/svg\" height=\"24px\"viewBox=\"0 0 24 24\"\n",
              "       width=\"24px\">\n",
              "    <path d=\"M0 0h24v24H0V0z\" fill=\"none\"/>\n",
              "    <path d=\"M18.56 5.44l.94 2.06.94-2.06 2.06-.94-2.06-.94-.94-2.06-.94 2.06-2.06.94zm-11 1L8.5 8.5l.94-2.06 2.06-.94-2.06-.94L8.5 2.5l-.94 2.06-2.06.94zm10 10l.94 2.06.94-2.06 2.06-.94-2.06-.94-.94-2.06-.94 2.06-2.06.94z\"/><path d=\"M17.41 7.96l-1.37-1.37c-.4-.4-.92-.59-1.43-.59-.52 0-1.04.2-1.43.59L10.3 9.45l-7.72 7.72c-.78.78-.78 2.05 0 2.83L4 21.41c.39.39.9.59 1.41.59.51 0 1.02-.2 1.41-.59l7.78-7.78 2.81-2.81c.8-.78.8-2.07 0-2.86zM5.41 20L4 18.59l7.72-7.72 1.47 1.35L5.41 20z\"/>\n",
              "  </svg>\n",
              "      </button>\n",
              "      \n",
              "  <style>\n",
              "    .colab-df-container {\n",
              "      display:flex;\n",
              "      flex-wrap:wrap;\n",
              "      gap: 12px;\n",
              "    }\n",
              "\n",
              "    .colab-df-convert {\n",
              "      background-color: #E8F0FE;\n",
              "      border: none;\n",
              "      border-radius: 50%;\n",
              "      cursor: pointer;\n",
              "      display: none;\n",
              "      fill: #1967D2;\n",
              "      height: 32px;\n",
              "      padding: 0 0 0 0;\n",
              "      width: 32px;\n",
              "    }\n",
              "\n",
              "    .colab-df-convert:hover {\n",
              "      background-color: #E2EBFA;\n",
              "      box-shadow: 0px 1px 2px rgba(60, 64, 67, 0.3), 0px 1px 3px 1px rgba(60, 64, 67, 0.15);\n",
              "      fill: #174EA6;\n",
              "    }\n",
              "\n",
              "    [theme=dark] .colab-df-convert {\n",
              "      background-color: #3B4455;\n",
              "      fill: #D2E3FC;\n",
              "    }\n",
              "\n",
              "    [theme=dark] .colab-df-convert:hover {\n",
              "      background-color: #434B5C;\n",
              "      box-shadow: 0px 1px 3px 1px rgba(0, 0, 0, 0.15);\n",
              "      filter: drop-shadow(0px 1px 2px rgba(0, 0, 0, 0.3));\n",
              "      fill: #FFFFFF;\n",
              "    }\n",
              "  </style>\n",
              "\n",
              "      <script>\n",
              "        const buttonEl =\n",
              "          document.querySelector('#df-bbcfd416-ac1a-4d3f-9113-41cfc3857168 button.colab-df-convert');\n",
              "        buttonEl.style.display =\n",
              "          google.colab.kernel.accessAllowed ? 'block' : 'none';\n",
              "\n",
              "        async function convertToInteractive(key) {\n",
              "          const element = document.querySelector('#df-bbcfd416-ac1a-4d3f-9113-41cfc3857168');\n",
              "          const dataTable =\n",
              "            await google.colab.kernel.invokeFunction('convertToInteractive',\n",
              "                                                     [key], {});\n",
              "          if (!dataTable) return;\n",
              "\n",
              "          const docLinkHtml = 'Like what you see? Visit the ' +\n",
              "            '<a target=\"_blank\" href=https://colab.research.google.com/notebooks/data_table.ipynb>data table notebook</a>'\n",
              "            + ' to learn more about interactive tables.';\n",
              "          element.innerHTML = '';\n",
              "          dataTable['output_type'] = 'display_data';\n",
              "          await google.colab.output.renderOutput(dataTable, element);\n",
              "          const docLink = document.createElement('div');\n",
              "          docLink.innerHTML = docLinkHtml;\n",
              "          element.appendChild(docLink);\n",
              "        }\n",
              "      </script>\n",
              "    </div>\n",
              "  </div>\n",
              "  "
            ]
          },
          "metadata": {},
          "execution_count": 2
        }
      ]
    },
    {
      "cell_type": "markdown",
      "source": [
        "# Data Analyse"
      ],
      "metadata": {
        "id": "hRYahkmfwQNk"
      }
    },
    {
      "cell_type": "markdown",
      "source": [
        "importer les librairies dont on aura besoin"
      ],
      "metadata": {
        "id": "ZcFfMgC_Z9YV"
      }
    },
    {
      "cell_type": "code",
      "source": [
        "import matplotlib.pyplot as plt\n",
        "import pandas as pd\n",
        "import seaborn as sns\n",
        "import numpy as np\n",
        "\n",
        "\n",
        "\n"
      ],
      "metadata": {
        "id": "SKvYATeGw0cQ"
      },
      "execution_count": 3,
      "outputs": []
    },
    {
      "cell_type": "markdown",
      "source": [
        "Quel est le nombre total de transactions ?"
      ],
      "metadata": {
        "id": "UaznsXqXzien"
      }
    },
    {
      "cell_type": "code",
      "source": [
        "Total_Transactions = int(dataframe.shape[0])\n",
        "Total_Transactions"
      ],
      "metadata": {
        "colab": {
          "base_uri": "https://localhost:8080/"
        },
        "id": "1GFbSsj6zmDv",
        "outputId": "22dc2d5b-c0fe-4dba-9a73-dc4483b1ea1f"
      },
      "execution_count": 4,
      "outputs": [
        {
          "output_type": "execute_result",
          "data": {
            "text/plain": [
              "5"
            ]
          },
          "metadata": {},
          "execution_count": 4
        }
      ]
    },
    {
      "cell_type": "markdown",
      "source": [
        "Quels les noms des items ?"
      ],
      "metadata": {
        "id": "veACQ6i9z-y8"
      }
    },
    {
      "cell_type": "code",
      "source": [
        "items = list(dataframe.columns)\n",
        "items"
      ],
      "metadata": {
        "colab": {
          "base_uri": "https://localhost:8080/"
        },
        "id": "eMeeDUWLz9pT",
        "outputId": "a53ff96b-22c2-47f1-f904-f739dcfccaac"
      },
      "execution_count": 5,
      "outputs": [
        {
          "output_type": "execute_result",
          "data": {
            "text/plain": [
              "['Dress',\n",
              " 'Earrings',\n",
              " 'Hat',\n",
              " 'Heels',\n",
              " 'Necklace',\n",
              " 'Pants',\n",
              " 'Sandals',\n",
              " 'Scarf',\n",
              " 'Shirt',\n",
              " 'Skirt',\n",
              " 'Sneakers',\n",
              " 'Sunglasses']"
            ]
          },
          "metadata": {},
          "execution_count": 5
        }
      ]
    },
    {
      "cell_type": "markdown",
      "source": [
        "les articles sont :\n",
        "\n",
        "**Dress** : Robe\n",
        "\n",
        "**Earrings**: Boucles d'oreilles\n",
        "\n",
        "**Hat**:  Chapeau\n",
        "\n",
        "**Heels** : Talons\n",
        "\n",
        "**Necklace** :  Collier\n",
        "\n",
        "**Pants** :  Pantalon\n",
        "\n",
        "**Sandals** : Sandales\n",
        "\n",
        "**Scarf** : Echarpe\n",
        "\n",
        "**Shirt** : Chemise\n",
        "\n",
        "**Skirt** : Jupe\n",
        "\n",
        "**Sneakers** : Baskets\n",
        "\n",
        "**Sunglasses** : Lunettes de soleil\n",
        "\n",
        "L'objectif de cette analyse est d'utdier les affinités entre les articles à travers les 5 transaction enrégistrés\n",
        "\n",
        "\n",
        "\n",
        "\n",
        "\n",
        "\n",
        "\n",
        "\n",
        "\n",
        "\n",
        " \n",
        " \n",
        " \n",
        "\n",
        "\n"
      ],
      "metadata": {
        "id": "FNnQQ8MOacJp"
      }
    },
    {
      "cell_type": "markdown",
      "source": [
        "Décrivons le comportement des articles dans le dataframe"
      ],
      "metadata": {
        "id": "mFwg4uC0JTTx"
      }
    },
    {
      "cell_type": "code",
      "source": [
        "desciption_items = dataframe.describe()\n",
        "desciption_items"
      ],
      "metadata": {
        "colab": {
          "base_uri": "https://localhost:8080/",
          "height": 175
        },
        "id": "lk1U1jNBjumh",
        "outputId": "573088f1-e7e2-4c68-b4cf-ff66469c1e6d"
      },
      "execution_count": 6,
      "outputs": [
        {
          "output_type": "execute_result",
          "data": {
            "text/plain": [
              "        Dress Earrings   Hat  Heels Necklace Pants Sandals Scarf  Shirt Skirt  \\\n",
              "count       5        5     5      5        5     5       5     5      5     5   \n",
              "unique      2        2     2      2        2     2       2     2      2     2   \n",
              "top     False    False  True  False    False  True   False  True  False  True   \n",
              "freq        3        3     3      3        4     4       4     4      4     3   \n",
              "\n",
              "       Sneakers Sunglasses  \n",
              "count         5          5  \n",
              "unique        2          2  \n",
              "top       False      False  \n",
              "freq          3          4  "
            ],
            "text/html": [
              "\n",
              "  <div id=\"df-9a879df5-3eb0-4420-a196-dbe0402dcae1\">\n",
              "    <div class=\"colab-df-container\">\n",
              "      <div>\n",
              "<style scoped>\n",
              "    .dataframe tbody tr th:only-of-type {\n",
              "        vertical-align: middle;\n",
              "    }\n",
              "\n",
              "    .dataframe tbody tr th {\n",
              "        vertical-align: top;\n",
              "    }\n",
              "\n",
              "    .dataframe thead th {\n",
              "        text-align: right;\n",
              "    }\n",
              "</style>\n",
              "<table border=\"1\" class=\"dataframe\">\n",
              "  <thead>\n",
              "    <tr style=\"text-align: right;\">\n",
              "      <th></th>\n",
              "      <th>Dress</th>\n",
              "      <th>Earrings</th>\n",
              "      <th>Hat</th>\n",
              "      <th>Heels</th>\n",
              "      <th>Necklace</th>\n",
              "      <th>Pants</th>\n",
              "      <th>Sandals</th>\n",
              "      <th>Scarf</th>\n",
              "      <th>Shirt</th>\n",
              "      <th>Skirt</th>\n",
              "      <th>Sneakers</th>\n",
              "      <th>Sunglasses</th>\n",
              "    </tr>\n",
              "  </thead>\n",
              "  <tbody>\n",
              "    <tr>\n",
              "      <th>count</th>\n",
              "      <td>5</td>\n",
              "      <td>5</td>\n",
              "      <td>5</td>\n",
              "      <td>5</td>\n",
              "      <td>5</td>\n",
              "      <td>5</td>\n",
              "      <td>5</td>\n",
              "      <td>5</td>\n",
              "      <td>5</td>\n",
              "      <td>5</td>\n",
              "      <td>5</td>\n",
              "      <td>5</td>\n",
              "    </tr>\n",
              "    <tr>\n",
              "      <th>unique</th>\n",
              "      <td>2</td>\n",
              "      <td>2</td>\n",
              "      <td>2</td>\n",
              "      <td>2</td>\n",
              "      <td>2</td>\n",
              "      <td>2</td>\n",
              "      <td>2</td>\n",
              "      <td>2</td>\n",
              "      <td>2</td>\n",
              "      <td>2</td>\n",
              "      <td>2</td>\n",
              "      <td>2</td>\n",
              "    </tr>\n",
              "    <tr>\n",
              "      <th>top</th>\n",
              "      <td>False</td>\n",
              "      <td>False</td>\n",
              "      <td>True</td>\n",
              "      <td>False</td>\n",
              "      <td>False</td>\n",
              "      <td>True</td>\n",
              "      <td>False</td>\n",
              "      <td>True</td>\n",
              "      <td>False</td>\n",
              "      <td>True</td>\n",
              "      <td>False</td>\n",
              "      <td>False</td>\n",
              "    </tr>\n",
              "    <tr>\n",
              "      <th>freq</th>\n",
              "      <td>3</td>\n",
              "      <td>3</td>\n",
              "      <td>3</td>\n",
              "      <td>3</td>\n",
              "      <td>4</td>\n",
              "      <td>4</td>\n",
              "      <td>4</td>\n",
              "      <td>4</td>\n",
              "      <td>4</td>\n",
              "      <td>3</td>\n",
              "      <td>3</td>\n",
              "      <td>4</td>\n",
              "    </tr>\n",
              "  </tbody>\n",
              "</table>\n",
              "</div>\n",
              "      <button class=\"colab-df-convert\" onclick=\"convertToInteractive('df-9a879df5-3eb0-4420-a196-dbe0402dcae1')\"\n",
              "              title=\"Convert this dataframe to an interactive table.\"\n",
              "              style=\"display:none;\">\n",
              "        \n",
              "  <svg xmlns=\"http://www.w3.org/2000/svg\" height=\"24px\"viewBox=\"0 0 24 24\"\n",
              "       width=\"24px\">\n",
              "    <path d=\"M0 0h24v24H0V0z\" fill=\"none\"/>\n",
              "    <path d=\"M18.56 5.44l.94 2.06.94-2.06 2.06-.94-2.06-.94-.94-2.06-.94 2.06-2.06.94zm-11 1L8.5 8.5l.94-2.06 2.06-.94-2.06-.94L8.5 2.5l-.94 2.06-2.06.94zm10 10l.94 2.06.94-2.06 2.06-.94-2.06-.94-.94-2.06-.94 2.06-2.06.94z\"/><path d=\"M17.41 7.96l-1.37-1.37c-.4-.4-.92-.59-1.43-.59-.52 0-1.04.2-1.43.59L10.3 9.45l-7.72 7.72c-.78.78-.78 2.05 0 2.83L4 21.41c.39.39.9.59 1.41.59.51 0 1.02-.2 1.41-.59l7.78-7.78 2.81-2.81c.8-.78.8-2.07 0-2.86zM5.41 20L4 18.59l7.72-7.72 1.47 1.35L5.41 20z\"/>\n",
              "  </svg>\n",
              "      </button>\n",
              "      \n",
              "  <style>\n",
              "    .colab-df-container {\n",
              "      display:flex;\n",
              "      flex-wrap:wrap;\n",
              "      gap: 12px;\n",
              "    }\n",
              "\n",
              "    .colab-df-convert {\n",
              "      background-color: #E8F0FE;\n",
              "      border: none;\n",
              "      border-radius: 50%;\n",
              "      cursor: pointer;\n",
              "      display: none;\n",
              "      fill: #1967D2;\n",
              "      height: 32px;\n",
              "      padding: 0 0 0 0;\n",
              "      width: 32px;\n",
              "    }\n",
              "\n",
              "    .colab-df-convert:hover {\n",
              "      background-color: #E2EBFA;\n",
              "      box-shadow: 0px 1px 2px rgba(60, 64, 67, 0.3), 0px 1px 3px 1px rgba(60, 64, 67, 0.15);\n",
              "      fill: #174EA6;\n",
              "    }\n",
              "\n",
              "    [theme=dark] .colab-df-convert {\n",
              "      background-color: #3B4455;\n",
              "      fill: #D2E3FC;\n",
              "    }\n",
              "\n",
              "    [theme=dark] .colab-df-convert:hover {\n",
              "      background-color: #434B5C;\n",
              "      box-shadow: 0px 1px 3px 1px rgba(0, 0, 0, 0.15);\n",
              "      filter: drop-shadow(0px 1px 2px rgba(0, 0, 0, 0.3));\n",
              "      fill: #FFFFFF;\n",
              "    }\n",
              "  </style>\n",
              "\n",
              "      <script>\n",
              "        const buttonEl =\n",
              "          document.querySelector('#df-9a879df5-3eb0-4420-a196-dbe0402dcae1 button.colab-df-convert');\n",
              "        buttonEl.style.display =\n",
              "          google.colab.kernel.accessAllowed ? 'block' : 'none';\n",
              "\n",
              "        async function convertToInteractive(key) {\n",
              "          const element = document.querySelector('#df-9a879df5-3eb0-4420-a196-dbe0402dcae1');\n",
              "          const dataTable =\n",
              "            await google.colab.kernel.invokeFunction('convertToInteractive',\n",
              "                                                     [key], {});\n",
              "          if (!dataTable) return;\n",
              "\n",
              "          const docLinkHtml = 'Like what you see? Visit the ' +\n",
              "            '<a target=\"_blank\" href=https://colab.research.google.com/notebooks/data_table.ipynb>data table notebook</a>'\n",
              "            + ' to learn more about interactive tables.';\n",
              "          element.innerHTML = '';\n",
              "          dataTable['output_type'] = 'display_data';\n",
              "          await google.colab.output.renderOutput(dataTable, element);\n",
              "          const docLink = document.createElement('div');\n",
              "          docLink.innerHTML = docLinkHtml;\n",
              "          element.appendChild(docLink);\n",
              "        }\n",
              "      </script>\n",
              "    </div>\n",
              "  </div>\n",
              "  "
            ]
          },
          "metadata": {},
          "execution_count": 6
        }
      ]
    },
    {
      "cell_type": "markdown",
      "source": [
        "l'item scandals\n",
        "\n",
        "**count** =  5 : on a 5 transactions\n",
        "\n",
        "**top** = False: l'item scandals n'est pas la variable qui occure le plus dans dans une transaction.\n",
        "\n",
        "**unique**=2 : on a que deux 2 items qui ont été utilisé qu'une fois au cours des différentes transactions à savoir scandals et Sunglasses\n",
        "\n",
        "**freq**=4 : elle n'apparait pas dans 4 transactions sur 5.\n",
        "\n"
      ],
      "metadata": {
        "id": "xGe8rRn8da_J"
      }
    },
    {
      "cell_type": "markdown",
      "source": [
        "Intéressons nous maintenant aux fréquences transactionnelles de nos articles :"
      ],
      "metadata": {
        "id": "NlF2g6MR_xlE"
      }
    },
    {
      "cell_type": "markdown",
      "source": [
        "Quelles sont les fréquences des items?"
      ],
      "metadata": {
        "id": "7UXyHWtDQ8ZA"
      }
    },
    {
      "cell_type": "code",
      "source": [
        "dictionnaire_transation = {k:0 for k in items}\n",
        "for item in items:\n",
        "  for i in  range(Total_Transactions):\n",
        "    if(dataframe.iloc[i][item] == True):\n",
        "      dictionnaire_transation[item] +=1\n",
        "dictionnaire_transation"
      ],
      "metadata": {
        "colab": {
          "base_uri": "https://localhost:8080/"
        },
        "id": "FZwxCc8Eh3pg",
        "outputId": "da45af18-ce00-48eb-c4c5-e91b12a0d8fb"
      },
      "execution_count": 7,
      "outputs": [
        {
          "output_type": "execute_result",
          "data": {
            "text/plain": [
              "{'Dress': 2,\n",
              " 'Earrings': 2,\n",
              " 'Hat': 3,\n",
              " 'Heels': 2,\n",
              " 'Necklace': 1,\n",
              " 'Pants': 4,\n",
              " 'Sandals': 1,\n",
              " 'Scarf': 4,\n",
              " 'Shirt': 1,\n",
              " 'Skirt': 3,\n",
              " 'Sneakers': 2,\n",
              " 'Sunglasses': 1}"
            ]
          },
          "metadata": {},
          "execution_count": 7
        }
      ]
    },
    {
      "cell_type": "markdown",
      "source": [
        "dictionnaire_transation présente un dictionnaire de correspondance entre les articles et leurs occurences dans l'ensemble des transaction.\n",
        "\n",
        "Ainsi on peut voir que l'article Dress (robe) a été vendu 2 fois au cours des 5 transactions."
      ],
      "metadata": {
        "id": "HxN-rbtZRIGB"
      }
    },
    {
      "cell_type": "markdown",
      "source": [
        "pour une meilleur utilisation mettons ce dictionnaire sous le format d'un dataframe"
      ],
      "metadata": {
        "id": "gz3rUpr1R3TQ"
      }
    },
    {
      "cell_type": "code",
      "source": [
        "frequence = pd.DataFrame(dictionnaire_transation,index=range(1)) \n",
        "frequence"
      ],
      "metadata": {
        "colab": {
          "base_uri": "https://localhost:8080/",
          "height": 81
        },
        "id": "E4QljUbGedPy",
        "outputId": "03828085-d90c-4bc3-d0a0-07df44513ba8"
      },
      "execution_count": 8,
      "outputs": [
        {
          "output_type": "execute_result",
          "data": {
            "text/plain": [
              "   Dress  Earrings  Hat  Heels  Necklace  Pants  Sandals  Scarf  Shirt  Skirt  \\\n",
              "0      2         2    3      2         1      4        1      4      1      3   \n",
              "\n",
              "   Sneakers  Sunglasses  \n",
              "0         2           1  "
            ],
            "text/html": [
              "\n",
              "  <div id=\"df-8c604bf1-b5fa-4db3-8662-b6eb6cbec51e\">\n",
              "    <div class=\"colab-df-container\">\n",
              "      <div>\n",
              "<style scoped>\n",
              "    .dataframe tbody tr th:only-of-type {\n",
              "        vertical-align: middle;\n",
              "    }\n",
              "\n",
              "    .dataframe tbody tr th {\n",
              "        vertical-align: top;\n",
              "    }\n",
              "\n",
              "    .dataframe thead th {\n",
              "        text-align: right;\n",
              "    }\n",
              "</style>\n",
              "<table border=\"1\" class=\"dataframe\">\n",
              "  <thead>\n",
              "    <tr style=\"text-align: right;\">\n",
              "      <th></th>\n",
              "      <th>Dress</th>\n",
              "      <th>Earrings</th>\n",
              "      <th>Hat</th>\n",
              "      <th>Heels</th>\n",
              "      <th>Necklace</th>\n",
              "      <th>Pants</th>\n",
              "      <th>Sandals</th>\n",
              "      <th>Scarf</th>\n",
              "      <th>Shirt</th>\n",
              "      <th>Skirt</th>\n",
              "      <th>Sneakers</th>\n",
              "      <th>Sunglasses</th>\n",
              "    </tr>\n",
              "  </thead>\n",
              "  <tbody>\n",
              "    <tr>\n",
              "      <th>0</th>\n",
              "      <td>2</td>\n",
              "      <td>2</td>\n",
              "      <td>3</td>\n",
              "      <td>2</td>\n",
              "      <td>1</td>\n",
              "      <td>4</td>\n",
              "      <td>1</td>\n",
              "      <td>4</td>\n",
              "      <td>1</td>\n",
              "      <td>3</td>\n",
              "      <td>2</td>\n",
              "      <td>1</td>\n",
              "    </tr>\n",
              "  </tbody>\n",
              "</table>\n",
              "</div>\n",
              "      <button class=\"colab-df-convert\" onclick=\"convertToInteractive('df-8c604bf1-b5fa-4db3-8662-b6eb6cbec51e')\"\n",
              "              title=\"Convert this dataframe to an interactive table.\"\n",
              "              style=\"display:none;\">\n",
              "        \n",
              "  <svg xmlns=\"http://www.w3.org/2000/svg\" height=\"24px\"viewBox=\"0 0 24 24\"\n",
              "       width=\"24px\">\n",
              "    <path d=\"M0 0h24v24H0V0z\" fill=\"none\"/>\n",
              "    <path d=\"M18.56 5.44l.94 2.06.94-2.06 2.06-.94-2.06-.94-.94-2.06-.94 2.06-2.06.94zm-11 1L8.5 8.5l.94-2.06 2.06-.94-2.06-.94L8.5 2.5l-.94 2.06-2.06.94zm10 10l.94 2.06.94-2.06 2.06-.94-2.06-.94-.94-2.06-.94 2.06-2.06.94z\"/><path d=\"M17.41 7.96l-1.37-1.37c-.4-.4-.92-.59-1.43-.59-.52 0-1.04.2-1.43.59L10.3 9.45l-7.72 7.72c-.78.78-.78 2.05 0 2.83L4 21.41c.39.39.9.59 1.41.59.51 0 1.02-.2 1.41-.59l7.78-7.78 2.81-2.81c.8-.78.8-2.07 0-2.86zM5.41 20L4 18.59l7.72-7.72 1.47 1.35L5.41 20z\"/>\n",
              "  </svg>\n",
              "      </button>\n",
              "      \n",
              "  <style>\n",
              "    .colab-df-container {\n",
              "      display:flex;\n",
              "      flex-wrap:wrap;\n",
              "      gap: 12px;\n",
              "    }\n",
              "\n",
              "    .colab-df-convert {\n",
              "      background-color: #E8F0FE;\n",
              "      border: none;\n",
              "      border-radius: 50%;\n",
              "      cursor: pointer;\n",
              "      display: none;\n",
              "      fill: #1967D2;\n",
              "      height: 32px;\n",
              "      padding: 0 0 0 0;\n",
              "      width: 32px;\n",
              "    }\n",
              "\n",
              "    .colab-df-convert:hover {\n",
              "      background-color: #E2EBFA;\n",
              "      box-shadow: 0px 1px 2px rgba(60, 64, 67, 0.3), 0px 1px 3px 1px rgba(60, 64, 67, 0.15);\n",
              "      fill: #174EA6;\n",
              "    }\n",
              "\n",
              "    [theme=dark] .colab-df-convert {\n",
              "      background-color: #3B4455;\n",
              "      fill: #D2E3FC;\n",
              "    }\n",
              "\n",
              "    [theme=dark] .colab-df-convert:hover {\n",
              "      background-color: #434B5C;\n",
              "      box-shadow: 0px 1px 3px 1px rgba(0, 0, 0, 0.15);\n",
              "      filter: drop-shadow(0px 1px 2px rgba(0, 0, 0, 0.3));\n",
              "      fill: #FFFFFF;\n",
              "    }\n",
              "  </style>\n",
              "\n",
              "      <script>\n",
              "        const buttonEl =\n",
              "          document.querySelector('#df-8c604bf1-b5fa-4db3-8662-b6eb6cbec51e button.colab-df-convert');\n",
              "        buttonEl.style.display =\n",
              "          google.colab.kernel.accessAllowed ? 'block' : 'none';\n",
              "\n",
              "        async function convertToInteractive(key) {\n",
              "          const element = document.querySelector('#df-8c604bf1-b5fa-4db3-8662-b6eb6cbec51e');\n",
              "          const dataTable =\n",
              "            await google.colab.kernel.invokeFunction('convertToInteractive',\n",
              "                                                     [key], {});\n",
              "          if (!dataTable) return;\n",
              "\n",
              "          const docLinkHtml = 'Like what you see? Visit the ' +\n",
              "            '<a target=\"_blank\" href=https://colab.research.google.com/notebooks/data_table.ipynb>data table notebook</a>'\n",
              "            + ' to learn more about interactive tables.';\n",
              "          element.innerHTML = '';\n",
              "          dataTable['output_type'] = 'display_data';\n",
              "          await google.colab.output.renderOutput(dataTable, element);\n",
              "          const docLink = document.createElement('div');\n",
              "          docLink.innerHTML = docLinkHtml;\n",
              "          element.appendChild(docLink);\n",
              "        }\n",
              "      </script>\n",
              "    </div>\n",
              "  </div>\n",
              "  "
            ]
          },
          "metadata": {},
          "execution_count": 8
        }
      ]
    },
    {
      "cell_type": "markdown",
      "source": [
        "Qui sont les items les plus fréquents ?"
      ],
      "metadata": {
        "id": "OxUOm3wIPWaY"
      }
    },
    {
      "cell_type": "markdown",
      "source": [
        "On a créer un dataframe qui présente les items ainsi que leur frequences avec un filtrage descendant."
      ],
      "metadata": {
        "id": "tn-fGS7FUWYX"
      }
    },
    {
      "cell_type": "code",
      "source": [
        "df = pd.DataFrame()\n",
        "df['items'] = frequence.columns\n",
        "df['frequences'] = frequence.T.values\n",
        "df = df.sort_values(by='frequences', ascending=False)\n",
        "df.head()"
      ],
      "metadata": {
        "colab": {
          "base_uri": "https://localhost:8080/",
          "height": 206
        },
        "id": "FAU-EhBw6OtG",
        "outputId": "b2266b05-02a6-4eba-946a-9973c65c2533"
      },
      "execution_count": 9,
      "outputs": [
        {
          "output_type": "execute_result",
          "data": {
            "text/plain": [
              "   items  frequences\n",
              "5  Pants           4\n",
              "7  Scarf           4\n",
              "2    Hat           3\n",
              "9  Skirt           3\n",
              "0  Dress           2"
            ],
            "text/html": [
              "\n",
              "  <div id=\"df-f66bb7b5-b11f-4981-a2e7-b295af24cc28\">\n",
              "    <div class=\"colab-df-container\">\n",
              "      <div>\n",
              "<style scoped>\n",
              "    .dataframe tbody tr th:only-of-type {\n",
              "        vertical-align: middle;\n",
              "    }\n",
              "\n",
              "    .dataframe tbody tr th {\n",
              "        vertical-align: top;\n",
              "    }\n",
              "\n",
              "    .dataframe thead th {\n",
              "        text-align: right;\n",
              "    }\n",
              "</style>\n",
              "<table border=\"1\" class=\"dataframe\">\n",
              "  <thead>\n",
              "    <tr style=\"text-align: right;\">\n",
              "      <th></th>\n",
              "      <th>items</th>\n",
              "      <th>frequences</th>\n",
              "    </tr>\n",
              "  </thead>\n",
              "  <tbody>\n",
              "    <tr>\n",
              "      <th>5</th>\n",
              "      <td>Pants</td>\n",
              "      <td>4</td>\n",
              "    </tr>\n",
              "    <tr>\n",
              "      <th>7</th>\n",
              "      <td>Scarf</td>\n",
              "      <td>4</td>\n",
              "    </tr>\n",
              "    <tr>\n",
              "      <th>2</th>\n",
              "      <td>Hat</td>\n",
              "      <td>3</td>\n",
              "    </tr>\n",
              "    <tr>\n",
              "      <th>9</th>\n",
              "      <td>Skirt</td>\n",
              "      <td>3</td>\n",
              "    </tr>\n",
              "    <tr>\n",
              "      <th>0</th>\n",
              "      <td>Dress</td>\n",
              "      <td>2</td>\n",
              "    </tr>\n",
              "  </tbody>\n",
              "</table>\n",
              "</div>\n",
              "      <button class=\"colab-df-convert\" onclick=\"convertToInteractive('df-f66bb7b5-b11f-4981-a2e7-b295af24cc28')\"\n",
              "              title=\"Convert this dataframe to an interactive table.\"\n",
              "              style=\"display:none;\">\n",
              "        \n",
              "  <svg xmlns=\"http://www.w3.org/2000/svg\" height=\"24px\"viewBox=\"0 0 24 24\"\n",
              "       width=\"24px\">\n",
              "    <path d=\"M0 0h24v24H0V0z\" fill=\"none\"/>\n",
              "    <path d=\"M18.56 5.44l.94 2.06.94-2.06 2.06-.94-2.06-.94-.94-2.06-.94 2.06-2.06.94zm-11 1L8.5 8.5l.94-2.06 2.06-.94-2.06-.94L8.5 2.5l-.94 2.06-2.06.94zm10 10l.94 2.06.94-2.06 2.06-.94-2.06-.94-.94-2.06-.94 2.06-2.06.94z\"/><path d=\"M17.41 7.96l-1.37-1.37c-.4-.4-.92-.59-1.43-.59-.52 0-1.04.2-1.43.59L10.3 9.45l-7.72 7.72c-.78.78-.78 2.05 0 2.83L4 21.41c.39.39.9.59 1.41.59.51 0 1.02-.2 1.41-.59l7.78-7.78 2.81-2.81c.8-.78.8-2.07 0-2.86zM5.41 20L4 18.59l7.72-7.72 1.47 1.35L5.41 20z\"/>\n",
              "  </svg>\n",
              "      </button>\n",
              "      \n",
              "  <style>\n",
              "    .colab-df-container {\n",
              "      display:flex;\n",
              "      flex-wrap:wrap;\n",
              "      gap: 12px;\n",
              "    }\n",
              "\n",
              "    .colab-df-convert {\n",
              "      background-color: #E8F0FE;\n",
              "      border: none;\n",
              "      border-radius: 50%;\n",
              "      cursor: pointer;\n",
              "      display: none;\n",
              "      fill: #1967D2;\n",
              "      height: 32px;\n",
              "      padding: 0 0 0 0;\n",
              "      width: 32px;\n",
              "    }\n",
              "\n",
              "    .colab-df-convert:hover {\n",
              "      background-color: #E2EBFA;\n",
              "      box-shadow: 0px 1px 2px rgba(60, 64, 67, 0.3), 0px 1px 3px 1px rgba(60, 64, 67, 0.15);\n",
              "      fill: #174EA6;\n",
              "    }\n",
              "\n",
              "    [theme=dark] .colab-df-convert {\n",
              "      background-color: #3B4455;\n",
              "      fill: #D2E3FC;\n",
              "    }\n",
              "\n",
              "    [theme=dark] .colab-df-convert:hover {\n",
              "      background-color: #434B5C;\n",
              "      box-shadow: 0px 1px 3px 1px rgba(0, 0, 0, 0.15);\n",
              "      filter: drop-shadow(0px 1px 2px rgba(0, 0, 0, 0.3));\n",
              "      fill: #FFFFFF;\n",
              "    }\n",
              "  </style>\n",
              "\n",
              "      <script>\n",
              "        const buttonEl =\n",
              "          document.querySelector('#df-f66bb7b5-b11f-4981-a2e7-b295af24cc28 button.colab-df-convert');\n",
              "        buttonEl.style.display =\n",
              "          google.colab.kernel.accessAllowed ? 'block' : 'none';\n",
              "\n",
              "        async function convertToInteractive(key) {\n",
              "          const element = document.querySelector('#df-f66bb7b5-b11f-4981-a2e7-b295af24cc28');\n",
              "          const dataTable =\n",
              "            await google.colab.kernel.invokeFunction('convertToInteractive',\n",
              "                                                     [key], {});\n",
              "          if (!dataTable) return;\n",
              "\n",
              "          const docLinkHtml = 'Like what you see? Visit the ' +\n",
              "            '<a target=\"_blank\" href=https://colab.research.google.com/notebooks/data_table.ipynb>data table notebook</a>'\n",
              "            + ' to learn more about interactive tables.';\n",
              "          element.innerHTML = '';\n",
              "          dataTable['output_type'] = 'display_data';\n",
              "          await google.colab.output.renderOutput(dataTable, element);\n",
              "          const docLink = document.createElement('div');\n",
              "          docLink.innerHTML = docLinkHtml;\n",
              "          element.appendChild(docLink);\n",
              "        }\n",
              "      </script>\n",
              "    </div>\n",
              "  </div>\n",
              "  "
            ]
          },
          "metadata": {},
          "execution_count": 9
        }
      ]
    },
    {
      "cell_type": "markdown",
      "source": [
        "\n",
        "\n",
        "Visualisons maintenant les articles les plus fréquents"
      ],
      "metadata": {
        "id": "uCOTdbmzOWex"
      }
    },
    {
      "cell_type": "code",
      "source": [
        "f, ax = plt.subplots(figsize =(15, 10))\n",
        "sns.barplot(data=df, x='items',y='frequences')\n",
        "sns.despine(offset=10, trim=True);\n",
        "ax.set_xlabel('Fréquences', fontsize=12)\n",
        "ax.set_ylabel('Noms des items', fontsize=12)\n",
        "ax.set_title('Les articles les plus fréquents', fontsize=15)"
      ],
      "metadata": {
        "colab": {
          "base_uri": "https://localhost:8080/",
          "height": 654
        },
        "id": "19ZpkOJt-7uz",
        "outputId": "b3f3f23b-7a48-422c-e027-db237ea95f64"
      },
      "execution_count": 10,
      "outputs": [
        {
          "output_type": "execute_result",
          "data": {
            "text/plain": [
              "Text(0.5, 1.0, 'Les articles les plus fréquents')"
            ]
          },
          "metadata": {},
          "execution_count": 10
        },
        {
          "output_type": "display_data",
          "data": {
            "text/plain": [
              "<Figure size 1080x720 with 1 Axes>"
            ],
            "image/png": "[encoded data removed]"
          },
          "metadata": {
            "needs_background": "light"
          }
        }
      ]
    },
    {
      "cell_type": "markdown",
      "source": [
        "* En Tête on a les articles Pants et Scarf qui occurent : **4**x\n",
        "* Suivit de Skirt et Hat: **3**x\n",
        "* puis Dress, Earnings, Heels et Sneakers : **3**x\n",
        "* Et enfin Necklace, Scandals, shirt et Sungclasses : **1**x \n",
        "\n",
        "Ainsi au cours des transactions les articles les plus demandés sont des **Pantalons** et  des **Echarpes**."
      ],
      "metadata": {
        "id": "AQvcFQaOSQOS"
      }
    },
    {
      "cell_type": "markdown",
      "source": [
        "## Plot with squarify\n",
        "**Objectif** :\n",
        "\n",
        "* Pour afficher le modèle de distribution des transactions à travers chaque niveau de catégories dans la hiérarchie.\n",
        "\n",
        "* Pour afficher les items en utilisant la taille et le code couleur.\n",
        "\n",
        "Pour ce faire il faut d'abord installer la bibliothèque **squarify**."
      ],
      "metadata": {
        "id": "S-ofosq1Ai1P"
      }
    },
    {
      "cell_type": "code",
      "source": [
        "pip install squarify"
      ],
      "metadata": {
        "colab": {
          "base_uri": "https://localhost:8080/"
        },
        "id": "nCFeUYxbuW9a",
        "outputId": "23202c3c-adce-4299-8358-a0b1fd535369"
      },
      "execution_count": 11,
      "outputs": [
        {
          "output_type": "stream",
          "name": "stdout",
          "text": [
            "Looking in indexes: https://pypi.org/simple, https://us-python.pkg.dev/colab-wheels/public/simple/\n",
            "Collecting squarify\n",
            "  Downloading squarify-0.4.3-py3-none-any.whl (4.3 kB)\n",
            "Installing collected packages: squarify\n",
            "Successfully installed squarify-0.4.3\n"
          ]
        }
      ]
    },
    {
      "cell_type": "markdown",
      "source": [
        "Un diagramme **Treemap** est un type de visualisation approprié lorsque l'ensemble de données est structuré dans un ordre hiérarchique avec une disposition arborescente avec des racines, des branches et des nœuds. Il nous permet d'afficher des informations sur une quantité importante de données de manière très efficace dans un espace limité. \n",
        "\n",
        "L'argument alpha permet de faire varier l'opacité de l'image"
      ],
      "metadata": {
        "id": "aCOhywCYbft0"
      }
    },
    {
      "cell_type": "code",
      "source": [
        "import squarify\n",
        "f, ax = plt.subplots(figsize =(15, 10))\n",
        "sns.set_style(style=\"whitegrid\")\n",
        "sizes=df['frequences']\n",
        "label=df['items']\n",
        "squarify.plot(sizes=sizes, \n",
        "              label=label, \n",
        "              alpha=0.8,\n",
        "              color=sns.color_palette(\"Spectral\", \n",
        "                                     len(df)),\n",
        "               pad=1,\n",
        "               text_kwargs={'fontsize': 18}\n",
        "              )\n",
        "ax.set_title('Diagramme Treemap  avec Squarify \\n', fontsize=20)\n",
        "\n",
        "plt.axis('off')\n",
        "plt.show()"
      ],
      "metadata": {
        "colab": {
          "base_uri": "https://localhost:8080/",
          "height": 618
        },
        "id": "tpyT5q1S5dXn",
        "outputId": "13fd08f9-fa46-4040-9259-d6fef66e5309"
      },
      "execution_count": 12,
      "outputs": [
        {
          "output_type": "display_data",
          "data": {
            "text/plain": [
              "<Figure size 1080x720 with 1 Axes>"
            ],
            "image/png": "[encoded data removed]"
          },
          "metadata": {
            "needs_background": "light"
          }
        }
      ]
    },
    {
      "cell_type": "markdown",
      "source": [
        "Notre **Treemap** nous permet de voir la hiéarchie ainsi que des associations par affinité entres les différentes catégorie d'articles.\n",
        "\n",
        "**vêtements** : Robe, Chemise , Pantalon, Jupe\n",
        "\n",
        "**chaussures** :Talons, Sandales, Baskets\n",
        "\n",
        "**accessoires** : Boucles d'oreilles, Chapeau, Collier, Echarpe, Lunettes de soleil\n",
        "\n",
        "* Une association des accessoires et de chaussures tels que **Earning** et **Heels** sont proches l'une de l'autre est très appréciable.\n",
        "\n",
        "* Une association des accessoires et de vêtement et de chaussures tels que **shirt**, **necklace**, **scandal**, **Sunglass** sont très proches.\n",
        "* Une association des accessoires et de vêtement tels que **Hat**, **Scarf**, **Pants** est aussi très intérressant.\n",
        "* une association de vetêments : **Skirt**, **Dress** est appréciable\n"
      ],
      "metadata": {
        "id": "xhXoyX9p6x3H"
      }
    },
    {
      "cell_type": "markdown",
      "source": [
        "## Graph networkx\n",
        "Networkx va nous permetre de génerer des topologies de réseau dans le but de voir la rélation en les **Noeuds** (entiers) et les arretes (catégorique) en implémentant notre stucture de données hiéarchisé qui est le dataframe frequence \n",
        "\n",
        "**nodes ou noeud** : répresentent les articles ou items \n",
        "\n",
        "**edges ou arrêtes** : fréquence des articles "
      ],
      "metadata": {
        "id": "w1J2UHmj9SKf"
      }
    },
    {
      "cell_type": "code",
      "source": [
        "\n",
        "pip install networkx"
      ],
      "metadata": {
        "colab": {
          "base_uri": "https://localhost:8080/"
        },
        "id": "qnti0kdD7k36",
        "outputId": "e2922bd9-9947-42fe-9535-25cc55dc7037"
      },
      "execution_count": 13,
      "outputs": [
        {
          "output_type": "stream",
          "name": "stdout",
          "text": [
            "Looking in indexes: https://pypi.org/simple, https://us-python.pkg.dev/colab-wheels/public/simple/\n",
            "Requirement already satisfied: networkx in /usr/local/lib/python3.7/dist-packages (2.6.3)\n"
          ]
        }
      ]
    },
    {
      "cell_type": "code",
      "source": [
        "import networkx as nx"
      ],
      "metadata": {
        "id": "KnKUM6vem_Na"
      },
      "execution_count": 14,
      "outputs": []
    },
    {
      "cell_type": "code",
      "source": [
        "f, ax = plt.subplots(figsize =(15, 10))\n",
        "G = nx.from_pandas_edgelist(df, 'items', 'frequences')\n",
        "colors=[\n",
        "        '#C3F8FF',\n",
        "        '#ABD9FF',\n",
        "        '#FFF6BF',\n",
        "        '#FFEBAD',\n",
        "        ]\n",
        "color_map = []\n",
        "for node in G:\n",
        "    if node in list(df.frequences):\n",
        "      color_map.append(colors[0])\n",
        "    else: \n",
        "        color_map.append(colors[2])      \n",
        "nx.draw(G, \n",
        "        node_color=color_map, \n",
        "        with_labels=True, \n",
        "        font_size=18,\n",
        "        font_color='b',\n",
        "        node_size=500,\n",
        "        arrowsize = 50,\n",
        "        )\n",
        "ax.set_title('Topologie Réseau des articles avec networkx \\n', fontsize=20)\n",
        "plt.show()"
      ],
      "metadata": {
        "colab": {
          "base_uri": "https://localhost:8080/",
          "height": 619
        },
        "id": "Sh7oVAcIDt0c",
        "outputId": "6a03caca-8094-44ad-9842-ac0f39bbcc8a"
      },
      "execution_count": 17,
      "outputs": [
        {
          "output_type": "display_data",
          "data": {
            "text/plain": [
              "<Figure size 1080x720 with 1 Axes>"
            ],
            "image/png": "[encoded data removed]"
          },
          "metadata": {}
        }
      ]
    },
    {
      "cell_type": "markdown",
      "source": [
        "on obtien des affinité suivantes :\n",
        "\n",
        "* Dress, Sneakers , Earnings, heels appartiennent au même réseau \n",
        "\n",
        "* skirt, hat appartiennent au même réseau \n",
        "\n",
        "* scarf et pants appartiennent au même réseau  \n",
        "\n",
        "* scandal, Necklace, Sunglasses , shirt appartiennent au même réseau \n",
        "\n"
      ],
      "metadata": {
        "id": "ggjopPKjx_Co"
      }
    },
    {
      "cell_type": "markdown",
      "source": [
        "## Correlation entre les items "
      ],
      "metadata": {
        "id": "086lzCDOA7Ww"
      }
    },
    {
      "cell_type": "markdown",
      "source": [
        "Etudions de plus près la correlation entre les variables "
      ],
      "metadata": {
        "id": "fA6zSvjyvbdz"
      }
    },
    {
      "cell_type": "code",
      "source": [
        "dataframe.corr()"
      ],
      "metadata": {
        "colab": {
          "base_uri": "https://localhost:8080/",
          "height": 426
        },
        "id": "yI1m4IxASZzH",
        "outputId": "f02083a7-81df-40e2-a0e1-f96e31f60fad"
      },
      "execution_count": 16,
      "outputs": [
        {
          "output_type": "execute_result",
          "data": {
            "text/plain": [
              "               Dress  Earrings       Hat     Heels  Necklace     Pants  \\\n",
              "Dress       1.000000  0.166667 -0.166667  1.000000  0.612372 -0.612372   \n",
              "Earrings    0.166667  1.000000 -0.166667  0.166667  0.612372 -0.612372   \n",
              "Hat        -0.166667 -0.166667  1.000000 -0.166667  0.408248 -0.408248   \n",
              "Heels       1.000000  0.166667 -0.166667  1.000000  0.612372 -0.612372   \n",
              "Necklace    0.612372  0.612372  0.408248  0.612372  1.000000 -1.000000   \n",
              "Pants      -0.612372 -0.612372 -0.408248 -0.612372 -1.000000  1.000000   \n",
              "Sandals     0.612372 -0.408248 -0.612372  0.612372 -0.250000  0.250000   \n",
              "Scarf       0.408248  0.408248 -0.408248  0.408248  0.250000 -0.250000   \n",
              "Shirt      -0.408248  0.612372 -0.612372 -0.408248 -0.250000  0.250000   \n",
              "Skirt      -1.000000 -0.166667  0.166667 -1.000000 -0.612372  0.612372   \n",
              "Sneakers   -0.666667 -0.666667  0.666667 -0.666667 -0.408248  0.408248   \n",
              "Sunglasses -0.408248 -0.408248  0.408248 -0.408248 -0.250000  0.250000   \n",
              "\n",
              "             Sandals     Scarf     Shirt     Skirt  Sneakers  Sunglasses  \n",
              "Dress       0.612372  0.408248 -0.408248 -1.000000 -0.666667   -0.408248  \n",
              "Earrings   -0.408248  0.408248  0.612372 -0.166667 -0.666667   -0.408248  \n",
              "Hat        -0.612372 -0.408248 -0.612372  0.166667  0.666667    0.408248  \n",
              "Heels       0.612372  0.408248 -0.408248 -1.000000 -0.666667   -0.408248  \n",
              "Necklace   -0.250000  0.250000 -0.250000 -0.612372 -0.408248   -0.250000  \n",
              "Pants       0.250000 -0.250000  0.250000  0.612372  0.408248    0.250000  \n",
              "Sandals     1.000000  0.250000 -0.250000 -0.612372 -0.408248   -0.250000  \n",
              "Scarf       0.250000  1.000000  0.250000 -0.408248 -0.612372   -1.000000  \n",
              "Shirt      -0.250000  0.250000  1.000000  0.408248 -0.408248   -0.250000  \n",
              "Skirt      -0.612372 -0.408248  0.408248  1.000000  0.666667    0.408248  \n",
              "Sneakers   -0.408248 -0.612372 -0.408248  0.666667  1.000000    0.612372  \n",
              "Sunglasses -0.250000 -1.000000 -0.250000  0.408248  0.612372    1.000000  "
            ],
            "text/html": [
              "\n",
              "  <div id=\"df-dc55a604-0f7e-46d8-aa39-38edd7ce3908\">\n",
              "    <div class=\"colab-df-container\">\n",
              "      <div>\n",
              "<style scoped>\n",
              "    .dataframe tbody tr th:only-of-type {\n",
              "        vertical-align: middle;\n",
              "    }\n",
              "\n",
              "    .dataframe tbody tr th {\n",
              "        vertical-align: top;\n",
              "    }\n",
              "\n",
              "    .dataframe thead th {\n",
              "        text-align: right;\n",
              "    }\n",
              "</style>\n",
              "<table border=\"1\" class=\"dataframe\">\n",
              "  <thead>\n",
              "    <tr style=\"text-align: right;\">\n",
              "      <th></th>\n",
              "      <th>Dress</th>\n",
              "      <th>Earrings</th>\n",
              "      <th>Hat</th>\n",
              "      <th>Heels</th>\n",
              "      <th>Necklace</th>\n",
              "      <th>Pants</th>\n",
              "      <th>Sandals</th>\n",
              "      <th>Scarf</th>\n",
              "      <th>Shirt</th>\n",
              "      <th>Skirt</th>\n",
              "      <th>Sneakers</th>\n",
              "      <th>Sunglasses</th>\n",
              "    </tr>\n",
              "  </thead>\n",
              "  <tbody>\n",
              "    <tr>\n",
              "      <th>Dress</th>\n",
              "      <td>1.000000</td>\n",
              "      <td>0.166667</td>\n",
              "      <td>-0.166667</td>\n",
              "      <td>1.000000</td>\n",
              "      <td>0.612372</td>\n",
              "      <td>-0.612372</td>\n",
              "      <td>0.612372</td>\n",
              "      <td>0.408248</td>\n",
              "      <td>-0.408248</td>\n",
              "      <td>-1.000000</td>\n",
              "      <td>-0.666667</td>\n",
              "      <td>-0.408248</td>\n",
              "    </tr>\n",
              "    <tr>\n",
              "      <th>Earrings</th>\n",
              "      <td>0.166667</td>\n",
              "      <td>1.000000</td>\n",
              "      <td>-0.166667</td>\n",
              "      <td>0.166667</td>\n",
              "      <td>0.612372</td>\n",
              "      <td>-0.612372</td>\n",
              "      <td>-0.408248</td>\n",
              "      <td>0.408248</td>\n",
              "      <td>0.612372</td>\n",
              "      <td>-0.166667</td>\n",
              "      <td>-0.666667</td>\n",
              "      <td>-0.408248</td>\n",
              "    </tr>\n",
              "    <tr>\n",
              "      <th>Hat</th>\n",
              "      <td>-0.166667</td>\n",
              "      <td>-0.166667</td>\n",
              "      <td>1.000000</td>\n",
              "      <td>-0.166667</td>\n",
              "      <td>0.408248</td>\n",
              "      <td>-0.408248</td>\n",
              "      <td>-0.612372</td>\n",
              "      <td>-0.408248</td>\n",
              "      <td>-0.612372</td>\n",
              "      <td>0.166667</td>\n",
              "      <td>0.666667</td>\n",
              "      <td>0.408248</td>\n",
              "    </tr>\n",
              "    <tr>\n",
              "      <th>Heels</th>\n",
              "      <td>1.000000</td>\n",
              "      <td>0.166667</td>\n",
              "      <td>-0.166667</td>\n",
              "      <td>1.000000</td>\n",
              "      <td>0.612372</td>\n",
              "      <td>-0.612372</td>\n",
              "      <td>0.612372</td>\n",
              "      <td>0.408248</td>\n",
              "      <td>-0.408248</td>\n",
              "      <td>-1.000000</td>\n",
              "      <td>-0.666667</td>\n",
              "      <td>-0.408248</td>\n",
              "    </tr>\n",
              "    <tr>\n",
              "      <th>Necklace</th>\n",
              "      <td>0.612372</td>\n",
              "      <td>0.612372</td>\n",
              "      <td>0.408248</td>\n",
              "      <td>0.612372</td>\n",
              "      <td>1.000000</td>\n",
              "      <td>-1.000000</td>\n",
              "      <td>-0.250000</td>\n",
              "      <td>0.250000</td>\n",
              "      <td>-0.250000</td>\n",
              "      <td>-0.612372</td>\n",
              "      <td>-0.408248</td>\n",
              "      <td>-0.250000</td>\n",
              "    </tr>\n",
              "    <tr>\n",
              "      <th>Pants</th>\n",
              "      <td>-0.612372</td>\n",
              "      <td>-0.612372</td>\n",
              "      <td>-0.408248</td>\n",
              "      <td>-0.612372</td>\n",
              "      <td>-1.000000</td>\n",
              "      <td>1.000000</td>\n",
              "      <td>0.250000</td>\n",
              "      <td>-0.250000</td>\n",
              "      <td>0.250000</td>\n",
              "      <td>0.612372</td>\n",
              "      <td>0.408248</td>\n",
              "      <td>0.250000</td>\n",
              "    </tr>\n",
              "    <tr>\n",
              "      <th>Sandals</th>\n",
              "      <td>0.612372</td>\n",
              "      <td>-0.408248</td>\n",
              "      <td>-0.612372</td>\n",
              "      <td>0.612372</td>\n",
              "      <td>-0.250000</td>\n",
              "      <td>0.250000</td>\n",
              "      <td>1.000000</td>\n",
              "      <td>0.250000</td>\n",
              "      <td>-0.250000</td>\n",
              "      <td>-0.612372</td>\n",
              "      <td>-0.408248</td>\n",
              "      <td>-0.250000</td>\n",
              "    </tr>\n",
              "    <tr>\n",
              "      <th>Scarf</th>\n",
              "      <td>0.408248</td>\n",
              "      <td>0.408248</td>\n",
              "      <td>-0.408248</td>\n",
              "      <td>0.408248</td>\n",
              "      <td>0.250000</td>\n",
              "      <td>-0.250000</td>\n",
              "      <td>0.250000</td>\n",
              "      <td>1.000000</td>\n",
              "      <td>0.250000</td>\n",
              "      <td>-0.408248</td>\n",
              "      <td>-0.612372</td>\n",
              "      <td>-1.000000</td>\n",
              "    </tr>\n",
              "    <tr>\n",
              "      <th>Shirt</th>\n",
              "      <td>-0.408248</td>\n",
              "      <td>0.612372</td>\n",
              "      <td>-0.612372</td>\n",
              "      <td>-0.408248</td>\n",
              "      <td>-0.250000</td>\n",
              "      <td>0.250000</td>\n",
              "      <td>-0.250000</td>\n",
              "      <td>0.250000</td>\n",
              "      <td>1.000000</td>\n",
              "      <td>0.408248</td>\n",
              "      <td>-0.408248</td>\n",
              "      <td>-0.250000</td>\n",
              "    </tr>\n",
              "    <tr>\n",
              "      <th>Skirt</th>\n",
              "      <td>-1.000000</td>\n",
              "      <td>-0.166667</td>\n",
              "      <td>0.166667</td>\n",
              "      <td>-1.000000</td>\n",
              "      <td>-0.612372</td>\n",
              "      <td>0.612372</td>\n",
              "      <td>-0.612372</td>\n",
              "      <td>-0.408248</td>\n",
              "      <td>0.408248</td>\n",
              "      <td>1.000000</td>\n",
              "      <td>0.666667</td>\n",
              "      <td>0.408248</td>\n",
              "    </tr>\n",
              "    <tr>\n",
              "      <th>Sneakers</th>\n",
              "      <td>-0.666667</td>\n",
              "      <td>-0.666667</td>\n",
              "      <td>0.666667</td>\n",
              "      <td>-0.666667</td>\n",
              "      <td>-0.408248</td>\n",
              "      <td>0.408248</td>\n",
              "      <td>-0.408248</td>\n",
              "      <td>-0.612372</td>\n",
              "      <td>-0.408248</td>\n",
              "      <td>0.666667</td>\n",
              "      <td>1.000000</td>\n",
              "      <td>0.612372</td>\n",
              "    </tr>\n",
              "    <tr>\n",
              "      <th>Sunglasses</th>\n",
              "      <td>-0.408248</td>\n",
              "      <td>-0.408248</td>\n",
              "      <td>0.408248</td>\n",
              "      <td>-0.408248</td>\n",
              "      <td>-0.250000</td>\n",
              "      <td>0.250000</td>\n",
              "      <td>-0.250000</td>\n",
              "      <td>-1.000000</td>\n",
              "      <td>-0.250000</td>\n",
              "      <td>0.408248</td>\n",
              "      <td>0.612372</td>\n",
              "      <td>1.000000</td>\n",
              "    </tr>\n",
              "  </tbody>\n",
              "</table>\n",
              "</div>\n",
              "      <button class=\"colab-df-convert\" onclick=\"convertToInteractive('df-dc55a604-0f7e-46d8-aa39-38edd7ce3908')\"\n",
              "              title=\"Convert this dataframe to an interactive table.\"\n",
              "              style=\"display:none;\">\n",
              "        \n",
              "  <svg xmlns=\"http://www.w3.org/2000/svg\" height=\"24px\"viewBox=\"0 0 24 24\"\n",
              "       width=\"24px\">\n",
              "    <path d=\"M0 0h24v24H0V0z\" fill=\"none\"/>\n",
              "    <path d=\"M18.56 5.44l.94 2.06.94-2.06 2.06-.94-2.06-.94-.94-2.06-.94 2.06-2.06.94zm-11 1L8.5 8.5l.94-2.06 2.06-.94-2.06-.94L8.5 2.5l-.94 2.06-2.06.94zm10 10l.94 2.06.94-2.06 2.06-.94-2.06-.94-.94-2.06-.94 2.06-2.06.94z\"/><path d=\"M17.41 7.96l-1.37-1.37c-.4-.4-.92-.59-1.43-.59-.52 0-1.04.2-1.43.59L10.3 9.45l-7.72 7.72c-.78.78-.78 2.05 0 2.83L4 21.41c.39.39.9.59 1.41.59.51 0 1.02-.2 1.41-.59l7.78-7.78 2.81-2.81c.8-.78.8-2.07 0-2.86zM5.41 20L4 18.59l7.72-7.72 1.47 1.35L5.41 20z\"/>\n",
              "  </svg>\n",
              "      </button>\n",
              "      \n",
              "  <style>\n",
              "    .colab-df-container {\n",
              "      display:flex;\n",
              "      flex-wrap:wrap;\n",
              "      gap: 12px;\n",
              "    }\n",
              "\n",
              "    .colab-df-convert {\n",
              "      background-color: #E8F0FE;\n",
              "      border: none;\n",
              "      border-radius: 50%;\n",
              "      cursor: pointer;\n",
              "      display: none;\n",
              "      fill: #1967D2;\n",
              "      height: 32px;\n",
              "      padding: 0 0 0 0;\n",
              "      width: 32px;\n",
              "    }\n",
              "\n",
              "    .colab-df-convert:hover {\n",
              "      background-color: #E2EBFA;\n",
              "      box-shadow: 0px 1px 2px rgba(60, 64, 67, 0.3), 0px 1px 3px 1px rgba(60, 64, 67, 0.15);\n",
              "      fill: #174EA6;\n",
              "    }\n",
              "\n",
              "    [theme=dark] .colab-df-convert {\n",
              "      background-color: #3B4455;\n",
              "      fill: #D2E3FC;\n",
              "    }\n",
              "\n",
              "    [theme=dark] .colab-df-convert:hover {\n",
              "      background-color: #434B5C;\n",
              "      box-shadow: 0px 1px 3px 1px rgba(0, 0, 0, 0.15);\n",
              "      filter: drop-shadow(0px 1px 2px rgba(0, 0, 0, 0.3));\n",
              "      fill: #FFFFFF;\n",
              "    }\n",
              "  </style>\n",
              "\n",
              "      <script>\n",
              "        const buttonEl =\n",
              "          document.querySelector('#df-dc55a604-0f7e-46d8-aa39-38edd7ce3908 button.colab-df-convert');\n",
              "        buttonEl.style.display =\n",
              "          google.colab.kernel.accessAllowed ? 'block' : 'none';\n",
              "\n",
              "        async function convertToInteractive(key) {\n",
              "          const element = document.querySelector('#df-dc55a604-0f7e-46d8-aa39-38edd7ce3908');\n",
              "          const dataTable =\n",
              "            await google.colab.kernel.invokeFunction('convertToInteractive',\n",
              "                                                     [key], {});\n",
              "          if (!dataTable) return;\n",
              "\n",
              "          const docLinkHtml = 'Like what you see? Visit the ' +\n",
              "            '<a target=\"_blank\" href=https://colab.research.google.com/notebooks/data_table.ipynb>data table notebook</a>'\n",
              "            + ' to learn more about interactive tables.';\n",
              "          element.innerHTML = '';\n",
              "          dataTable['output_type'] = 'display_data';\n",
              "          await google.colab.output.renderOutput(dataTable, element);\n",
              "          const docLink = document.createElement('div');\n",
              "          docLink.innerHTML = docLinkHtml;\n",
              "          element.appendChild(docLink);\n",
              "        }\n",
              "      </script>\n",
              "    </div>\n",
              "  </div>\n",
              "  "
            ]
          },
          "metadata": {},
          "execution_count": 16
        }
      ]
    },
    {
      "cell_type": "code",
      "source": [
        "f, ax = plt.subplots(figsize =(15, 10))\n",
        "sns.heatmap(dataframe.corr())"
      ],
      "metadata": {
        "colab": {
          "base_uri": "https://localhost:8080/",
          "height": 613
        },
        "id": "lQ77S8kvYSWG",
        "outputId": "ccff0762-a1f6-4c46-c873-48cd642b8723"
      },
      "execution_count": 18,
      "outputs": [
        {
          "output_type": "execute_result",
          "data": {
            "text/plain": [
              "<matplotlib.axes._subplots.AxesSubplot at 0x7f6676fdb150>"
            ]
          },
          "metadata": {},
          "execution_count": 18
        },
        {
          "output_type": "display_data",
          "data": {
            "text/plain": [
              "<Figure size 1080x720 with 2 Axes>"
            ],
            "image/png": "[encoded data removed]"
          },
          "metadata": {}
        }
      ]
    },
    {
      "cell_type": "markdown",
      "source": [
        "**Correlation**:\n",
        "\n",
        "Dress et Heels ont une forte correlation qui est de 1. \n",
        "\n",
        "Une dame qui cherche une robe pourrait vouloir aussi des talons.\n",
        "\n"
      ],
      "metadata": {
        "id": "PSpBH3CAYRWH"
      }
    },
    {
      "cell_type": "markdown",
      "source": [
        "## Recape \n",
        "\n",
        "Le dataset présent les données catégorielles representant des articles de  vêtements de magasins au cours de différentes transactions.\n",
        "\n",
        "on peut diviser ses données en catégories suivantes \n",
        "* **vêtements** : Robe, Chemise , Pantalon, Jupe\n",
        "\n",
        "* **chaussures** :Talons, Sandales, Baskets\n",
        "\n",
        "* **accessoires** : Boucles d'oreilles, Chapeau, Collier, Echarpe, Lunettes de soleil\n",
        "\n",
        "Il ya une forte affinité :\n",
        "\n",
        "* Entre les **vêtements** et **chaussures** : Quelqu'un qui recherche une sneaker pourrait aussi avoir bésoin d'une chemise.\n",
        "\n",
        "* Entre les **vêtement**  et **accéssoire** : Quelqu'un qui cherche un pantalon serait peut-être ravi de trouver une écharpe qui va avec.\n",
        "\n",
        "* Entre les **vêtement**  et **vêtement** : les pantalon, roble, chemises vendu en packs pourraient intérresser les dames.\n",
        "\n",
        "* Entre les **chaussures**  et **chaussures** :\n",
        "les sneakers et Talons vendu en packs pourraient intérresser les dames.\n",
        "\n",
        "* Entre les **chaussures**  et **accéssoire** : des lunnettes de soleils assortient à sa sneakers serait un bon achat.\n",
        "* Une association des accessoires et de vêtement et de chaussures tels que **shirt**, **necklace**, **scandal**, **Sunglass** sont très proches."
      ],
      "metadata": {
        "id": "fZjrINHMwTtf"
      }
    },
    {
      "cell_type": "markdown",
      "source": [
        "# Support Code\n",
        "Sélectionnons des  ensembles d'éléments (itemsets)  avec un minimum de 60 % de **support**."
      ],
      "metadata": {
        "id": "26XusvTDzdTU"
      }
    },
    {
      "cell_type": "code",
      "source": [
        "from mlxtend.frequent_patterns import apriori\n",
        "\n",
        "frequent_itemsets=apriori(dataframe, min_support=0.6, use_colnames=True)\n",
        "frequent_itemsets"
      ],
      "metadata": {
        "colab": {
          "base_uri": "https://localhost:8080/",
          "height": 238
        },
        "id": "8ipNc-nhzcry",
        "outputId": "629414cb-0b05-4304-ee0f-9c9ea8fb6539"
      },
      "execution_count": 19,
      "outputs": [
        {
          "output_type": "execute_result",
          "data": {
            "text/plain": [
              "   support        itemsets\n",
              "0      0.6           (Hat)\n",
              "1      0.8         (Pants)\n",
              "2      0.8         (Scarf)\n",
              "3      0.6         (Skirt)\n",
              "4      0.6  (Pants, Scarf)\n",
              "5      0.6  (Skirt, Pants)"
            ],
            "text/html": [
              "\n",
              "  <div id=\"df-bf619736-a099-4e7d-bc9c-f91aefcbeda6\">\n",
              "    <div class=\"colab-df-container\">\n",
              "      <div>\n",
              "<style scoped>\n",
              "    .dataframe tbody tr th:only-of-type {\n",
              "        vertical-align: middle;\n",
              "    }\n",
              "\n",
              "    .dataframe tbody tr th {\n",
              "        vertical-align: top;\n",
              "    }\n",
              "\n",
              "    .dataframe thead th {\n",
              "        text-align: right;\n",
              "    }\n",
              "</style>\n",
              "<table border=\"1\" class=\"dataframe\">\n",
              "  <thead>\n",
              "    <tr style=\"text-align: right;\">\n",
              "      <th></th>\n",
              "      <th>support</th>\n",
              "      <th>itemsets</th>\n",
              "    </tr>\n",
              "  </thead>\n",
              "  <tbody>\n",
              "    <tr>\n",
              "      <th>0</th>\n",
              "      <td>0.6</td>\n",
              "      <td>(Hat)</td>\n",
              "    </tr>\n",
              "    <tr>\n",
              "      <th>1</th>\n",
              "      <td>0.8</td>\n",
              "      <td>(Pants)</td>\n",
              "    </tr>\n",
              "    <tr>\n",
              "      <th>2</th>\n",
              "      <td>0.8</td>\n",
              "      <td>(Scarf)</td>\n",
              "    </tr>\n",
              "    <tr>\n",
              "      <th>3</th>\n",
              "      <td>0.6</td>\n",
              "      <td>(Skirt)</td>\n",
              "    </tr>\n",
              "    <tr>\n",
              "      <th>4</th>\n",
              "      <td>0.6</td>\n",
              "      <td>(Pants, Scarf)</td>\n",
              "    </tr>\n",
              "    <tr>\n",
              "      <th>5</th>\n",
              "      <td>0.6</td>\n",
              "      <td>(Skirt, Pants)</td>\n",
              "    </tr>\n",
              "  </tbody>\n",
              "</table>\n",
              "</div>\n",
              "      <button class=\"colab-df-convert\" onclick=\"convertToInteractive('df-bf619736-a099-4e7d-bc9c-f91aefcbeda6')\"\n",
              "              title=\"Convert this dataframe to an interactive table.\"\n",
              "              style=\"display:none;\">\n",
              "        \n",
              "  <svg xmlns=\"http://www.w3.org/2000/svg\" height=\"24px\"viewBox=\"0 0 24 24\"\n",
              "       width=\"24px\">\n",
              "    <path d=\"M0 0h24v24H0V0z\" fill=\"none\"/>\n",
              "    <path d=\"M18.56 5.44l.94 2.06.94-2.06 2.06-.94-2.06-.94-.94-2.06-.94 2.06-2.06.94zm-11 1L8.5 8.5l.94-2.06 2.06-.94-2.06-.94L8.5 2.5l-.94 2.06-2.06.94zm10 10l.94 2.06.94-2.06 2.06-.94-2.06-.94-.94-2.06-.94 2.06-2.06.94z\"/><path d=\"M17.41 7.96l-1.37-1.37c-.4-.4-.92-.59-1.43-.59-.52 0-1.04.2-1.43.59L10.3 9.45l-7.72 7.72c-.78.78-.78 2.05 0 2.83L4 21.41c.39.39.9.59 1.41.59.51 0 1.02-.2 1.41-.59l7.78-7.78 2.81-2.81c.8-.78.8-2.07 0-2.86zM5.41 20L4 18.59l7.72-7.72 1.47 1.35L5.41 20z\"/>\n",
              "  </svg>\n",
              "      </button>\n",
              "      \n",
              "  <style>\n",
              "    .colab-df-container {\n",
              "      display:flex;\n",
              "      flex-wrap:wrap;\n",
              "      gap: 12px;\n",
              "    }\n",
              "\n",
              "    .colab-df-convert {\n",
              "      background-color: #E8F0FE;\n",
              "      border: none;\n",
              "      border-radius: 50%;\n",
              "      cursor: pointer;\n",
              "      display: none;\n",
              "      fill: #1967D2;\n",
              "      height: 32px;\n",
              "      padding: 0 0 0 0;\n",
              "      width: 32px;\n",
              "    }\n",
              "\n",
              "    .colab-df-convert:hover {\n",
              "      background-color: #E2EBFA;\n",
              "      box-shadow: 0px 1px 2px rgba(60, 64, 67, 0.3), 0px 1px 3px 1px rgba(60, 64, 67, 0.15);\n",
              "      fill: #174EA6;\n",
              "    }\n",
              "\n",
              "    [theme=dark] .colab-df-convert {\n",
              "      background-color: #3B4455;\n",
              "      fill: #D2E3FC;\n",
              "    }\n",
              "\n",
              "    [theme=dark] .colab-df-convert:hover {\n",
              "      background-color: #434B5C;\n",
              "      box-shadow: 0px 1px 3px 1px rgba(0, 0, 0, 0.15);\n",
              "      filter: drop-shadow(0px 1px 2px rgba(0, 0, 0, 0.3));\n",
              "      fill: #FFFFFF;\n",
              "    }\n",
              "  </style>\n",
              "\n",
              "      <script>\n",
              "        const buttonEl =\n",
              "          document.querySelector('#df-bf619736-a099-4e7d-bc9c-f91aefcbeda6 button.colab-df-convert');\n",
              "        buttonEl.style.display =\n",
              "          google.colab.kernel.accessAllowed ? 'block' : 'none';\n",
              "\n",
              "        async function convertToInteractive(key) {\n",
              "          const element = document.querySelector('#df-bf619736-a099-4e7d-bc9c-f91aefcbeda6');\n",
              "          const dataTable =\n",
              "            await google.colab.kernel.invokeFunction('convertToInteractive',\n",
              "                                                     [key], {});\n",
              "          if (!dataTable) return;\n",
              "\n",
              "          const docLinkHtml = 'Like what you see? Visit the ' +\n",
              "            '<a target=\"_blank\" href=https://colab.research.google.com/notebooks/data_table.ipynb>data table notebook</a>'\n",
              "            + ' to learn more about interactive tables.';\n",
              "          element.innerHTML = '';\n",
              "          dataTable['output_type'] = 'display_data';\n",
              "          await google.colab.output.renderOutput(dataTable, element);\n",
              "          const docLink = document.createElement('div');\n",
              "          docLink.innerHTML = docLinkHtml;\n",
              "          element.appendChild(docLink);\n",
              "        }\n",
              "      </script>\n",
              "    </div>\n",
              "  </div>\n",
              "  "
            ]
          },
          "metadata": {},
          "execution_count": 19
        }
      ]
    },
    {
      "cell_type": "markdown",
      "source": [
        "Apriori retourne par défaut l'indice de la colone du dataframe (item). le paramètre use_colnames=True permet de remplacer les indice par leu noms ou items\n",
        "\n",
        "\n",
        "\n",
        "**support** \n",
        "\n",
        " Ex: supp(Hat) =  3/5 = 0.6\n",
        "\n",
        "\n",
        "**itemsets** : ensembles d'éléments \n",
        "\n",
        "Ex: (Scarf, Pants)"
      ],
      "metadata": {
        "id": "l1KxTtbAzu7N"
      }
    },
    {
      "cell_type": "markdown",
      "source": [
        "L'algorithme Apriori donne des ensembles d'articles qui ont des probalités d'apparitions suppérieurs ou égales à 0.6 au cours des différentes transactions."
      ],
      "metadata": {
        "id": "v1ogk64xC_6b"
      }
    },
    {
      "cell_type": "markdown",
      "source": [
        "# Confidence Code\n",
        "\n",
        "Si nous voulons extraire des règles basées sur d'autres métriques comme la **confidence**, nous pouvons utiliser **association_rules** de la bibliothèque **mlxtend.frequent_patterns**.\n",
        "\n",
        "associent des itemsets avec un niveau de confidence supérieur à 70 %."
      ],
      "metadata": {
        "id": "Flpzqa0W1ovs"
      }
    },
    {
      "cell_type": "code",
      "source": [
        "from mlxtend.frequent_patterns import association_rules \n",
        "matrice_confiance = association_rules(frequent_itemsets,metric=\"confidence\",min_threshold=0.7)\n",
        "matrice_confiance"
      ],
      "metadata": {
        "colab": {
          "base_uri": "https://localhost:8080/",
          "height": 175
        },
        "id": "laNjMWG1zuTR",
        "outputId": "2b3acc42-c7d5-4f47-c876-b7f36ebc32e5"
      },
      "execution_count": 20,
      "outputs": [
        {
          "output_type": "execute_result",
          "data": {
            "text/plain": [
              "  antecedents consequents  antecedent support  consequent support  support  \\\n",
              "0     (Pants)     (Scarf)                 0.8                 0.8      0.6   \n",
              "1     (Scarf)     (Pants)                 0.8                 0.8      0.6   \n",
              "2     (Skirt)     (Pants)                 0.6                 0.8      0.6   \n",
              "3     (Pants)     (Skirt)                 0.8                 0.6      0.6   \n",
              "\n",
              "   confidence    lift  leverage  conviction  \n",
              "0        0.75  0.9375     -0.04         0.8  \n",
              "1        0.75  0.9375     -0.04         0.8  \n",
              "2        1.00  1.2500      0.12         inf  \n",
              "3        0.75  1.2500      0.12         1.6  "
            ],
            "text/html": [
              "\n",
              "  <div id=\"df-046c1476-dae2-4b3e-9f46-83102d8c6fd4\">\n",
              "    <div class=\"colab-df-container\">\n",
              "      <div>\n",
              "<style scoped>\n",
              "    .dataframe tbody tr th:only-of-type {\n",
              "        vertical-align: middle;\n",
              "    }\n",
              "\n",
              "    .dataframe tbody tr th {\n",
              "        vertical-align: top;\n",
              "    }\n",
              "\n",
              "    .dataframe thead th {\n",
              "        text-align: right;\n",
              "    }\n",
              "</style>\n",
              "<table border=\"1\" class=\"dataframe\">\n",
              "  <thead>\n",
              "    <tr style=\"text-align: right;\">\n",
              "      <th></th>\n",
              "      <th>antecedents</th>\n",
              "      <th>consequents</th>\n",
              "      <th>antecedent support</th>\n",
              "      <th>consequent support</th>\n",
              "      <th>support</th>\n",
              "      <th>confidence</th>\n",
              "      <th>lift</th>\n",
              "      <th>leverage</th>\n",
              "      <th>conviction</th>\n",
              "    </tr>\n",
              "  </thead>\n",
              "  <tbody>\n",
              "    <tr>\n",
              "      <th>0</th>\n",
              "      <td>(Pants)</td>\n",
              "      <td>(Scarf)</td>\n",
              "      <td>0.8</td>\n",
              "      <td>0.8</td>\n",
              "      <td>0.6</td>\n",
              "      <td>0.75</td>\n",
              "      <td>0.9375</td>\n",
              "      <td>-0.04</td>\n",
              "      <td>0.8</td>\n",
              "    </tr>\n",
              "    <tr>\n",
              "      <th>1</th>\n",
              "      <td>(Scarf)</td>\n",
              "      <td>(Pants)</td>\n",
              "      <td>0.8</td>\n",
              "      <td>0.8</td>\n",
              "      <td>0.6</td>\n",
              "      <td>0.75</td>\n",
              "      <td>0.9375</td>\n",
              "      <td>-0.04</td>\n",
              "      <td>0.8</td>\n",
              "    </tr>\n",
              "    <tr>\n",
              "      <th>2</th>\n",
              "      <td>(Skirt)</td>\n",
              "      <td>(Pants)</td>\n",
              "      <td>0.6</td>\n",
              "      <td>0.8</td>\n",
              "      <td>0.6</td>\n",
              "      <td>1.00</td>\n",
              "      <td>1.2500</td>\n",
              "      <td>0.12</td>\n",
              "      <td>inf</td>\n",
              "    </tr>\n",
              "    <tr>\n",
              "      <th>3</th>\n",
              "      <td>(Pants)</td>\n",
              "      <td>(Skirt)</td>\n",
              "      <td>0.8</td>\n",
              "      <td>0.6</td>\n",
              "      <td>0.6</td>\n",
              "      <td>0.75</td>\n",
              "      <td>1.2500</td>\n",
              "      <td>0.12</td>\n",
              "      <td>1.6</td>\n",
              "    </tr>\n",
              "  </tbody>\n",
              "</table>\n",
              "</div>\n",
              "      <button class=\"colab-df-convert\" onclick=\"convertToInteractive('df-046c1476-dae2-4b3e-9f46-83102d8c6fd4')\"\n",
              "              title=\"Convert this dataframe to an interactive table.\"\n",
              "              style=\"display:none;\">\n",
              "        \n",
              "  <svg xmlns=\"http://www.w3.org/2000/svg\" height=\"24px\"viewBox=\"0 0 24 24\"\n",
              "       width=\"24px\">\n",
              "    <path d=\"M0 0h24v24H0V0z\" fill=\"none\"/>\n",
              "    <path d=\"M18.56 5.44l.94 2.06.94-2.06 2.06-.94-2.06-.94-.94-2.06-.94 2.06-2.06.94zm-11 1L8.5 8.5l.94-2.06 2.06-.94-2.06-.94L8.5 2.5l-.94 2.06-2.06.94zm10 10l.94 2.06.94-2.06 2.06-.94-2.06-.94-.94-2.06-.94 2.06-2.06.94z\"/><path d=\"M17.41 7.96l-1.37-1.37c-.4-.4-.92-.59-1.43-.59-.52 0-1.04.2-1.43.59L10.3 9.45l-7.72 7.72c-.78.78-.78 2.05 0 2.83L4 21.41c.39.39.9.59 1.41.59.51 0 1.02-.2 1.41-.59l7.78-7.78 2.81-2.81c.8-.78.8-2.07 0-2.86zM5.41 20L4 18.59l7.72-7.72 1.47 1.35L5.41 20z\"/>\n",
              "  </svg>\n",
              "      </button>\n",
              "      \n",
              "  <style>\n",
              "    .colab-df-container {\n",
              "      display:flex;\n",
              "      flex-wrap:wrap;\n",
              "      gap: 12px;\n",
              "    }\n",
              "\n",
              "    .colab-df-convert {\n",
              "      background-color: #E8F0FE;\n",
              "      border: none;\n",
              "      border-radius: 50%;\n",
              "      cursor: pointer;\n",
              "      display: none;\n",
              "      fill: #1967D2;\n",
              "      height: 32px;\n",
              "      padding: 0 0 0 0;\n",
              "      width: 32px;\n",
              "    }\n",
              "\n",
              "    .colab-df-convert:hover {\n",
              "      background-color: #E2EBFA;\n",
              "      box-shadow: 0px 1px 2px rgba(60, 64, 67, 0.3), 0px 1px 3px 1px rgba(60, 64, 67, 0.15);\n",
              "      fill: #174EA6;\n",
              "    }\n",
              "\n",
              "    [theme=dark] .colab-df-convert {\n",
              "      background-color: #3B4455;\n",
              "      fill: #D2E3FC;\n",
              "    }\n",
              "\n",
              "    [theme=dark] .colab-df-convert:hover {\n",
              "      background-color: #434B5C;\n",
              "      box-shadow: 0px 1px 3px 1px rgba(0, 0, 0, 0.15);\n",
              "      filter: drop-shadow(0px 1px 2px rgba(0, 0, 0, 0.3));\n",
              "      fill: #FFFFFF;\n",
              "    }\n",
              "  </style>\n",
              "\n",
              "      <script>\n",
              "        const buttonEl =\n",
              "          document.querySelector('#df-046c1476-dae2-4b3e-9f46-83102d8c6fd4 button.colab-df-convert');\n",
              "        buttonEl.style.display =\n",
              "          google.colab.kernel.accessAllowed ? 'block' : 'none';\n",
              "\n",
              "        async function convertToInteractive(key) {\n",
              "          const element = document.querySelector('#df-046c1476-dae2-4b3e-9f46-83102d8c6fd4');\n",
              "          const dataTable =\n",
              "            await google.colab.kernel.invokeFunction('convertToInteractive',\n",
              "                                                     [key], {});\n",
              "          if (!dataTable) return;\n",
              "\n",
              "          const docLinkHtml = 'Like what you see? Visit the ' +\n",
              "            '<a target=\"_blank\" href=https://colab.research.google.com/notebooks/data_table.ipynb>data table notebook</a>'\n",
              "            + ' to learn more about interactive tables.';\n",
              "          element.innerHTML = '';\n",
              "          dataTable['output_type'] = 'display_data';\n",
              "          await google.colab.output.renderOutput(dataTable, element);\n",
              "          const docLink = document.createElement('div');\n",
              "          docLink.innerHTML = docLinkHtml;\n",
              "          element.appendChild(docLink);\n",
              "        }\n",
              "      </script>\n",
              "    </div>\n",
              "  </div>\n",
              "  "
            ]
          },
          "metadata": {},
          "execution_count": 20
        }
      ]
    },
    {
      "cell_type": "markdown",
      "source": [
        "On obtient des affinité entre les articles \n",
        "\n",
        "Si (Scarf) alors\t(Pants) avec une confiance 75%\n",
        "\n",
        "Si  (Pants) alors\t(Scarf) avec une confiance 75%\n",
        "\n",
        "Si Skirt)\talors (Pants)\tavec une confiance 100%\n",
        "\n",
        "Si (Pants)\talors (Skirt)\tavec une confiance 75%\n"
      ],
      "metadata": {
        "id": "M4xnxCL33cQb"
      }
    },
    {
      "cell_type": "markdown",
      "source": [
        "## Interprétation\n",
        "\n",
        "Une association de vêtement est fiable à 100% d'après notre modèle et viens donc confirmer notre analyse de données faite au paravant. Aussi une association entre une vetêment et un accéssoire qui l'est plus ou moins à 75%.\n"
      ],
      "metadata": {
        "id": "b5sWXlhlBwbw"
      }
    },
    {
      "cell_type": "markdown",
      "source": [
        "# Lift Code\n",
        "Association basée sur l'ascenseur: metric = **lift**\n",
        "\n",
        "execution du model "
      ],
      "metadata": {
        "id": "zm6Y8JS02_Rk"
      }
    },
    {
      "cell_type": "code",
      "source": [
        "from mlxtend.frequent_patterns import association_rules \n",
        "\n",
        "matrice_lift = association_rules(frequent_itemsets,metric=\"lift\",min_threshold=0.25)\n",
        "matrice_lift"
      ],
      "metadata": {
        "colab": {
          "base_uri": "https://localhost:8080/",
          "height": 175
        },
        "id": "mz9ctft12-pU",
        "outputId": "81e1eb59-8d88-40db-d674-230cdf7bb5fc"
      },
      "execution_count": 21,
      "outputs": [
        {
          "output_type": "execute_result",
          "data": {
            "text/plain": [
              "  antecedents consequents  antecedent support  consequent support  support  \\\n",
              "0     (Pants)     (Scarf)                 0.8                 0.8      0.6   \n",
              "1     (Scarf)     (Pants)                 0.8                 0.8      0.6   \n",
              "2     (Skirt)     (Pants)                 0.6                 0.8      0.6   \n",
              "3     (Pants)     (Skirt)                 0.8                 0.6      0.6   \n",
              "\n",
              "   confidence    lift  leverage  conviction  \n",
              "0        0.75  0.9375     -0.04         0.8  \n",
              "1        0.75  0.9375     -0.04         0.8  \n",
              "2        1.00  1.2500      0.12         inf  \n",
              "3        0.75  1.2500      0.12         1.6  "
            ],
            "text/html": [
              "\n",
              "  <div id=\"df-74ddb947-e1bc-4f22-800f-92299eea40c1\">\n",
              "    <div class=\"colab-df-container\">\n",
              "      <div>\n",
              "<style scoped>\n",
              "    .dataframe tbody tr th:only-of-type {\n",
              "        vertical-align: middle;\n",
              "    }\n",
              "\n",
              "    .dataframe tbody tr th {\n",
              "        vertical-align: top;\n",
              "    }\n",
              "\n",
              "    .dataframe thead th {\n",
              "        text-align: right;\n",
              "    }\n",
              "</style>\n",
              "<table border=\"1\" class=\"dataframe\">\n",
              "  <thead>\n",
              "    <tr style=\"text-align: right;\">\n",
              "      <th></th>\n",
              "      <th>antecedents</th>\n",
              "      <th>consequents</th>\n",
              "      <th>antecedent support</th>\n",
              "      <th>consequent support</th>\n",
              "      <th>support</th>\n",
              "      <th>confidence</th>\n",
              "      <th>lift</th>\n",
              "      <th>leverage</th>\n",
              "      <th>conviction</th>\n",
              "    </tr>\n",
              "  </thead>\n",
              "  <tbody>\n",
              "    <tr>\n",
              "      <th>0</th>\n",
              "      <td>(Pants)</td>\n",
              "      <td>(Scarf)</td>\n",
              "      <td>0.8</td>\n",
              "      <td>0.8</td>\n",
              "      <td>0.6</td>\n",
              "      <td>0.75</td>\n",
              "      <td>0.9375</td>\n",
              "      <td>-0.04</td>\n",
              "      <td>0.8</td>\n",
              "    </tr>\n",
              "    <tr>\n",
              "      <th>1</th>\n",
              "      <td>(Scarf)</td>\n",
              "      <td>(Pants)</td>\n",
              "      <td>0.8</td>\n",
              "      <td>0.8</td>\n",
              "      <td>0.6</td>\n",
              "      <td>0.75</td>\n",
              "      <td>0.9375</td>\n",
              "      <td>-0.04</td>\n",
              "      <td>0.8</td>\n",
              "    </tr>\n",
              "    <tr>\n",
              "      <th>2</th>\n",
              "      <td>(Skirt)</td>\n",
              "      <td>(Pants)</td>\n",
              "      <td>0.6</td>\n",
              "      <td>0.8</td>\n",
              "      <td>0.6</td>\n",
              "      <td>1.00</td>\n",
              "      <td>1.2500</td>\n",
              "      <td>0.12</td>\n",
              "      <td>inf</td>\n",
              "    </tr>\n",
              "    <tr>\n",
              "      <th>3</th>\n",
              "      <td>(Pants)</td>\n",
              "      <td>(Skirt)</td>\n",
              "      <td>0.8</td>\n",
              "      <td>0.6</td>\n",
              "      <td>0.6</td>\n",
              "      <td>0.75</td>\n",
              "      <td>1.2500</td>\n",
              "      <td>0.12</td>\n",
              "      <td>1.6</td>\n",
              "    </tr>\n",
              "  </tbody>\n",
              "</table>\n",
              "</div>\n",
              "      <button class=\"colab-df-convert\" onclick=\"convertToInteractive('df-74ddb947-e1bc-4f22-800f-92299eea40c1')\"\n",
              "              title=\"Convert this dataframe to an interactive table.\"\n",
              "              style=\"display:none;\">\n",
              "        \n",
              "  <svg xmlns=\"http://www.w3.org/2000/svg\" height=\"24px\"viewBox=\"0 0 24 24\"\n",
              "       width=\"24px\">\n",
              "    <path d=\"M0 0h24v24H0V0z\" fill=\"none\"/>\n",
              "    <path d=\"M18.56 5.44l.94 2.06.94-2.06 2.06-.94-2.06-.94-.94-2.06-.94 2.06-2.06.94zm-11 1L8.5 8.5l.94-2.06 2.06-.94-2.06-.94L8.5 2.5l-.94 2.06-2.06.94zm10 10l.94 2.06.94-2.06 2.06-.94-2.06-.94-.94-2.06-.94 2.06-2.06.94z\"/><path d=\"M17.41 7.96l-1.37-1.37c-.4-.4-.92-.59-1.43-.59-.52 0-1.04.2-1.43.59L10.3 9.45l-7.72 7.72c-.78.78-.78 2.05 0 2.83L4 21.41c.39.39.9.59 1.41.59.51 0 1.02-.2 1.41-.59l7.78-7.78 2.81-2.81c.8-.78.8-2.07 0-2.86zM5.41 20L4 18.59l7.72-7.72 1.47 1.35L5.41 20z\"/>\n",
              "  </svg>\n",
              "      </button>\n",
              "      \n",
              "  <style>\n",
              "    .colab-df-container {\n",
              "      display:flex;\n",
              "      flex-wrap:wrap;\n",
              "      gap: 12px;\n",
              "    }\n",
              "\n",
              "    .colab-df-convert {\n",
              "      background-color: #E8F0FE;\n",
              "      border: none;\n",
              "      border-radius: 50%;\n",
              "      cursor: pointer;\n",
              "      display: none;\n",
              "      fill: #1967D2;\n",
              "      height: 32px;\n",
              "      padding: 0 0 0 0;\n",
              "      width: 32px;\n",
              "    }\n",
              "\n",
              "    .colab-df-convert:hover {\n",
              "      background-color: #E2EBFA;\n",
              "      box-shadow: 0px 1px 2px rgba(60, 64, 67, 0.3), 0px 1px 3px 1px rgba(60, 64, 67, 0.15);\n",
              "      fill: #174EA6;\n",
              "    }\n",
              "\n",
              "    [theme=dark] .colab-df-convert {\n",
              "      background-color: #3B4455;\n",
              "      fill: #D2E3FC;\n",
              "    }\n",
              "\n",
              "    [theme=dark] .colab-df-convert:hover {\n",
              "      background-color: #434B5C;\n",
              "      box-shadow: 0px 1px 3px 1px rgba(0, 0, 0, 0.15);\n",
              "      filter: drop-shadow(0px 1px 2px rgba(0, 0, 0, 0.3));\n",
              "      fill: #FFFFFF;\n",
              "    }\n",
              "  </style>\n",
              "\n",
              "      <script>\n",
              "        const buttonEl =\n",
              "          document.querySelector('#df-74ddb947-e1bc-4f22-800f-92299eea40c1 button.colab-df-convert');\n",
              "        buttonEl.style.display =\n",
              "          google.colab.kernel.accessAllowed ? 'block' : 'none';\n",
              "\n",
              "        async function convertToInteractive(key) {\n",
              "          const element = document.querySelector('#df-74ddb947-e1bc-4f22-800f-92299eea40c1');\n",
              "          const dataTable =\n",
              "            await google.colab.kernel.invokeFunction('convertToInteractive',\n",
              "                                                     [key], {});\n",
              "          if (!dataTable) return;\n",
              "\n",
              "          const docLinkHtml = 'Like what you see? Visit the ' +\n",
              "            '<a target=\"_blank\" href=https://colab.research.google.com/notebooks/data_table.ipynb>data table notebook</a>'\n",
              "            + ' to learn more about interactive tables.';\n",
              "          element.innerHTML = '';\n",
              "          dataTable['output_type'] = 'display_data';\n",
              "          await google.colab.output.renderOutput(dataTable, element);\n",
              "          const docLink = document.createElement('div');\n",
              "          docLink.innerHTML = docLinkHtml;\n",
              "          element.appendChild(docLink);\n",
              "        }\n",
              "      </script>\n",
              "    </div>\n",
              "  </div>\n",
              "  "
            ]
          },
          "metadata": {},
          "execution_count": 21
        }
      ]
    },
    {
      "cell_type": "markdown",
      "source": [
        "après l'association rules basé sur la metric lift on constate  à nouveau une affinité entre scarf\n"
      ],
      "metadata": {
        "id": "5WCsM5PJ50Tx"
      }
    },
    {
      "cell_type": "code",
      "source": [
        "path= '/content/drive/MyDrive/Gomycode /Introduction a IA /unsupervised learning /#2-Unsupervised Association Rules/checkpoint/Market_Basket_Optimisation.csv'\n",
        "df_items = pd.read_csv(path)\n",
        "df_items.head()"
      ],
      "metadata": {
        "colab": {
          "base_uri": "https://localhost:8080/",
          "height": 302
        },
        "id": "yZyXXtC3PNU9",
        "outputId": "ebf225cf-5b57-48db-dd9d-40dfe10195b9"
      },
      "execution_count": 131,
      "outputs": [
        {
          "output_type": "execute_result",
          "data": {
            "text/plain": [
              "           shrimp    almonds     avocado    vegetables mix green grapes  \\\n",
              "0         burgers  meatballs        eggs               NaN          NaN   \n",
              "1         chutney        NaN         NaN               NaN          NaN   \n",
              "2          turkey    avocado         NaN               NaN          NaN   \n",
              "3   mineral water       milk  energy bar  whole wheat rice    green tea   \n",
              "4  low fat yogurt        NaN         NaN               NaN          NaN   \n",
              "\n",
              "  whole weat flour yams cottage cheese energy drink tomato juice  \\\n",
              "0              NaN  NaN            NaN          NaN          NaN   \n",
              "1              NaN  NaN            NaN          NaN          NaN   \n",
              "2              NaN  NaN            NaN          NaN          NaN   \n",
              "3              NaN  NaN            NaN          NaN          NaN   \n",
              "4              NaN  NaN            NaN          NaN          NaN   \n",
              "\n",
              "  low fat yogurt green tea honey salad mineral water salmon antioxydant juice  \\\n",
              "0            NaN       NaN   NaN   NaN           NaN    NaN               NaN   \n",
              "1            NaN       NaN   NaN   NaN           NaN    NaN               NaN   \n",
              "2            NaN       NaN   NaN   NaN           NaN    NaN               NaN   \n",
              "3            NaN       NaN   NaN   NaN           NaN    NaN               NaN   \n",
              "4            NaN       NaN   NaN   NaN           NaN    NaN               NaN   \n",
              "\n",
              "  frozen smoothie spinach  olive oil  \n",
              "0             NaN     NaN        NaN  \n",
              "1             NaN     NaN        NaN  \n",
              "2             NaN     NaN        NaN  \n",
              "3             NaN     NaN        NaN  \n",
              "4             NaN     NaN        NaN  "
            ],
            "text/html": [
              "\n",
              "  <div id=\"df-5383d017-9704-4f63-bfda-79a5ef360397\">\n",
              "    <div class=\"colab-df-container\">\n",
              "      <div>\n",
              "<style scoped>\n",
              "    .dataframe tbody tr th:only-of-type {\n",
              "        vertical-align: middle;\n",
              "    }\n",
              "\n",
              "    .dataframe tbody tr th {\n",
              "        vertical-align: top;\n",
              "    }\n",
              "\n",
              "    .dataframe thead th {\n",
              "        text-align: right;\n",
              "    }\n",
              "</style>\n",
              "<table border=\"1\" class=\"dataframe\">\n",
              "  <thead>\n",
              "    <tr style=\"text-align: right;\">\n",
              "      <th></th>\n",
              "      <th>shrimp</th>\n",
              "      <th>almonds</th>\n",
              "      <th>avocado</th>\n",
              "      <th>vegetables mix</th>\n",
              "      <th>green grapes</th>\n",
              "      <th>whole weat flour</th>\n",
              "      <th>yams</th>\n",
              "      <th>cottage cheese</th>\n",
              "      <th>energy drink</th>\n",
              "      <th>tomato juice</th>\n",
              "      <th>low fat yogurt</th>\n",
              "      <th>green tea</th>\n",
              "      <th>honey</th>\n",
              "      <th>salad</th>\n",
              "      <th>mineral water</th>\n",
              "      <th>salmon</th>\n",
              "      <th>antioxydant juice</th>\n",
              "      <th>frozen smoothie</th>\n",
              "      <th>spinach</th>\n",
              "      <th>olive oil</th>\n",
              "    </tr>\n",
              "  </thead>\n",
              "  <tbody>\n",
              "    <tr>\n",
              "      <th>0</th>\n",
              "      <td>burgers</td>\n",
              "      <td>meatballs</td>\n",
              "      <td>eggs</td>\n",
              "      <td>NaN</td>\n",
              "      <td>NaN</td>\n",
              "      <td>NaN</td>\n",
              "      <td>NaN</td>\n",
              "      <td>NaN</td>\n",
              "      <td>NaN</td>\n",
              "      <td>NaN</td>\n",
              "      <td>NaN</td>\n",
              "      <td>NaN</td>\n",
              "      <td>NaN</td>\n",
              "      <td>NaN</td>\n",
              "      <td>NaN</td>\n",
              "      <td>NaN</td>\n",
              "      <td>NaN</td>\n",
              "      <td>NaN</td>\n",
              "      <td>NaN</td>\n",
              "      <td>NaN</td>\n",
              "    </tr>\n",
              "    <tr>\n",
              "      <th>1</th>\n",
              "      <td>chutney</td>\n",
              "      <td>NaN</td>\n",
              "      <td>NaN</td>\n",
              "      <td>NaN</td>\n",
              "      <td>NaN</td>\n",
              "      <td>NaN</td>\n",
              "      <td>NaN</td>\n",
              "      <td>NaN</td>\n",
              "      <td>NaN</td>\n",
              "      <td>NaN</td>\n",
              "      <td>NaN</td>\n",
              "      <td>NaN</td>\n",
              "      <td>NaN</td>\n",
              "      <td>NaN</td>\n",
              "      <td>NaN</td>\n",
              "      <td>NaN</td>\n",
              "      <td>NaN</td>\n",
              "      <td>NaN</td>\n",
              "      <td>NaN</td>\n",
              "      <td>NaN</td>\n",
              "    </tr>\n",
              "    <tr>\n",
              "      <th>2</th>\n",
              "      <td>turkey</td>\n",
              "      <td>avocado</td>\n",
              "      <td>NaN</td>\n",
              "      <td>NaN</td>\n",
              "      <td>NaN</td>\n",
              "      <td>NaN</td>\n",
              "      <td>NaN</td>\n",
              "      <td>NaN</td>\n",
              "      <td>NaN</td>\n",
              "      <td>NaN</td>\n",
              "      <td>NaN</td>\n",
              "      <td>NaN</td>\n",
              "      <td>NaN</td>\n",
              "      <td>NaN</td>\n",
              "      <td>NaN</td>\n",
              "      <td>NaN</td>\n",
              "      <td>NaN</td>\n",
              "      <td>NaN</td>\n",
              "      <td>NaN</td>\n",
              "      <td>NaN</td>\n",
              "    </tr>\n",
              "    <tr>\n",
              "      <th>3</th>\n",
              "      <td>mineral water</td>\n",
              "      <td>milk</td>\n",
              "      <td>energy bar</td>\n",
              "      <td>whole wheat rice</td>\n",
              "      <td>green tea</td>\n",
              "      <td>NaN</td>\n",
              "      <td>NaN</td>\n",
              "      <td>NaN</td>\n",
              "      <td>NaN</td>\n",
              "      <td>NaN</td>\n",
              "      <td>NaN</td>\n",
              "      <td>NaN</td>\n",
              "      <td>NaN</td>\n",
              "      <td>NaN</td>\n",
              "      <td>NaN</td>\n",
              "      <td>NaN</td>\n",
              "      <td>NaN</td>\n",
              "      <td>NaN</td>\n",
              "      <td>NaN</td>\n",
              "      <td>NaN</td>\n",
              "    </tr>\n",
              "    <tr>\n",
              "      <th>4</th>\n",
              "      <td>low fat yogurt</td>\n",
              "      <td>NaN</td>\n",
              "      <td>NaN</td>\n",
              "      <td>NaN</td>\n",
              "      <td>NaN</td>\n",
              "      <td>NaN</td>\n",
              "      <td>NaN</td>\n",
              "      <td>NaN</td>\n",
              "      <td>NaN</td>\n",
              "      <td>NaN</td>\n",
              "      <td>NaN</td>\n",
              "      <td>NaN</td>\n",
              "      <td>NaN</td>\n",
              "      <td>NaN</td>\n",
              "      <td>NaN</td>\n",
              "      <td>NaN</td>\n",
              "      <td>NaN</td>\n",
              "      <td>NaN</td>\n",
              "      <td>NaN</td>\n",
              "      <td>NaN</td>\n",
              "    </tr>\n",
              "  </tbody>\n",
              "</table>\n",
              "</div>\n",
              "      <button class=\"colab-df-convert\" onclick=\"convertToInteractive('df-5383d017-9704-4f63-bfda-79a5ef360397')\"\n",
              "              title=\"Convert this dataframe to an interactive table.\"\n",
              "              style=\"display:none;\">\n",
              "        \n",
              "  <svg xmlns=\"http://www.w3.org/2000/svg\" height=\"24px\"viewBox=\"0 0 24 24\"\n",
              "       width=\"24px\">\n",
              "    <path d=\"M0 0h24v24H0V0z\" fill=\"none\"/>\n",
              "    <path d=\"M18.56 5.44l.94 2.06.94-2.06 2.06-.94-2.06-.94-.94-2.06-.94 2.06-2.06.94zm-11 1L8.5 8.5l.94-2.06 2.06-.94-2.06-.94L8.5 2.5l-.94 2.06-2.06.94zm10 10l.94 2.06.94-2.06 2.06-.94-2.06-.94-.94-2.06-.94 2.06-2.06.94z\"/><path d=\"M17.41 7.96l-1.37-1.37c-.4-.4-.92-.59-1.43-.59-.52 0-1.04.2-1.43.59L10.3 9.45l-7.72 7.72c-.78.78-.78 2.05 0 2.83L4 21.41c.39.39.9.59 1.41.59.51 0 1.02-.2 1.41-.59l7.78-7.78 2.81-2.81c.8-.78.8-2.07 0-2.86zM5.41 20L4 18.59l7.72-7.72 1.47 1.35L5.41 20z\"/>\n",
              "  </svg>\n",
              "      </button>\n",
              "      \n",
              "  <style>\n",
              "    .colab-df-container {\n",
              "      display:flex;\n",
              "      flex-wrap:wrap;\n",
              "      gap: 12px;\n",
              "    }\n",
              "\n",
              "    .colab-df-convert {\n",
              "      background-color: #E8F0FE;\n",
              "      border: none;\n",
              "      border-radius: 50%;\n",
              "      cursor: pointer;\n",
              "      display: none;\n",
              "      fill: #1967D2;\n",
              "      height: 32px;\n",
              "      padding: 0 0 0 0;\n",
              "      width: 32px;\n",
              "    }\n",
              "\n",
              "    .colab-df-convert:hover {\n",
              "      background-color: #E2EBFA;\n",
              "      box-shadow: 0px 1px 2px rgba(60, 64, 67, 0.3), 0px 1px 3px 1px rgba(60, 64, 67, 0.15);\n",
              "      fill: #174EA6;\n",
              "    }\n",
              "\n",
              "    [theme=dark] .colab-df-convert {\n",
              "      background-color: #3B4455;\n",
              "      fill: #D2E3FC;\n",
              "    }\n",
              "\n",
              "    [theme=dark] .colab-df-convert:hover {\n",
              "      background-color: #434B5C;\n",
              "      box-shadow: 0px 1px 3px 1px rgba(0, 0, 0, 0.15);\n",
              "      filter: drop-shadow(0px 1px 2px rgba(0, 0, 0, 0.3));\n",
              "      fill: #FFFFFF;\n",
              "    }\n",
              "  </style>\n",
              "\n",
              "      <script>\n",
              "        const buttonEl =\n",
              "          document.querySelector('#df-5383d017-9704-4f63-bfda-79a5ef360397 button.colab-df-convert');\n",
              "        buttonEl.style.display =\n",
              "          google.colab.kernel.accessAllowed ? 'block' : 'none';\n",
              "\n",
              "        async function convertToInteractive(key) {\n",
              "          const element = document.querySelector('#df-5383d017-9704-4f63-bfda-79a5ef360397');\n",
              "          const dataTable =\n",
              "            await google.colab.kernel.invokeFunction('convertToInteractive',\n",
              "                                                     [key], {});\n",
              "          if (!dataTable) return;\n",
              "\n",
              "          const docLinkHtml = 'Like what you see? Visit the ' +\n",
              "            '<a target=\"_blank\" href=https://colab.research.google.com/notebooks/data_table.ipynb>data table notebook</a>'\n",
              "            + ' to learn more about interactive tables.';\n",
              "          element.innerHTML = '';\n",
              "          dataTable['output_type'] = 'display_data';\n",
              "          await google.colab.output.renderOutput(dataTable, element);\n",
              "          const docLink = document.createElement('div');\n",
              "          docLink.innerHTML = docLinkHtml;\n",
              "          element.appendChild(docLink);\n",
              "        }\n",
              "      </script>\n",
              "    </div>\n",
              "  </div>\n",
              "  "
            ]
          },
          "metadata": {},
          "execution_count": 131
        }
      ]
    },
    {
      "cell_type": "markdown",
      "source": [
        "# Preprocessing "
      ],
      "metadata": {
        "id": "WU35pprf9LTu"
      }
    },
    {
      "cell_type": "code",
      "source": [
        "df_items.info()"
      ],
      "metadata": {
        "colab": {
          "base_uri": "https://localhost:8080/"
        },
        "id": "oDYc9Uxa9KqZ",
        "outputId": "db4ae8e5-666a-46e9-edb6-4b405af04db7"
      },
      "execution_count": 132,
      "outputs": [
        {
          "output_type": "stream",
          "name": "stdout",
          "text": [
            "<class 'pandas.core.frame.DataFrame'>\n",
            "RangeIndex: 7500 entries, 0 to 7499\n",
            "Data columns (total 20 columns):\n",
            " #   Column             Non-Null Count  Dtype  \n",
            "---  ------             --------------  -----  \n",
            " 0   shrimp             7500 non-null   object \n",
            " 1   almonds            5746 non-null   object \n",
            " 2   avocado            4388 non-null   object \n",
            " 3   vegetables mix     3344 non-null   object \n",
            " 4   green grapes       2528 non-null   object \n",
            " 5   whole weat flour   1863 non-null   object \n",
            " 6   yams               1368 non-null   object \n",
            " 7   cottage cheese     980 non-null    object \n",
            " 8   energy drink       653 non-null    object \n",
            " 9   tomato juice       394 non-null    object \n",
            " 10  low fat yogurt     255 non-null    object \n",
            " 11  green tea          153 non-null    object \n",
            " 12  honey              86 non-null     object \n",
            " 13  salad              46 non-null     object \n",
            " 14  mineral water      24 non-null     object \n",
            " 15  salmon             7 non-null      object \n",
            " 16  antioxydant juice  3 non-null      object \n",
            " 17  frozen smoothie    3 non-null      object \n",
            " 18  spinach            2 non-null      object \n",
            " 19  olive oil          0 non-null      float64\n",
            "dtypes: float64(1), object(19)\n",
            "memory usage: 1.1+ MB\n"
          ]
        }
      ]
    },
    {
      "cell_type": "code",
      "source": [
        "df_items.columns"
      ],
      "metadata": {
        "colab": {
          "base_uri": "https://localhost:8080/"
        },
        "id": "c6NTL9uzM9Zp",
        "outputId": "0bf42a51-21b4-4066-83d7-09905947d42a"
      },
      "execution_count": 133,
      "outputs": [
        {
          "output_type": "execute_result",
          "data": {
            "text/plain": [
              "Index(['shrimp', 'almonds', 'avocado', 'vegetables mix', 'green grapes',\n",
              "       'whole weat flour', 'yams', 'cottage cheese', 'energy drink',\n",
              "       'tomato juice', 'low fat yogurt', 'green tea', 'honey', 'salad',\n",
              "       'mineral water', 'salmon', 'antioxydant juice', 'frozen smoothie',\n",
              "       'spinach', 'olive oil'],\n",
              "      dtype='object')"
            ]
          },
          "metadata": {},
          "execution_count": 133
        }
      ]
    },
    {
      "cell_type": "code",
      "source": [
        "df_items.shape"
      ],
      "metadata": {
        "colab": {
          "base_uri": "https://localhost:8080/"
        },
        "id": "f4XgRiBLNoHk",
        "outputId": "104ec42e-49dc-4f42-94cb-97b6e0cd309d"
      },
      "execution_count": 134,
      "outputs": [
        {
          "output_type": "execute_result",
          "data": {
            "text/plain": [
              "(7500, 20)"
            ]
          },
          "metadata": {},
          "execution_count": 134
        }
      ]
    },
    {
      "cell_type": "markdown",
      "source": [
        "Le dataset présente un ensembles 20 produits alimentaires dans le comportement est défini sur 7500 enregistremensts\n",
        "\n",
        "**shrimp** : crevettes\n",
        "\n",
        "**almonds** : amandes\n",
        "  \n",
        "**avocado** : avocat\n",
        "\n",
        "**vegetables mix** : mélange de légumes\n",
        "\n",
        "**green grapes** : raisins verts\n",
        "\n",
        "**whole weat flour** : farine de blé complète\n",
        "\n",
        "**yams**: ignames\n",
        "\n",
        "**cottage cheese** : fromage blanc\n",
        "\n",
        "**energy drink** : boisson énergétique\n",
        "       \n",
        "**tomato juice** : jus de tomate\n",
        "\n",
        "**low fat yogurt** : yaourt allégé\n",
        "\n",
        "**green tea** : thé vert\n",
        "\n",
        "**honey** : miel\n",
        "\n",
        "**salad** : salade\n",
        "\n",
        "**mineral water** : eau minérale\n",
        "\n",
        "**salmon** : saumon\n",
        "\n",
        "**antioxydant juice** : jus antioxydant\n",
        "\n",
        "**frozen smoothie** :smoothie glacé\n",
        "       \n",
        "**pinach** : épinards\n",
        "\n",
        "**olive oil**: huile d'olive"
      ],
      "metadata": {
        "id": "xpXebPPp_ZhN"
      }
    },
    {
      "cell_type": "markdown",
      "source": [
        "❌ Où se trouvent les valeurs manquantes ?"
      ],
      "metadata": {
        "id": "Sunfqj63NMkH"
      }
    },
    {
      "cell_type": "code",
      "source": [
        "valeurs_nulles = list(df_items.columns[df_items.isnull().any()])\n",
        "valeurs_nulles"
      ],
      "metadata": {
        "colab": {
          "base_uri": "https://localhost:8080/"
        },
        "id": "zO6EHQHWNFe2",
        "outputId": "0567b6c4-1e3a-4412-8317-90fc953bc66b"
      },
      "execution_count": 135,
      "outputs": [
        {
          "output_type": "execute_result",
          "data": {
            "text/plain": [
              "['almonds',\n",
              " 'avocado',\n",
              " 'vegetables mix',\n",
              " 'green grapes',\n",
              " 'whole weat flour',\n",
              " 'yams',\n",
              " 'cottage cheese',\n",
              " 'energy drink',\n",
              " 'tomato juice',\n",
              " 'low fat yogurt',\n",
              " 'green tea',\n",
              " 'honey',\n",
              " 'salad',\n",
              " 'mineral water',\n",
              " 'salmon',\n",
              " 'antioxydant juice',\n",
              " 'frozen smoothie',\n",
              " 'spinach',\n",
              " 'olive oil']"
            ]
          },
          "metadata": {},
          "execution_count": 135
        }
      ]
    },
    {
      "cell_type": "markdown",
      "source": [
        "combien de valeurs nulls dans chaque produits ?"
      ],
      "metadata": {
        "id": "SbGYpdMmCTLL"
      }
    },
    {
      "cell_type": "code",
      "source": [
        "df_items.isnull().sum()[df_items.isnull().any()]"
      ],
      "metadata": {
        "colab": {
          "base_uri": "https://localhost:8080/"
        },
        "id": "1VdPHk_99Brx",
        "outputId": "03c3b82c-425f-4291-bec7-bade84e8abb2"
      },
      "execution_count": 136,
      "outputs": [
        {
          "output_type": "execute_result",
          "data": {
            "text/plain": [
              "almonds              1754\n",
              "avocado              3112\n",
              "vegetables mix       4156\n",
              "green grapes         4972\n",
              "whole weat flour     5637\n",
              "yams                 6132\n",
              "cottage cheese       6520\n",
              "energy drink         6847\n",
              "tomato juice         7106\n",
              "low fat yogurt       7245\n",
              "green tea            7347\n",
              "honey                7414\n",
              "salad                7454\n",
              "mineral water        7476\n",
              "salmon               7493\n",
              "antioxydant juice    7497\n",
              "frozen smoothie      7497\n",
              "spinach              7498\n",
              "olive oil            7500\n",
              "dtype: int64"
            ]
          },
          "metadata": {},
          "execution_count": 136
        }
      ]
    },
    {
      "cell_type": "markdown",
      "source": [
        "ceci correspond à combien de colones :"
      ],
      "metadata": {
        "id": "p2R21NNJLWOJ"
      }
    },
    {
      "cell_type": "code",
      "source": [
        "len(list(df_items.columns[df_items.isnull().any()]))"
      ],
      "metadata": {
        "colab": {
          "base_uri": "https://localhost:8080/"
        },
        "id": "f-tVLmgMHzT_",
        "outputId": "aa01dc18-1a35-4e65-c0d2-2030e5370b9c"
      },
      "execution_count": 137,
      "outputs": [
        {
          "output_type": "execute_result",
          "data": {
            "text/plain": [
              "19"
            ]
          },
          "metadata": {},
          "execution_count": 137
        }
      ]
    },
    {
      "cell_type": "markdown",
      "source": [
        "supprimer les colones qui contient que des valeur maquantes"
      ],
      "metadata": {
        "id": "g38V4bwZIqoL"
      }
    },
    {
      "cell_type": "code",
      "source": [
        "df_items.dropna(axis=1, how='all', inplace=True)"
      ],
      "metadata": {
        "id": "4uSDjK42GpVF"
      },
      "execution_count": 138,
      "outputs": []
    },
    {
      "cell_type": "code",
      "source": [
        "df_items.isnull().sum()[df_items.isnull().any()]"
      ],
      "metadata": {
        "colab": {
          "base_uri": "https://localhost:8080/"
        },
        "id": "c7JHuT8SHesT",
        "outputId": "7f7ce2b3-dcab-4d30-b3cb-c1d6c6f46f3f"
      },
      "execution_count": 139,
      "outputs": [
        {
          "output_type": "execute_result",
          "data": {
            "text/plain": [
              "almonds              1754\n",
              "avocado              3112\n",
              "vegetables mix       4156\n",
              "green grapes         4972\n",
              "whole weat flour     5637\n",
              "yams                 6132\n",
              "cottage cheese       6520\n",
              "energy drink         6847\n",
              "tomato juice         7106\n",
              "low fat yogurt       7245\n",
              "green tea            7347\n",
              "honey                7414\n",
              "salad                7454\n",
              "mineral water        7476\n",
              "salmon               7493\n",
              "antioxydant juice    7497\n",
              "frozen smoothie      7497\n",
              "spinach              7498\n",
              "dtype: int64"
            ]
          },
          "metadata": {},
          "execution_count": 139
        }
      ]
    },
    {
      "cell_type": "markdown",
      "source": [
        "ceci correspond à combien de colones ?"
      ],
      "metadata": {
        "id": "J5JpOUokLeiQ"
      }
    },
    {
      "cell_type": "code",
      "source": [
        "len(list(df_items.columns[df_items.isnull().any()]))"
      ],
      "metadata": {
        "colab": {
          "base_uri": "https://localhost:8080/"
        },
        "id": "IyAv6sskIArV",
        "outputId": "9b9887c3-c379-42ae-d123-8e7ed83cb6db"
      },
      "execution_count": 140,
      "outputs": [
        {
          "output_type": "execute_result",
          "data": {
            "text/plain": [
              "18"
            ]
          },
          "metadata": {},
          "execution_count": 140
        }
      ]
    },
    {
      "cell_type": "markdown",
      "source": [
        "supprimer les colones qui ont des valeur nulls correspondant à au moins 70% de leur enrégistrements"
      ],
      "metadata": {
        "id": "SC4OEo8mKlih"
      }
    },
    {
      "cell_type": "code",
      "source": [
        "df_items.dropna(axis=1, thresh=int(30/100*df_items.shape[0]), inplace=True)"
      ],
      "metadata": {
        "id": "7d3T4GLdK4ic"
      },
      "execution_count": 141,
      "outputs": []
    },
    {
      "cell_type": "code",
      "source": [
        "df_items.isnull().sum()[df_items.isnull().any()]"
      ],
      "metadata": {
        "colab": {
          "base_uri": "https://localhost:8080/"
        },
        "id": "E-1TEbuJLF55",
        "outputId": "fc517667-a3fe-4227-d9bd-cc55f69bd5c0"
      },
      "execution_count": 142,
      "outputs": [
        {
          "output_type": "execute_result",
          "data": {
            "text/plain": [
              "almonds           1754\n",
              "avocado           3112\n",
              "vegetables mix    4156\n",
              "green grapes      4972\n",
              "dtype: int64"
            ]
          },
          "metadata": {},
          "execution_count": 142
        }
      ]
    },
    {
      "cell_type": "markdown",
      "source": [
        "Les colones ayant de valeurs manquantes sont désormais à :"
      ],
      "metadata": {
        "id": "MQGjR0d_MbAa"
      }
    },
    {
      "cell_type": "code",
      "source": [
        "len(list(df_items.columns[df_items.isnull().any()]))"
      ],
      "metadata": {
        "colab": {
          "base_uri": "https://localhost:8080/"
        },
        "id": "_oDXszWZMY_o",
        "outputId": "3bc98f8e-b391-4c10-d79a-fac159e5423d"
      },
      "execution_count": 143,
      "outputs": [
        {
          "output_type": "execute_result",
          "data": {
            "text/plain": [
              "4"
            ]
          },
          "metadata": {},
          "execution_count": 143
        }
      ]
    },
    {
      "cell_type": "markdown",
      "source": [
        "Description de ces colones :"
      ],
      "metadata": {
        "id": "lO34IXe4Mod_"
      }
    },
    {
      "cell_type": "code",
      "source": [
        "df_items[df_items.columns[df_items.isnull().any()]].describe()"
      ],
      "metadata": {
        "colab": {
          "base_uri": "https://localhost:8080/",
          "height": 175
        },
        "id": "QcSm9sWLILMd",
        "outputId": "a223f0aa-499b-4a95-95ff-2cd65063a17e"
      },
      "execution_count": 144,
      "outputs": [
        {
          "output_type": "execute_result",
          "data": {
            "text/plain": [
              "              almonds        avocado vegetables mix green grapes\n",
              "count            5746           4388           3344         2528\n",
              "unique            117            115            114          110\n",
              "top     mineral water  mineral water  mineral water    green tea\n",
              "freq              484            375            201          153"
            ],
            "text/html": [
              "\n",
              "  <div id=\"df-36f0a579-9728-4db1-8e0d-39aabc1e32de\">\n",
              "    <div class=\"colab-df-container\">\n",
              "      <div>\n",
              "<style scoped>\n",
              "    .dataframe tbody tr th:only-of-type {\n",
              "        vertical-align: middle;\n",
              "    }\n",
              "\n",
              "    .dataframe tbody tr th {\n",
              "        vertical-align: top;\n",
              "    }\n",
              "\n",
              "    .dataframe thead th {\n",
              "        text-align: right;\n",
              "    }\n",
              "</style>\n",
              "<table border=\"1\" class=\"dataframe\">\n",
              "  <thead>\n",
              "    <tr style=\"text-align: right;\">\n",
              "      <th></th>\n",
              "      <th>almonds</th>\n",
              "      <th>avocado</th>\n",
              "      <th>vegetables mix</th>\n",
              "      <th>green grapes</th>\n",
              "    </tr>\n",
              "  </thead>\n",
              "  <tbody>\n",
              "    <tr>\n",
              "      <th>count</th>\n",
              "      <td>5746</td>\n",
              "      <td>4388</td>\n",
              "      <td>3344</td>\n",
              "      <td>2528</td>\n",
              "    </tr>\n",
              "    <tr>\n",
              "      <th>unique</th>\n",
              "      <td>117</td>\n",
              "      <td>115</td>\n",
              "      <td>114</td>\n",
              "      <td>110</td>\n",
              "    </tr>\n",
              "    <tr>\n",
              "      <th>top</th>\n",
              "      <td>mineral water</td>\n",
              "      <td>mineral water</td>\n",
              "      <td>mineral water</td>\n",
              "      <td>green tea</td>\n",
              "    </tr>\n",
              "    <tr>\n",
              "      <th>freq</th>\n",
              "      <td>484</td>\n",
              "      <td>375</td>\n",
              "      <td>201</td>\n",
              "      <td>153</td>\n",
              "    </tr>\n",
              "  </tbody>\n",
              "</table>\n",
              "</div>\n",
              "      <button class=\"colab-df-convert\" onclick=\"convertToInteractive('df-36f0a579-9728-4db1-8e0d-39aabc1e32de')\"\n",
              "              title=\"Convert this dataframe to an interactive table.\"\n",
              "              style=\"display:none;\">\n",
              "        \n",
              "  <svg xmlns=\"http://www.w3.org/2000/svg\" height=\"24px\"viewBox=\"0 0 24 24\"\n",
              "       width=\"24px\">\n",
              "    <path d=\"M0 0h24v24H0V0z\" fill=\"none\"/>\n",
              "    <path d=\"M18.56 5.44l.94 2.06.94-2.06 2.06-.94-2.06-.94-.94-2.06-.94 2.06-2.06.94zm-11 1L8.5 8.5l.94-2.06 2.06-.94-2.06-.94L8.5 2.5l-.94 2.06-2.06.94zm10 10l.94 2.06.94-2.06 2.06-.94-2.06-.94-.94-2.06-.94 2.06-2.06.94z\"/><path d=\"M17.41 7.96l-1.37-1.37c-.4-.4-.92-.59-1.43-.59-.52 0-1.04.2-1.43.59L10.3 9.45l-7.72 7.72c-.78.78-.78 2.05 0 2.83L4 21.41c.39.39.9.59 1.41.59.51 0 1.02-.2 1.41-.59l7.78-7.78 2.81-2.81c.8-.78.8-2.07 0-2.86zM5.41 20L4 18.59l7.72-7.72 1.47 1.35L5.41 20z\"/>\n",
              "  </svg>\n",
              "      </button>\n",
              "      \n",
              "  <style>\n",
              "    .colab-df-container {\n",
              "      display:flex;\n",
              "      flex-wrap:wrap;\n",
              "      gap: 12px;\n",
              "    }\n",
              "\n",
              "    .colab-df-convert {\n",
              "      background-color: #E8F0FE;\n",
              "      border: none;\n",
              "      border-radius: 50%;\n",
              "      cursor: pointer;\n",
              "      display: none;\n",
              "      fill: #1967D2;\n",
              "      height: 32px;\n",
              "      padding: 0 0 0 0;\n",
              "      width: 32px;\n",
              "    }\n",
              "\n",
              "    .colab-df-convert:hover {\n",
              "      background-color: #E2EBFA;\n",
              "      box-shadow: 0px 1px 2px rgba(60, 64, 67, 0.3), 0px 1px 3px 1px rgba(60, 64, 67, 0.15);\n",
              "      fill: #174EA6;\n",
              "    }\n",
              "\n",
              "    [theme=dark] .colab-df-convert {\n",
              "      background-color: #3B4455;\n",
              "      fill: #D2E3FC;\n",
              "    }\n",
              "\n",
              "    [theme=dark] .colab-df-convert:hover {\n",
              "      background-color: #434B5C;\n",
              "      box-shadow: 0px 1px 3px 1px rgba(0, 0, 0, 0.15);\n",
              "      filter: drop-shadow(0px 1px 2px rgba(0, 0, 0, 0.3));\n",
              "      fill: #FFFFFF;\n",
              "    }\n",
              "  </style>\n",
              "\n",
              "      <script>\n",
              "        const buttonEl =\n",
              "          document.querySelector('#df-36f0a579-9728-4db1-8e0d-39aabc1e32de button.colab-df-convert');\n",
              "        buttonEl.style.display =\n",
              "          google.colab.kernel.accessAllowed ? 'block' : 'none';\n",
              "\n",
              "        async function convertToInteractive(key) {\n",
              "          const element = document.querySelector('#df-36f0a579-9728-4db1-8e0d-39aabc1e32de');\n",
              "          const dataTable =\n",
              "            await google.colab.kernel.invokeFunction('convertToInteractive',\n",
              "                                                     [key], {});\n",
              "          if (!dataTable) return;\n",
              "\n",
              "          const docLinkHtml = 'Like what you see? Visit the ' +\n",
              "            '<a target=\"_blank\" href=https://colab.research.google.com/notebooks/data_table.ipynb>data table notebook</a>'\n",
              "            + ' to learn more about interactive tables.';\n",
              "          element.innerHTML = '';\n",
              "          dataTable['output_type'] = 'display_data';\n",
              "          await google.colab.output.renderOutput(dataTable, element);\n",
              "          const docLink = document.createElement('div');\n",
              "          docLink.innerHTML = docLinkHtml;\n",
              "          element.appendChild(docLink);\n",
              "        }\n",
              "      </script>\n",
              "    </div>\n",
              "  </div>\n",
              "  "
            ]
          },
          "metadata": {},
          "execution_count": 144
        }
      ]
    },
    {
      "cell_type": "markdown",
      "source": [
        "Nous allons remplacer les valeurs Nulls par les valeurs les plus fréquentes dans chaque colones"
      ],
      "metadata": {
        "id": "vrRhXLTfMw78"
      }
    },
    {
      "cell_type": "code",
      "source": [
        "for features in list(df_items.columns[df_items.isnull().any()]):\n",
        "    for i in range(df_items.shape[0]):\n",
        "      if(df_items[features].values[i] is np.nan):\n",
        "        df_items[features].values[i] = df_items[features].describe().get('top')"
      ],
      "metadata": {
        "id": "IeZuoTAsaha3"
      },
      "execution_count": 146,
      "outputs": []
    },
    {
      "cell_type": "markdown",
      "source": [
        "Il n'y plus de valeurs nulls "
      ],
      "metadata": {
        "id": "BIpbrVplNkqv"
      }
    },
    {
      "cell_type": "code",
      "source": [
        "len(list(df_items.columns[df_items.isnull().any()]))"
      ],
      "metadata": {
        "colab": {
          "base_uri": "https://localhost:8080/"
        },
        "id": "wIHny491NIpV",
        "outputId": "044877df-8684-4fb9-fa7d-f2f0d50faca1"
      },
      "execution_count": 147,
      "outputs": [
        {
          "output_type": "execute_result",
          "data": {
            "text/plain": [
              "0"
            ]
          },
          "metadata": {},
          "execution_count": 147
        }
      ]
    },
    {
      "cell_type": "markdown",
      "source": [
        "Nous allons donc poursuivre notre travail avec ce dataframe"
      ],
      "metadata": {
        "id": "uoLWoxOROLp3"
      }
    },
    {
      "cell_type": "code",
      "source": [
        "data =  df_items\n",
        "data"
      ],
      "metadata": {
        "colab": {
          "base_uri": "https://localhost:8080/",
          "height": 424
        },
        "id": "hFJgQch7N7sp",
        "outputId": "508f6077-861c-47e5-92b6-b147ecdeb352"
      },
      "execution_count": 192,
      "outputs": [
        {
          "output_type": "execute_result",
          "data": {
            "text/plain": [
              "              shrimp            almonds        avocado    vegetables mix  \\\n",
              "0            burgers          meatballs           eggs     mineral water   \n",
              "1            chutney      mineral water  mineral water     mineral water   \n",
              "2             turkey            avocado  mineral water     mineral water   \n",
              "3      mineral water               milk     energy bar  whole wheat rice   \n",
              "4     low fat yogurt      mineral water  mineral water     mineral water   \n",
              "...              ...                ...            ...               ...   \n",
              "7495          butter         light mayo    fresh bread     mineral water   \n",
              "7496         burgers  frozen vegetables           eggs      french fries   \n",
              "7497         chicken      mineral water  mineral water     mineral water   \n",
              "7498        escalope          green tea  mineral water     mineral water   \n",
              "7499            eggs    frozen smoothie    yogurt cake    low fat yogurt   \n",
              "\n",
              "     green grapes  \n",
              "0       green tea  \n",
              "1       green tea  \n",
              "2       green tea  \n",
              "3       green tea  \n",
              "4       green tea  \n",
              "...           ...  \n",
              "7495    green tea  \n",
              "7496    magazines  \n",
              "7497    green tea  \n",
              "7498    green tea  \n",
              "7499    green tea  \n",
              "\n",
              "[7500 rows x 5 columns]"
            ],
            "text/html": [
              "\n",
              "  <div id=\"df-c25421b6-973d-4379-b58a-eccaee6a85a7\">\n",
              "    <div class=\"colab-df-container\">\n",
              "      <div>\n",
              "<style scoped>\n",
              "    .dataframe tbody tr th:only-of-type {\n",
              "        vertical-align: middle;\n",
              "    }\n",
              "\n",
              "    .dataframe tbody tr th {\n",
              "        vertical-align: top;\n",
              "    }\n",
              "\n",
              "    .dataframe thead th {\n",
              "        text-align: right;\n",
              "    }\n",
              "</style>\n",
              "<table border=\"1\" class=\"dataframe\">\n",
              "  <thead>\n",
              "    <tr style=\"text-align: right;\">\n",
              "      <th></th>\n",
              "      <th>shrimp</th>\n",
              "      <th>almonds</th>\n",
              "      <th>avocado</th>\n",
              "      <th>vegetables mix</th>\n",
              "      <th>green grapes</th>\n",
              "    </tr>\n",
              "  </thead>\n",
              "  <tbody>\n",
              "    <tr>\n",
              "      <th>0</th>\n",
              "      <td>burgers</td>\n",
              "      <td>meatballs</td>\n",
              "      <td>eggs</td>\n",
              "      <td>mineral water</td>\n",
              "      <td>green tea</td>\n",
              "    </tr>\n",
              "    <tr>\n",
              "      <th>1</th>\n",
              "      <td>chutney</td>\n",
              "      <td>mineral water</td>\n",
              "      <td>mineral water</td>\n",
              "      <td>mineral water</td>\n",
              "      <td>green tea</td>\n",
              "    </tr>\n",
              "    <tr>\n",
              "      <th>2</th>\n",
              "      <td>turkey</td>\n",
              "      <td>avocado</td>\n",
              "      <td>mineral water</td>\n",
              "      <td>mineral water</td>\n",
              "      <td>green tea</td>\n",
              "    </tr>\n",
              "    <tr>\n",
              "      <th>3</th>\n",
              "      <td>mineral water</td>\n",
              "      <td>milk</td>\n",
              "      <td>energy bar</td>\n",
              "      <td>whole wheat rice</td>\n",
              "      <td>green tea</td>\n",
              "    </tr>\n",
              "    <tr>\n",
              "      <th>4</th>\n",
              "      <td>low fat yogurt</td>\n",
              "      <td>mineral water</td>\n",
              "      <td>mineral water</td>\n",
              "      <td>mineral water</td>\n",
              "      <td>green tea</td>\n",
              "    </tr>\n",
              "    <tr>\n",
              "      <th>...</th>\n",
              "      <td>...</td>\n",
              "      <td>...</td>\n",
              "      <td>...</td>\n",
              "      <td>...</td>\n",
              "      <td>...</td>\n",
              "    </tr>\n",
              "    <tr>\n",
              "      <th>7495</th>\n",
              "      <td>butter</td>\n",
              "      <td>light mayo</td>\n",
              "      <td>fresh bread</td>\n",
              "      <td>mineral water</td>\n",
              "      <td>green tea</td>\n",
              "    </tr>\n",
              "    <tr>\n",
              "      <th>7496</th>\n",
              "      <td>burgers</td>\n",
              "      <td>frozen vegetables</td>\n",
              "      <td>eggs</td>\n",
              "      <td>french fries</td>\n",
              "      <td>magazines</td>\n",
              "    </tr>\n",
              "    <tr>\n",
              "      <th>7497</th>\n",
              "      <td>chicken</td>\n",
              "      <td>mineral water</td>\n",
              "      <td>mineral water</td>\n",
              "      <td>mineral water</td>\n",
              "      <td>green tea</td>\n",
              "    </tr>\n",
              "    <tr>\n",
              "      <th>7498</th>\n",
              "      <td>escalope</td>\n",
              "      <td>green tea</td>\n",
              "      <td>mineral water</td>\n",
              "      <td>mineral water</td>\n",
              "      <td>green tea</td>\n",
              "    </tr>\n",
              "    <tr>\n",
              "      <th>7499</th>\n",
              "      <td>eggs</td>\n",
              "      <td>frozen smoothie</td>\n",
              "      <td>yogurt cake</td>\n",
              "      <td>low fat yogurt</td>\n",
              "      <td>green tea</td>\n",
              "    </tr>\n",
              "  </tbody>\n",
              "</table>\n",
              "<p>7500 rows × 5 columns</p>\n",
              "</div>\n",
              "      <button class=\"colab-df-convert\" onclick=\"convertToInteractive('df-c25421b6-973d-4379-b58a-eccaee6a85a7')\"\n",
              "              title=\"Convert this dataframe to an interactive table.\"\n",
              "              style=\"display:none;\">\n",
              "        \n",
              "  <svg xmlns=\"http://www.w3.org/2000/svg\" height=\"24px\"viewBox=\"0 0 24 24\"\n",
              "       width=\"24px\">\n",
              "    <path d=\"M0 0h24v24H0V0z\" fill=\"none\"/>\n",
              "    <path d=\"M18.56 5.44l.94 2.06.94-2.06 2.06-.94-2.06-.94-.94-2.06-.94 2.06-2.06.94zm-11 1L8.5 8.5l.94-2.06 2.06-.94-2.06-.94L8.5 2.5l-.94 2.06-2.06.94zm10 10l.94 2.06.94-2.06 2.06-.94-2.06-.94-.94-2.06-.94 2.06-2.06.94z\"/><path d=\"M17.41 7.96l-1.37-1.37c-.4-.4-.92-.59-1.43-.59-.52 0-1.04.2-1.43.59L10.3 9.45l-7.72 7.72c-.78.78-.78 2.05 0 2.83L4 21.41c.39.39.9.59 1.41.59.51 0 1.02-.2 1.41-.59l7.78-7.78 2.81-2.81c.8-.78.8-2.07 0-2.86zM5.41 20L4 18.59l7.72-7.72 1.47 1.35L5.41 20z\"/>\n",
              "  </svg>\n",
              "      </button>\n",
              "      \n",
              "  <style>\n",
              "    .colab-df-container {\n",
              "      display:flex;\n",
              "      flex-wrap:wrap;\n",
              "      gap: 12px;\n",
              "    }\n",
              "\n",
              "    .colab-df-convert {\n",
              "      background-color: #E8F0FE;\n",
              "      border: none;\n",
              "      border-radius: 50%;\n",
              "      cursor: pointer;\n",
              "      display: none;\n",
              "      fill: #1967D2;\n",
              "      height: 32px;\n",
              "      padding: 0 0 0 0;\n",
              "      width: 32px;\n",
              "    }\n",
              "\n",
              "    .colab-df-convert:hover {\n",
              "      background-color: #E2EBFA;\n",
              "      box-shadow: 0px 1px 2px rgba(60, 64, 67, 0.3), 0px 1px 3px 1px rgba(60, 64, 67, 0.15);\n",
              "      fill: #174EA6;\n",
              "    }\n",
              "\n",
              "    [theme=dark] .colab-df-convert {\n",
              "      background-color: #3B4455;\n",
              "      fill: #D2E3FC;\n",
              "    }\n",
              "\n",
              "    [theme=dark] .colab-df-convert:hover {\n",
              "      background-color: #434B5C;\n",
              "      box-shadow: 0px 1px 3px 1px rgba(0, 0, 0, 0.15);\n",
              "      filter: drop-shadow(0px 1px 2px rgba(0, 0, 0, 0.3));\n",
              "      fill: #FFFFFF;\n",
              "    }\n",
              "  </style>\n",
              "\n",
              "      <script>\n",
              "        const buttonEl =\n",
              "          document.querySelector('#df-c25421b6-973d-4379-b58a-eccaee6a85a7 button.colab-df-convert');\n",
              "        buttonEl.style.display =\n",
              "          google.colab.kernel.accessAllowed ? 'block' : 'none';\n",
              "\n",
              "        async function convertToInteractive(key) {\n",
              "          const element = document.querySelector('#df-c25421b6-973d-4379-b58a-eccaee6a85a7');\n",
              "          const dataTable =\n",
              "            await google.colab.kernel.invokeFunction('convertToInteractive',\n",
              "                                                     [key], {});\n",
              "          if (!dataTable) return;\n",
              "\n",
              "          const docLinkHtml = 'Like what you see? Visit the ' +\n",
              "            '<a target=\"_blank\" href=https://colab.research.google.com/notebooks/data_table.ipynb>data table notebook</a>'\n",
              "            + ' to learn more about interactive tables.';\n",
              "          element.innerHTML = '';\n",
              "          dataTable['output_type'] = 'display_data';\n",
              "          await google.colab.output.renderOutput(dataTable, element);\n",
              "          const docLink = document.createElement('div');\n",
              "          docLink.innerHTML = docLinkHtml;\n",
              "          element.appendChild(docLink);\n",
              "        }\n",
              "      </script>\n",
              "    </div>\n",
              "  </div>\n",
              "  "
            ]
          },
          "metadata": {},
          "execution_count": 192
        }
      ]
    },
    {
      "cell_type": "markdown",
      "source": [
        "## Apriori Preparation"
      ],
      "metadata": {
        "id": "M637MaR3OnzP"
      }
    },
    {
      "cell_type": "markdown",
      "source": [
        "Il faut formater notre dataset en liste "
      ],
      "metadata": {
        "id": "q9V-lF2pbN-W"
      }
    },
    {
      "cell_type": "code",
      "source": [
        "def format_to_liste(dataframe):\n",
        "  '''Transforme les données d'un dataframe sous forme de Tableau de List'''\n",
        "  L = []\n",
        "  for i in range(data.shape[0]):\n",
        "    L.append(list(list(data.values)[i]))\n",
        "\n",
        "  return L"
      ],
      "metadata": {
        "id": "Kk4jsRFXTLWo"
      },
      "execution_count": 215,
      "outputs": []
    },
    {
      "cell_type": "markdown",
      "source": [
        "Ensuite encoder notre dataset en One Hot "
      ],
      "metadata": {
        "id": "un1bphXVbWvW"
      }
    },
    {
      "cell_type": "code",
      "source": [
        "def appriori_preparation(Liste):\n",
        "  '''Transforme de Tableau de List en Dataframe encodé par l'algorithme TransactionEncoder basé sur le One-hot encoder. '''\n",
        "\n",
        "  import mlxtend\n",
        "  import pandas as pd\n",
        "  from mlxtend.preprocessing import TransactionEncoder\n",
        "\n",
        "  transaction_encoder=TransactionEncoder()\n",
        "\n",
        "  arrray_transaction_encoder=transaction_encoder.fit(Liste).transform(Liste)  \n",
        "\n",
        "  dataframe=pd.DataFrame(arrray_transaction_encoder, columns=transaction_encoder.columns_)  \n",
        "\n",
        "  return dataframe"
      ],
      "metadata": {
        "id": "PYyHpEo2Oqmg"
      },
      "execution_count": 255,
      "outputs": []
    },
    {
      "cell_type": "code",
      "source": [
        "Liste = format_to_liste(data)\n",
        "df_prepare = appriori_preparation(Liste)"
      ],
      "metadata": {
        "id": "UV2xq-RqP196"
      },
      "execution_count": 258,
      "outputs": []
    },
    {
      "cell_type": "code",
      "source": [
        "df_prepare.head()"
      ],
      "metadata": {
        "colab": {
          "base_uri": "https://localhost:8080/",
          "height": 314
        },
        "id": "kthxVRAqbuX4",
        "outputId": "ac7f32bc-b595-47c0-c99a-15e8f328069f"
      },
      "execution_count": 259,
      "outputs": [
        {
          "output_type": "execute_result",
          "data": {
            "text/plain": [
              "   almonds  antioxydant juice  asparagus  avocado  babies food  bacon  \\\n",
              "0    False              False      False    False        False  False   \n",
              "1    False              False      False    False        False  False   \n",
              "2    False              False      False     True        False  False   \n",
              "3    False              False      False    False        False  False   \n",
              "4    False              False      False    False        False  False   \n",
              "\n",
              "   barbecue sauce  black tea  blueberries  body spray  ...  turkey  \\\n",
              "0           False      False        False       False  ...   False   \n",
              "1           False      False        False       False  ...   False   \n",
              "2           False      False        False       False  ...    True   \n",
              "3           False      False        False       False  ...   False   \n",
              "4           False      False        False       False  ...   False   \n",
              "\n",
              "   vegetables mix  water spray  white wine  whole weat flour  \\\n",
              "0           False        False       False             False   \n",
              "1           False        False       False             False   \n",
              "2           False        False       False             False   \n",
              "3           False        False       False             False   \n",
              "4           False        False       False             False   \n",
              "\n",
              "   whole wheat pasta  whole wheat rice   yams  yogurt cake  zucchini  \n",
              "0              False             False  False        False     False  \n",
              "1              False             False  False        False     False  \n",
              "2              False             False  False        False     False  \n",
              "3              False              True  False        False     False  \n",
              "4              False             False  False        False     False  \n",
              "\n",
              "[5 rows x 119 columns]"
            ],
            "text/html": [
              "\n",
              "  <div id=\"df-6893cbfb-8f0b-4026-a17e-3cb11008158e\">\n",
              "    <div class=\"colab-df-container\">\n",
              "      <div>\n",
              "<style scoped>\n",
              "    .dataframe tbody tr th:only-of-type {\n",
              "        vertical-align: middle;\n",
              "    }\n",
              "\n",
              "    .dataframe tbody tr th {\n",
              "        vertical-align: top;\n",
              "    }\n",
              "\n",
              "    .dataframe thead th {\n",
              "        text-align: right;\n",
              "    }\n",
              "</style>\n",
              "<table border=\"1\" class=\"dataframe\">\n",
              "  <thead>\n",
              "    <tr style=\"text-align: right;\">\n",
              "      <th></th>\n",
              "      <th>almonds</th>\n",
              "      <th>antioxydant juice</th>\n",
              "      <th>asparagus</th>\n",
              "      <th>avocado</th>\n",
              "      <th>babies food</th>\n",
              "      <th>bacon</th>\n",
              "      <th>barbecue sauce</th>\n",
              "      <th>black tea</th>\n",
              "      <th>blueberries</th>\n",
              "      <th>body spray</th>\n",
              "      <th>...</th>\n",
              "      <th>turkey</th>\n",
              "      <th>vegetables mix</th>\n",
              "      <th>water spray</th>\n",
              "      <th>white wine</th>\n",
              "      <th>whole weat flour</th>\n",
              "      <th>whole wheat pasta</th>\n",
              "      <th>whole wheat rice</th>\n",
              "      <th>yams</th>\n",
              "      <th>yogurt cake</th>\n",
              "      <th>zucchini</th>\n",
              "    </tr>\n",
              "  </thead>\n",
              "  <tbody>\n",
              "    <tr>\n",
              "      <th>0</th>\n",
              "      <td>False</td>\n",
              "      <td>False</td>\n",
              "      <td>False</td>\n",
              "      <td>False</td>\n",
              "      <td>False</td>\n",
              "      <td>False</td>\n",
              "      <td>False</td>\n",
              "      <td>False</td>\n",
              "      <td>False</td>\n",
              "      <td>False</td>\n",
              "      <td>...</td>\n",
              "      <td>False</td>\n",
              "      <td>False</td>\n",
              "      <td>False</td>\n",
              "      <td>False</td>\n",
              "      <td>False</td>\n",
              "      <td>False</td>\n",
              "      <td>False</td>\n",
              "      <td>False</td>\n",
              "      <td>False</td>\n",
              "      <td>False</td>\n",
              "    </tr>\n",
              "    <tr>\n",
              "      <th>1</th>\n",
              "      <td>False</td>\n",
              "      <td>False</td>\n",
              "      <td>False</td>\n",
              "      <td>False</td>\n",
              "      <td>False</td>\n",
              "      <td>False</td>\n",
              "      <td>False</td>\n",
              "      <td>False</td>\n",
              "      <td>False</td>\n",
              "      <td>False</td>\n",
              "      <td>...</td>\n",
              "      <td>False</td>\n",
              "      <td>False</td>\n",
              "      <td>False</td>\n",
              "      <td>False</td>\n",
              "      <td>False</td>\n",
              "      <td>False</td>\n",
              "      <td>False</td>\n",
              "      <td>False</td>\n",
              "      <td>False</td>\n",
              "      <td>False</td>\n",
              "    </tr>\n",
              "    <tr>\n",
              "      <th>2</th>\n",
              "      <td>False</td>\n",
              "      <td>False</td>\n",
              "      <td>False</td>\n",
              "      <td>True</td>\n",
              "      <td>False</td>\n",
              "      <td>False</td>\n",
              "      <td>False</td>\n",
              "      <td>False</td>\n",
              "      <td>False</td>\n",
              "      <td>False</td>\n",
              "      <td>...</td>\n",
              "      <td>True</td>\n",
              "      <td>False</td>\n",
              "      <td>False</td>\n",
              "      <td>False</td>\n",
              "      <td>False</td>\n",
              "      <td>False</td>\n",
              "      <td>False</td>\n",
              "      <td>False</td>\n",
              "      <td>False</td>\n",
              "      <td>False</td>\n",
              "    </tr>\n",
              "    <tr>\n",
              "      <th>3</th>\n",
              "      <td>False</td>\n",
              "      <td>False</td>\n",
              "      <td>False</td>\n",
              "      <td>False</td>\n",
              "      <td>False</td>\n",
              "      <td>False</td>\n",
              "      <td>False</td>\n",
              "      <td>False</td>\n",
              "      <td>False</td>\n",
              "      <td>False</td>\n",
              "      <td>...</td>\n",
              "      <td>False</td>\n",
              "      <td>False</td>\n",
              "      <td>False</td>\n",
              "      <td>False</td>\n",
              "      <td>False</td>\n",
              "      <td>False</td>\n",
              "      <td>True</td>\n",
              "      <td>False</td>\n",
              "      <td>False</td>\n",
              "      <td>False</td>\n",
              "    </tr>\n",
              "    <tr>\n",
              "      <th>4</th>\n",
              "      <td>False</td>\n",
              "      <td>False</td>\n",
              "      <td>False</td>\n",
              "      <td>False</td>\n",
              "      <td>False</td>\n",
              "      <td>False</td>\n",
              "      <td>False</td>\n",
              "      <td>False</td>\n",
              "      <td>False</td>\n",
              "      <td>False</td>\n",
              "      <td>...</td>\n",
              "      <td>False</td>\n",
              "      <td>False</td>\n",
              "      <td>False</td>\n",
              "      <td>False</td>\n",
              "      <td>False</td>\n",
              "      <td>False</td>\n",
              "      <td>False</td>\n",
              "      <td>False</td>\n",
              "      <td>False</td>\n",
              "      <td>False</td>\n",
              "    </tr>\n",
              "  </tbody>\n",
              "</table>\n",
              "<p>5 rows × 119 columns</p>\n",
              "</div>\n",
              "      <button class=\"colab-df-convert\" onclick=\"convertToInteractive('df-6893cbfb-8f0b-4026-a17e-3cb11008158e')\"\n",
              "              title=\"Convert this dataframe to an interactive table.\"\n",
              "              style=\"display:none;\">\n",
              "        \n",
              "  <svg xmlns=\"http://www.w3.org/2000/svg\" height=\"24px\"viewBox=\"0 0 24 24\"\n",
              "       width=\"24px\">\n",
              "    <path d=\"M0 0h24v24H0V0z\" fill=\"none\"/>\n",
              "    <path d=\"M18.56 5.44l.94 2.06.94-2.06 2.06-.94-2.06-.94-.94-2.06-.94 2.06-2.06.94zm-11 1L8.5 8.5l.94-2.06 2.06-.94-2.06-.94L8.5 2.5l-.94 2.06-2.06.94zm10 10l.94 2.06.94-2.06 2.06-.94-2.06-.94-.94-2.06-.94 2.06-2.06.94z\"/><path d=\"M17.41 7.96l-1.37-1.37c-.4-.4-.92-.59-1.43-.59-.52 0-1.04.2-1.43.59L10.3 9.45l-7.72 7.72c-.78.78-.78 2.05 0 2.83L4 21.41c.39.39.9.59 1.41.59.51 0 1.02-.2 1.41-.59l7.78-7.78 2.81-2.81c.8-.78.8-2.07 0-2.86zM5.41 20L4 18.59l7.72-7.72 1.47 1.35L5.41 20z\"/>\n",
              "  </svg>\n",
              "      </button>\n",
              "      \n",
              "  <style>\n",
              "    .colab-df-container {\n",
              "      display:flex;\n",
              "      flex-wrap:wrap;\n",
              "      gap: 12px;\n",
              "    }\n",
              "\n",
              "    .colab-df-convert {\n",
              "      background-color: #E8F0FE;\n",
              "      border: none;\n",
              "      border-radius: 50%;\n",
              "      cursor: pointer;\n",
              "      display: none;\n",
              "      fill: #1967D2;\n",
              "      height: 32px;\n",
              "      padding: 0 0 0 0;\n",
              "      width: 32px;\n",
              "    }\n",
              "\n",
              "    .colab-df-convert:hover {\n",
              "      background-color: #E2EBFA;\n",
              "      box-shadow: 0px 1px 2px rgba(60, 64, 67, 0.3), 0px 1px 3px 1px rgba(60, 64, 67, 0.15);\n",
              "      fill: #174EA6;\n",
              "    }\n",
              "\n",
              "    [theme=dark] .colab-df-convert {\n",
              "      background-color: #3B4455;\n",
              "      fill: #D2E3FC;\n",
              "    }\n",
              "\n",
              "    [theme=dark] .colab-df-convert:hover {\n",
              "      background-color: #434B5C;\n",
              "      box-shadow: 0px 1px 3px 1px rgba(0, 0, 0, 0.15);\n",
              "      filter: drop-shadow(0px 1px 2px rgba(0, 0, 0, 0.3));\n",
              "      fill: #FFFFFF;\n",
              "    }\n",
              "  </style>\n",
              "\n",
              "      <script>\n",
              "        const buttonEl =\n",
              "          document.querySelector('#df-6893cbfb-8f0b-4026-a17e-3cb11008158e button.colab-df-convert');\n",
              "        buttonEl.style.display =\n",
              "          google.colab.kernel.accessAllowed ? 'block' : 'none';\n",
              "\n",
              "        async function convertToInteractive(key) {\n",
              "          const element = document.querySelector('#df-6893cbfb-8f0b-4026-a17e-3cb11008158e');\n",
              "          const dataTable =\n",
              "            await google.colab.kernel.invokeFunction('convertToInteractive',\n",
              "                                                     [key], {});\n",
              "          if (!dataTable) return;\n",
              "\n",
              "          const docLinkHtml = 'Like what you see? Visit the ' +\n",
              "            '<a target=\"_blank\" href=https://colab.research.google.com/notebooks/data_table.ipynb>data table notebook</a>'\n",
              "            + ' to learn more about interactive tables.';\n",
              "          element.innerHTML = '';\n",
              "          dataTable['output_type'] = 'display_data';\n",
              "          await google.colab.output.renderOutput(dataTable, element);\n",
              "          const docLink = document.createElement('div');\n",
              "          docLink.innerHTML = docLinkHtml;\n",
              "          element.appendChild(docLink);\n",
              "        }\n",
              "      </script>\n",
              "    </div>\n",
              "  </div>\n",
              "  "
            ]
          },
          "metadata": {},
          "execution_count": 259
        }
      ]
    },
    {
      "cell_type": "markdown",
      "source": [
        "Créer le dictionnaire de transation qui présente un dictionnaire des fréquences d'apparution de chaque produit "
      ],
      "metadata": {
        "id": "dhBdwQ1rhSUd"
      }
    },
    {
      "cell_type": "code",
      "source": [
        "def dictionnaire_transation(dataframe):\n",
        "  '''Recupère les Nombre d'occurences d'un éléments et  le stock dans un dataframe'''\n",
        "  Total_Transactions = dataframe.shape[0]\n",
        "  items = list(dataframe.columns)\n",
        "\n",
        "  dictionnaire_transation = {k:0 for k in items}\n",
        "\n",
        "  for item in items:\n",
        "    for i in  range(Total_Transactions):\n",
        "      if(dataframe.iloc[i][item] == True):\n",
        "        dictionnaire_transation[item] +=1\n",
        "\n",
        "  return dictionnaire_transation"
      ],
      "metadata": {
        "id": "WD7r339Rf1dW"
      },
      "execution_count": 260,
      "outputs": []
    },
    {
      "cell_type": "code",
      "source": [
        "dictionnaire_transation = dictionnaire_transation(df_prepare)\n",
        "dictionnaire_transation"
      ],
      "metadata": {
        "colab": {
          "base_uri": "https://localhost:8080/"
        },
        "id": "UVX8AFB-hQvJ",
        "outputId": "8ef1a21d-ccfb-468f-d65e-6fb5ef55f5fd"
      },
      "execution_count": 261,
      "outputs": [
        {
          "output_type": "execute_result",
          "data": {
            "text/plain": [
              "{'almonds': 115,\n",
              " 'antioxydant juice': 49,\n",
              " 'asparagus': 18,\n",
              " 'avocado': 227,\n",
              " 'babies food': 19,\n",
              " 'bacon': 45,\n",
              " 'barbecue sauce': 51,\n",
              " 'black tea': 80,\n",
              " 'blueberries': 43,\n",
              " 'body spray': 52,\n",
              " 'bramble': 7,\n",
              " 'brownies': 134,\n",
              " 'bug spray': 44,\n",
              " 'burger sauce': 23,\n",
              " 'burgers': 654,\n",
              " 'butter': 207,\n",
              " 'cake': 460,\n",
              " 'candy bars': 57,\n",
              " 'carrots': 66,\n",
              " 'cauliflower': 10,\n",
              " 'cereals': 115,\n",
              " 'champagne': 267,\n",
              " 'chicken': 314,\n",
              " 'chili': 23,\n",
              " 'chocolate': 1046,\n",
              " 'chocolate bread': 23,\n",
              " 'chutney': 22,\n",
              " 'cider': 67,\n",
              " 'clothes accessories': 44,\n",
              " 'cookies': 521,\n",
              " 'cooking oil': 243,\n",
              " 'corn': 23,\n",
              " 'cottage cheese': 140,\n",
              " 'cream': 5,\n",
              " 'dessert wine': 33,\n",
              " 'eggplant': 61,\n",
              " 'eggs': 1121,\n",
              " 'energy bar': 189,\n",
              " 'energy drink': 130,\n",
              " 'escalope': 448,\n",
              " 'extra dark chocolate': 50,\n",
              " 'flax seed': 64,\n",
              " 'french fries': 971,\n",
              " 'french wine': 132,\n",
              " 'fresh bread': 147,\n",
              " 'fresh tuna': 167,\n",
              " 'fromage blanc': 86,\n",
              " 'frozen smoothie': 264,\n",
              " 'frozen vegetables': 714,\n",
              " 'gluten free bar': 30,\n",
              " 'grated cheese': 393,\n",
              " 'green beans': 36,\n",
              " 'green grapes': 55,\n",
              " 'green tea': 5180,\n",
              " 'ground beef': 728,\n",
              " 'gums': 72,\n",
              " 'ham': 191,\n",
              " 'hand protein bar': 17,\n",
              " 'herb & pepper': 371,\n",
              " 'honey': 253,\n",
              " 'hot dogs': 146,\n",
              " 'ketchup': 17,\n",
              " 'light cream': 68,\n",
              " 'light mayo': 119,\n",
              " 'low fat yogurt': 321,\n",
              " 'magazines': 40,\n",
              " 'mashed potato': 18,\n",
              " 'mayonnaise': 20,\n",
              " 'meatballs': 142,\n",
              " 'melons': 53,\n",
              " 'milk': 866,\n",
              " 'mineral water': 5403,\n",
              " 'mint': 71,\n",
              " 'mint green tea': 29,\n",
              " 'muffins': 165,\n",
              " 'mushroom cream sauce': 105,\n",
              " 'napkins': 3,\n",
              " 'nonfat milk': 56,\n",
              " 'oatmeal': 18,\n",
              " 'oil': 112,\n",
              " 'olive oil': 385,\n",
              " 'pancakes': 476,\n",
              " 'parmesan cheese': 148,\n",
              " 'pasta': 109,\n",
              " 'pepper': 196,\n",
              " 'pet food': 31,\n",
              " 'pickles': 45,\n",
              " 'protein bar': 71,\n",
              " 'red wine': 211,\n",
              " 'rice': 92,\n",
              " 'salad': 20,\n",
              " 'salmon': 243,\n",
              " 'salt': 33,\n",
              " 'sandwich': 23,\n",
              " 'shallot': 44,\n",
              " 'shampoo': 13,\n",
              " 'shrimp': 534,\n",
              " 'soda': 35,\n",
              " 'soup': 348,\n",
              " 'spaghetti': 1273,\n",
              " 'sparkling water': 27,\n",
              " 'spinach': 43,\n",
              " 'strawberries': 114,\n",
              " 'strong cheese': 43,\n",
              " 'tea': 14,\n",
              " 'tomato juice': 107,\n",
              " 'tomato sauce': 104,\n",
              " 'tomatoes': 511,\n",
              " 'toothpaste': 27,\n",
              " 'turkey': 469,\n",
              " 'vegetables mix': 162,\n",
              " 'water spray': 3,\n",
              " 'white wine': 66,\n",
              " 'whole weat flour': 41,\n",
              " 'whole wheat pasta': 221,\n",
              " 'whole wheat rice': 339,\n",
              " 'yams': 83,\n",
              " 'yogurt cake': 144,\n",
              " 'zucchini': 38}"
            ]
          },
          "metadata": {},
          "execution_count": 261
        }
      ]
    },
    {
      "cell_type": "markdown",
      "source": [
        "Fonction qui transforme un dictionnaire de frequence sous le format d'un dataframe"
      ],
      "metadata": {
        "id": "nwpj9ZhRk9uf"
      }
    },
    {
      "cell_type": "code",
      "source": [
        "def format_to_Tableau_frequences(dictionnaire_transation):\n",
        "  '''Transforme un dictionnaire de frequence sous le format d'un dataframe'''\n",
        "  \n",
        "  return (lambda x : pd.DataFrame(x,index=range(1)))(dictionnaire_transation)"
      ],
      "metadata": {
        "id": "9FP_Rl2niMrT"
      },
      "execution_count": 275,
      "outputs": []
    },
    {
      "cell_type": "code",
      "source": [
        "Tableau_frequence = format_to_Tableau_frequences(dictionnaire_transation)\n",
        "Tableau_frequence"
      ],
      "metadata": {
        "colab": {
          "base_uri": "https://localhost:8080/",
          "height": 189
        },
        "id": "6I72lYUYjJrZ",
        "outputId": "a8ba3f66-0421-43e7-8352-1ef8d7848413"
      },
      "execution_count": 274,
      "outputs": [
        {
          "output_type": "execute_result",
          "data": {
            "text/plain": [
              "   almonds  antioxydant juice  asparagus  avocado  babies food  bacon  \\\n",
              "0      115                 49         18      227           19     45   \n",
              "\n",
              "   barbecue sauce  black tea  blueberries  body spray  ...  turkey  \\\n",
              "0              51         80           43          52  ...     469   \n",
              "\n",
              "   vegetables mix  water spray  white wine  whole weat flour  \\\n",
              "0             162            3          66                41   \n",
              "\n",
              "   whole wheat pasta  whole wheat rice  yams  yogurt cake  zucchini  \n",
              "0                221               339    83          144        38  \n",
              "\n",
              "[1 rows x 119 columns]"
            ],
            "text/html": [
              "\n",
              "  <div id=\"df-679c9354-1dec-40d2-86eb-97b1a371ce14\">\n",
              "    <div class=\"colab-df-container\">\n",
              "      <div>\n",
              "<style scoped>\n",
              "    .dataframe tbody tr th:only-of-type {\n",
              "        vertical-align: middle;\n",
              "    }\n",
              "\n",
              "    .dataframe tbody tr th {\n",
              "        vertical-align: top;\n",
              "    }\n",
              "\n",
              "    .dataframe thead th {\n",
              "        text-align: right;\n",
              "    }\n",
              "</style>\n",
              "<table border=\"1\" class=\"dataframe\">\n",
              "  <thead>\n",
              "    <tr style=\"text-align: right;\">\n",
              "      <th></th>\n",
              "      <th>almonds</th>\n",
              "      <th>antioxydant juice</th>\n",
              "      <th>asparagus</th>\n",
              "      <th>avocado</th>\n",
              "      <th>babies food</th>\n",
              "      <th>bacon</th>\n",
              "      <th>barbecue sauce</th>\n",
              "      <th>black tea</th>\n",
              "      <th>blueberries</th>\n",
              "      <th>body spray</th>\n",
              "      <th>...</th>\n",
              "      <th>turkey</th>\n",
              "      <th>vegetables mix</th>\n",
              "      <th>water spray</th>\n",
              "      <th>white wine</th>\n",
              "      <th>whole weat flour</th>\n",
              "      <th>whole wheat pasta</th>\n",
              "      <th>whole wheat rice</th>\n",
              "      <th>yams</th>\n",
              "      <th>yogurt cake</th>\n",
              "      <th>zucchini</th>\n",
              "    </tr>\n",
              "  </thead>\n",
              "  <tbody>\n",
              "    <tr>\n",
              "      <th>0</th>\n",
              "      <td>115</td>\n",
              "      <td>49</td>\n",
              "      <td>18</td>\n",
              "      <td>227</td>\n",
              "      <td>19</td>\n",
              "      <td>45</td>\n",
              "      <td>51</td>\n",
              "      <td>80</td>\n",
              "      <td>43</td>\n",
              "      <td>52</td>\n",
              "      <td>...</td>\n",
              "      <td>469</td>\n",
              "      <td>162</td>\n",
              "      <td>3</td>\n",
              "      <td>66</td>\n",
              "      <td>41</td>\n",
              "      <td>221</td>\n",
              "      <td>339</td>\n",
              "      <td>83</td>\n",
              "      <td>144</td>\n",
              "      <td>38</td>\n",
              "    </tr>\n",
              "  </tbody>\n",
              "</table>\n",
              "<p>1 rows × 119 columns</p>\n",
              "</div>\n",
              "      <button class=\"colab-df-convert\" onclick=\"convertToInteractive('df-679c9354-1dec-40d2-86eb-97b1a371ce14')\"\n",
              "              title=\"Convert this dataframe to an interactive table.\"\n",
              "              style=\"display:none;\">\n",
              "        \n",
              "  <svg xmlns=\"http://www.w3.org/2000/svg\" height=\"24px\"viewBox=\"0 0 24 24\"\n",
              "       width=\"24px\">\n",
              "    <path d=\"M0 0h24v24H0V0z\" fill=\"none\"/>\n",
              "    <path d=\"M18.56 5.44l.94 2.06.94-2.06 2.06-.94-2.06-.94-.94-2.06-.94 2.06-2.06.94zm-11 1L8.5 8.5l.94-2.06 2.06-.94-2.06-.94L8.5 2.5l-.94 2.06-2.06.94zm10 10l.94 2.06.94-2.06 2.06-.94-2.06-.94-.94-2.06-.94 2.06-2.06.94z\"/><path d=\"M17.41 7.96l-1.37-1.37c-.4-.4-.92-.59-1.43-.59-.52 0-1.04.2-1.43.59L10.3 9.45l-7.72 7.72c-.78.78-.78 2.05 0 2.83L4 21.41c.39.39.9.59 1.41.59.51 0 1.02-.2 1.41-.59l7.78-7.78 2.81-2.81c.8-.78.8-2.07 0-2.86zM5.41 20L4 18.59l7.72-7.72 1.47 1.35L5.41 20z\"/>\n",
              "  </svg>\n",
              "      </button>\n",
              "      \n",
              "  <style>\n",
              "    .colab-df-container {\n",
              "      display:flex;\n",
              "      flex-wrap:wrap;\n",
              "      gap: 12px;\n",
              "    }\n",
              "\n",
              "    .colab-df-convert {\n",
              "      background-color: #E8F0FE;\n",
              "      border: none;\n",
              "      border-radius: 50%;\n",
              "      cursor: pointer;\n",
              "      display: none;\n",
              "      fill: #1967D2;\n",
              "      height: 32px;\n",
              "      padding: 0 0 0 0;\n",
              "      width: 32px;\n",
              "    }\n",
              "\n",
              "    .colab-df-convert:hover {\n",
              "      background-color: #E2EBFA;\n",
              "      box-shadow: 0px 1px 2px rgba(60, 64, 67, 0.3), 0px 1px 3px 1px rgba(60, 64, 67, 0.15);\n",
              "      fill: #174EA6;\n",
              "    }\n",
              "\n",
              "    [theme=dark] .colab-df-convert {\n",
              "      background-color: #3B4455;\n",
              "      fill: #D2E3FC;\n",
              "    }\n",
              "\n",
              "    [theme=dark] .colab-df-convert:hover {\n",
              "      background-color: #434B5C;\n",
              "      box-shadow: 0px 1px 3px 1px rgba(0, 0, 0, 0.15);\n",
              "      filter: drop-shadow(0px 1px 2px rgba(0, 0, 0, 0.3));\n",
              "      fill: #FFFFFF;\n",
              "    }\n",
              "  </style>\n",
              "\n",
              "      <script>\n",
              "        const buttonEl =\n",
              "          document.querySelector('#df-679c9354-1dec-40d2-86eb-97b1a371ce14 button.colab-df-convert');\n",
              "        buttonEl.style.display =\n",
              "          google.colab.kernel.accessAllowed ? 'block' : 'none';\n",
              "\n",
              "        async function convertToInteractive(key) {\n",
              "          const element = document.querySelector('#df-679c9354-1dec-40d2-86eb-97b1a371ce14');\n",
              "          const dataTable =\n",
              "            await google.colab.kernel.invokeFunction('convertToInteractive',\n",
              "                                                     [key], {});\n",
              "          if (!dataTable) return;\n",
              "\n",
              "          const docLinkHtml = 'Like what you see? Visit the ' +\n",
              "            '<a target=\"_blank\" href=https://colab.research.google.com/notebooks/data_table.ipynb>data table notebook</a>'\n",
              "            + ' to learn more about interactive tables.';\n",
              "          element.innerHTML = '';\n",
              "          dataTable['output_type'] = 'display_data';\n",
              "          await google.colab.output.renderOutput(dataTable, element);\n",
              "          const docLink = document.createElement('div');\n",
              "          docLink.innerHTML = docLinkHtml;\n",
              "          element.appendChild(docLink);\n",
              "        }\n",
              "      </script>\n",
              "    </div>\n",
              "  </div>\n",
              "  "
            ]
          },
          "metadata": {},
          "execution_count": 274
        }
      ]
    },
    {
      "cell_type": "markdown",
      "source": [
        "Fonction qui presente des produits les plus fréquences sous forme de dataframe avec un filtrage soit ascendant soit déscendant"
      ],
      "metadata": {
        "id": "tMf7re9RkxcT"
      }
    },
    {
      "cell_type": "code",
      "source": [
        "def presentation_item_frequence(Tableau_frequence, filtage='desc'):\n",
        "  '''Fonction qui presente les produits et les fréquences avec un filtrage ascendant, filtage = desc ou asc'''\n",
        "\n",
        "  import pandas as pd\n",
        "\n",
        "  df = pd.DataFrame()\n",
        "  df['items'] = Tableau_frequence.columns\n",
        "  df['frequences'] = Tableau_frequence.T.values\n",
        "  if(filtage =='desc'):\n",
        "    df = df.sort_values(by='frequences', ascending=False)\n",
        "  else:\n",
        "    df = df.sort_values(by='frequences', ascending=True)\n",
        "  \n",
        "  return df"
      ],
      "metadata": {
        "id": "QLdLseHakRUd"
      },
      "execution_count": 308,
      "outputs": []
    },
    {
      "cell_type": "code",
      "source": [
        "df = presentation_item_frequence(Tableau_frequence, filtage='desc')\n",
        "df.head()"
      ],
      "metadata": {
        "colab": {
          "base_uri": "https://localhost:8080/",
          "height": 206
        },
        "id": "TgVq_nVcmAQ_",
        "outputId": "6e582ca5-c73d-4528-c590-fd86023470a8"
      },
      "execution_count": 337,
      "outputs": [
        {
          "output_type": "execute_result",
          "data": {
            "text/plain": [
              "            items  frequences\n",
              "71  mineral water        5403\n",
              "53      green tea        5180\n",
              "99      spaghetti        1273\n",
              "36           eggs        1121\n",
              "24      chocolate        1046"
            ],
            "text/html": [
              "\n",
              "  <div id=\"df-00506eb2-879b-49b2-b330-9a36939d0cc8\">\n",
              "    <div class=\"colab-df-container\">\n",
              "      <div>\n",
              "<style scoped>\n",
              "    .dataframe tbody tr th:only-of-type {\n",
              "        vertical-align: middle;\n",
              "    }\n",
              "\n",
              "    .dataframe tbody tr th {\n",
              "        vertical-align: top;\n",
              "    }\n",
              "\n",
              "    .dataframe thead th {\n",
              "        text-align: right;\n",
              "    }\n",
              "</style>\n",
              "<table border=\"1\" class=\"dataframe\">\n",
              "  <thead>\n",
              "    <tr style=\"text-align: right;\">\n",
              "      <th></th>\n",
              "      <th>items</th>\n",
              "      <th>frequences</th>\n",
              "    </tr>\n",
              "  </thead>\n",
              "  <tbody>\n",
              "    <tr>\n",
              "      <th>71</th>\n",
              "      <td>mineral water</td>\n",
              "      <td>5403</td>\n",
              "    </tr>\n",
              "    <tr>\n",
              "      <th>53</th>\n",
              "      <td>green tea</td>\n",
              "      <td>5180</td>\n",
              "    </tr>\n",
              "    <tr>\n",
              "      <th>99</th>\n",
              "      <td>spaghetti</td>\n",
              "      <td>1273</td>\n",
              "    </tr>\n",
              "    <tr>\n",
              "      <th>36</th>\n",
              "      <td>eggs</td>\n",
              "      <td>1121</td>\n",
              "    </tr>\n",
              "    <tr>\n",
              "      <th>24</th>\n",
              "      <td>chocolate</td>\n",
              "      <td>1046</td>\n",
              "    </tr>\n",
              "  </tbody>\n",
              "</table>\n",
              "</div>\n",
              "      <button class=\"colab-df-convert\" onclick=\"convertToInteractive('df-00506eb2-879b-49b2-b330-9a36939d0cc8')\"\n",
              "              title=\"Convert this dataframe to an interactive table.\"\n",
              "              style=\"display:none;\">\n",
              "        \n",
              "  <svg xmlns=\"http://www.w3.org/2000/svg\" height=\"24px\"viewBox=\"0 0 24 24\"\n",
              "       width=\"24px\">\n",
              "    <path d=\"M0 0h24v24H0V0z\" fill=\"none\"/>\n",
              "    <path d=\"M18.56 5.44l.94 2.06.94-2.06 2.06-.94-2.06-.94-.94-2.06-.94 2.06-2.06.94zm-11 1L8.5 8.5l.94-2.06 2.06-.94-2.06-.94L8.5 2.5l-.94 2.06-2.06.94zm10 10l.94 2.06.94-2.06 2.06-.94-2.06-.94-.94-2.06-.94 2.06-2.06.94z\"/><path d=\"M17.41 7.96l-1.37-1.37c-.4-.4-.92-.59-1.43-.59-.52 0-1.04.2-1.43.59L10.3 9.45l-7.72 7.72c-.78.78-.78 2.05 0 2.83L4 21.41c.39.39.9.59 1.41.59.51 0 1.02-.2 1.41-.59l7.78-7.78 2.81-2.81c.8-.78.8-2.07 0-2.86zM5.41 20L4 18.59l7.72-7.72 1.47 1.35L5.41 20z\"/>\n",
              "  </svg>\n",
              "      </button>\n",
              "      \n",
              "  <style>\n",
              "    .colab-df-container {\n",
              "      display:flex;\n",
              "      flex-wrap:wrap;\n",
              "      gap: 12px;\n",
              "    }\n",
              "\n",
              "    .colab-df-convert {\n",
              "      background-color: #E8F0FE;\n",
              "      border: none;\n",
              "      border-radius: 50%;\n",
              "      cursor: pointer;\n",
              "      display: none;\n",
              "      fill: #1967D2;\n",
              "      height: 32px;\n",
              "      padding: 0 0 0 0;\n",
              "      width: 32px;\n",
              "    }\n",
              "\n",
              "    .colab-df-convert:hover {\n",
              "      background-color: #E2EBFA;\n",
              "      box-shadow: 0px 1px 2px rgba(60, 64, 67, 0.3), 0px 1px 3px 1px rgba(60, 64, 67, 0.15);\n",
              "      fill: #174EA6;\n",
              "    }\n",
              "\n",
              "    [theme=dark] .colab-df-convert {\n",
              "      background-color: #3B4455;\n",
              "      fill: #D2E3FC;\n",
              "    }\n",
              "\n",
              "    [theme=dark] .colab-df-convert:hover {\n",
              "      background-color: #434B5C;\n",
              "      box-shadow: 0px 1px 3px 1px rgba(0, 0, 0, 0.15);\n",
              "      filter: drop-shadow(0px 1px 2px rgba(0, 0, 0, 0.3));\n",
              "      fill: #FFFFFF;\n",
              "    }\n",
              "  </style>\n",
              "\n",
              "      <script>\n",
              "        const buttonEl =\n",
              "          document.querySelector('#df-00506eb2-879b-49b2-b330-9a36939d0cc8 button.colab-df-convert');\n",
              "        buttonEl.style.display =\n",
              "          google.colab.kernel.accessAllowed ? 'block' : 'none';\n",
              "\n",
              "        async function convertToInteractive(key) {\n",
              "          const element = document.querySelector('#df-00506eb2-879b-49b2-b330-9a36939d0cc8');\n",
              "          const dataTable =\n",
              "            await google.colab.kernel.invokeFunction('convertToInteractive',\n",
              "                                                     [key], {});\n",
              "          if (!dataTable) return;\n",
              "\n",
              "          const docLinkHtml = 'Like what you see? Visit the ' +\n",
              "            '<a target=\"_blank\" href=https://colab.research.google.com/notebooks/data_table.ipynb>data table notebook</a>'\n",
              "            + ' to learn more about interactive tables.';\n",
              "          element.innerHTML = '';\n",
              "          dataTable['output_type'] = 'display_data';\n",
              "          await google.colab.output.renderOutput(dataTable, element);\n",
              "          const docLink = document.createElement('div');\n",
              "          docLink.innerHTML = docLinkHtml;\n",
              "          element.appendChild(docLink);\n",
              "        }\n",
              "      </script>\n",
              "    </div>\n",
              "  </div>\n",
              "  "
            ]
          },
          "metadata": {},
          "execution_count": 337
        }
      ]
    },
    {
      "cell_type": "markdown",
      "source": [
        "# Plot "
      ],
      "metadata": {
        "id": "VmQzI9p2frNz"
      }
    },
    {
      "cell_type": "code",
      "source": [
        "import matplotlib.pyplot as plt\n",
        "import pandas as pd\n",
        "import seaborn as sns\n",
        "import numpy as np"
      ],
      "metadata": {
        "id": "zeRKpibed7EB"
      },
      "execution_count": null,
      "outputs": []
    },
    {
      "cell_type": "markdown",
      "source": [
        "Bar Plot des produits les plus frequents au cours des transactions"
      ],
      "metadata": {
        "id": "jHpbFQ4wm34z"
      }
    },
    {
      "cell_type": "code",
      "source": [
        "def frequence_plot(df,title='Les fréquence des produits',xlabel='Fréquences', ylabel='Noms des produits',size=(15, 10), font_size=15):\n",
        "  '''Plot des produits les plus frequents au cours des transactions sous un digramme Bar plot'''\n",
        "   \n",
        "  import matplotlib.pyplot as plt\n",
        "  import seaborn as sns\n",
        "  \n",
        "  f, ax = plt.subplots(figsize =size)\n",
        "  sns.barplot(data=df, x='items',y='frequences')\n",
        "  sns.despine(offset=10, trim=True);\n",
        "  ax.set_xlabel(xlabel, fontsize=int(font_size-25/100*font_size))\n",
        "  ax.set_ylabel(ylabel, fontsize=int(font_size-25/100*font_size))\n",
        "  ax.set_title(title, fontsize=font_size)\n",
        "  return plt.show()"
      ],
      "metadata": {
        "id": "GQB8saGZmfDU"
      },
      "execution_count": 318,
      "outputs": []
    },
    {
      "cell_type": "code",
      "source": [
        "frequence_plot(pd.DataFrame(df.head(5)),title='Les 5 preduits les moins fréquents')"
      ],
      "metadata": {
        "colab": {
          "base_uri": "https://localhost:8080/",
          "height": 635
        },
        "id": "FAV2J970pwL8",
        "outputId": "c807c608-c02c-46c7-e47c-98e19352639f"
      },
      "execution_count": 338,
      "outputs": [
        {
          "output_type": "display_data",
          "data": {
            "text/plain": [
              "<Figure size 1080x720 with 1 Axes>"
            ],
            "image/png": "[encoded data removed]"
          },
          "metadata": {}
        }
      ]
    },
    {
      "cell_type": "markdown",
      "source": [
        "Cartographie les produits selon leur frequents au cours des transactions"
      ],
      "metadata": {
        "id": "rjqtklcCwNtx"
      }
    },
    {
      "cell_type": "code",
      "source": [
        "def carte_plot(df, title='Carte map des produits selon leur frequences \\n',size_plot=(15, 10), font_size=20):\n",
        "  '''Cartographie les produits selon leur frequents au cours des transactions à l'aide Treemap de squarify'''\n",
        "\n",
        "  import squarify\n",
        "  import matplotlib.pyplot as plt\n",
        "  import seaborn as sns\n",
        "\n",
        "  f, ax = plt.subplots(figsize =size_plot)\n",
        "  sns.set_style(style=\"whitegrid\")\n",
        "  sizes=df['frequences']\n",
        "  label=df['items']\n",
        "  squarify.plot(sizes=sizes, \n",
        "                label=label, \n",
        "                alpha=0.8,\n",
        "                color=sns.color_palette(\"Spectral\", \n",
        "                                      len(df)),\n",
        "                pad=1,\n",
        "                text_kwargs={'fontsize': int(font_size-20/100*font_size)}\n",
        "                )\n",
        "  ax.set_title(title, fontsize=font_size)\n",
        "\n",
        "  plt.axis('off')\n",
        "  return plt.show()"
      ],
      "metadata": {
        "id": "fNziD6l5rNhk"
      },
      "execution_count": 335,
      "outputs": []
    },
    {
      "cell_type": "code",
      "source": [
        "carte_plot(df.head(10), size_plot=(12,12),font_size=15)"
      ],
      "metadata": {
        "colab": {
          "base_uri": "https://localhost:8080/",
          "height": 719
        },
        "id": "CGeQZ87Hyuqu",
        "outputId": "436c42e2-f6ab-45fa-cb07-072ad42ccefc"
      },
      "execution_count": 339,
      "outputs": [
        {
          "output_type": "display_data",
          "data": {
            "text/plain": [
              "<Figure size 864x864 with 1 Axes>"
            ],
            "image/png": "[encoded data removed]"
          },
          "metadata": {}
        }
      ]
    },
    {
      "cell_type": "markdown",
      "source": [
        "Topologie de réseau "
      ],
      "metadata": {
        "id": "lZzTO3ow8jcI"
      }
    },
    {
      "cell_type": "code",
      "source": [
        "\n",
        "def network_plot(df, title='Topologie Réseau des articles \\n',size_plot=(15, 10), font_size=20):\n",
        "  ''''permetre de génerer des topologies de réseau dans le but de voir la rélation en les Noeuds (entiers) et les arretes (catégorique) en implémentant notre stucture de données hiéarchisé qui est le dataframe frequence\n",
        "      dépendance :\n",
        "      pip install networkx \n",
        "  '''\n",
        "  \n",
        "  import networkx as nx\n",
        "\n",
        "  f, ax = plt.subplots(figsize =size_plot)\n",
        "  G = nx.from_pandas_edgelist(df, 'items', 'frequences')\n",
        "  colors=[\n",
        "          '#C3F8FF',\n",
        "          '#ABD9FF',\n",
        "          '#FFF6BF',\n",
        "          '#FFEBAD',\n",
        "          ]\n",
        "  color_map = []\n",
        "  for node in G:\n",
        "      if node in list(df.frequences):\n",
        "        color_map.append(colors[0])\n",
        "      else: \n",
        "          color_map.append(colors[2])      \n",
        "  nx.draw(G, \n",
        "          node_color=color_map, \n",
        "          with_labels=True, \n",
        "          font_size=int(font_size-30/100*font_size),\n",
        "          font_color='b',\n",
        "          node_size=500,\n",
        "          arrowsize = 100,\n",
        "          )\n",
        "  \n",
        "  ax.set_title(title, fontsize=font_size)\n",
        "  return plt.show()"
      ],
      "metadata": {
        "id": "MkwJompJ0OEa"
      },
      "execution_count": 410,
      "outputs": []
    },
    {
      "cell_type": "code",
      "source": [
        "network_plot(df.head(30))"
      ],
      "metadata": {
        "colab": {
          "base_uri": "https://localhost:8080/",
          "height": 619
        },
        "id": "MQQ2fya48vLY",
        "outputId": "be4bff54-ecee-4453-ef6b-aeb56eae1581"
      },
      "execution_count": 411,
      "outputs": [
        {
          "output_type": "display_data",
          "data": {
            "text/plain": [
              "<Figure size 1080x720 with 1 Axes>"
            ],
            "image/png": "[encoded data removed]"
          },
          "metadata": {}
        }
      ]
    },
    {
      "cell_type": "markdown",
      "source": [
        "# Algorithm Association Rules"
      ],
      "metadata": {
        "id": "Z2aJI24HNZ-C"
      }
    },
    {
      "cell_type": "markdown",
      "source": [
        "Support Score "
      ],
      "metadata": {
        "id": "nE1ApWMvNJOB"
      }
    },
    {
      "cell_type": "code",
      "source": [
        "def Support_Score(dataframe, min_supp=0.6):\n",
        "  ''''\n",
        "  Sélections des ensembles d'éléments (itemsets) avec un minimum de support.\n",
        "  Utilise l'algorithm apriori qui retourne par défaut l'indice de la colone du dataframe (item). le paramètre use_colnames=True permet de remplacer les indice par leu noms ou items\n",
        "  '''\n",
        "  from mlxtend.frequent_patterns import apriori\n",
        "\n",
        "  return apriori(dataframe, min_support=min_supp, use_colnames=True)"
      ],
      "metadata": {
        "id": "8eo8zsne-LQL"
      },
      "execution_count": 419,
      "outputs": []
    },
    {
      "cell_type": "code",
      "source": [
        "matrice_support = Support_Score(df_prepare, min_supp=0.16)"
      ],
      "metadata": {
        "id": "5FPvJpXbOJ1u"
      },
      "execution_count": 428,
      "outputs": []
    },
    {
      "cell_type": "code",
      "source": [
        "matrice_support"
      ],
      "metadata": {
        "colab": {
          "base_uri": "https://localhost:8080/",
          "height": 175
        },
        "id": "aNsJNO5XROaX",
        "outputId": "c88e759f-403c-4821-ddf3-c710ae30dedd"
      },
      "execution_count": 429,
      "outputs": [
        {
          "output_type": "execute_result",
          "data": {
            "text/plain": [
              "    support                    itemsets\n",
              "0  0.690667                 (green tea)\n",
              "1  0.720400             (mineral water)\n",
              "2  0.169733                 (spaghetti)\n",
              "3  0.591200  (green tea, mineral water)"
            ],
            "text/html": [
              "\n",
              "  <div id=\"df-52b88a09-cd3c-4987-a840-8fa6f145f50d\">\n",
              "    <div class=\"colab-df-container\">\n",
              "      <div>\n",
              "<style scoped>\n",
              "    .dataframe tbody tr th:only-of-type {\n",
              "        vertical-align: middle;\n",
              "    }\n",
              "\n",
              "    .dataframe tbody tr th {\n",
              "        vertical-align: top;\n",
              "    }\n",
              "\n",
              "    .dataframe thead th {\n",
              "        text-align: right;\n",
              "    }\n",
              "</style>\n",
              "<table border=\"1\" class=\"dataframe\">\n",
              "  <thead>\n",
              "    <tr style=\"text-align: right;\">\n",
              "      <th></th>\n",
              "      <th>support</th>\n",
              "      <th>itemsets</th>\n",
              "    </tr>\n",
              "  </thead>\n",
              "  <tbody>\n",
              "    <tr>\n",
              "      <th>0</th>\n",
              "      <td>0.690667</td>\n",
              "      <td>(green tea)</td>\n",
              "    </tr>\n",
              "    <tr>\n",
              "      <th>1</th>\n",
              "      <td>0.720400</td>\n",
              "      <td>(mineral water)</td>\n",
              "    </tr>\n",
              "    <tr>\n",
              "      <th>2</th>\n",
              "      <td>0.169733</td>\n",
              "      <td>(spaghetti)</td>\n",
              "    </tr>\n",
              "    <tr>\n",
              "      <th>3</th>\n",
              "      <td>0.591200</td>\n",
              "      <td>(green tea, mineral water)</td>\n",
              "    </tr>\n",
              "  </tbody>\n",
              "</table>\n",
              "</div>\n",
              "      <button class=\"colab-df-convert\" onclick=\"convertToInteractive('df-52b88a09-cd3c-4987-a840-8fa6f145f50d')\"\n",
              "              title=\"Convert this dataframe to an interactive table.\"\n",
              "              style=\"display:none;\">\n",
              "        \n",
              "  <svg xmlns=\"http://www.w3.org/2000/svg\" height=\"24px\"viewBox=\"0 0 24 24\"\n",
              "       width=\"24px\">\n",
              "    <path d=\"M0 0h24v24H0V0z\" fill=\"none\"/>\n",
              "    <path d=\"M18.56 5.44l.94 2.06.94-2.06 2.06-.94-2.06-.94-.94-2.06-.94 2.06-2.06.94zm-11 1L8.5 8.5l.94-2.06 2.06-.94-2.06-.94L8.5 2.5l-.94 2.06-2.06.94zm10 10l.94 2.06.94-2.06 2.06-.94-2.06-.94-.94-2.06-.94 2.06-2.06.94z\"/><path d=\"M17.41 7.96l-1.37-1.37c-.4-.4-.92-.59-1.43-.59-.52 0-1.04.2-1.43.59L10.3 9.45l-7.72 7.72c-.78.78-.78 2.05 0 2.83L4 21.41c.39.39.9.59 1.41.59.51 0 1.02-.2 1.41-.59l7.78-7.78 2.81-2.81c.8-.78.8-2.07 0-2.86zM5.41 20L4 18.59l7.72-7.72 1.47 1.35L5.41 20z\"/>\n",
              "  </svg>\n",
              "      </button>\n",
              "      \n",
              "  <style>\n",
              "    .colab-df-container {\n",
              "      display:flex;\n",
              "      flex-wrap:wrap;\n",
              "      gap: 12px;\n",
              "    }\n",
              "\n",
              "    .colab-df-convert {\n",
              "      background-color: #E8F0FE;\n",
              "      border: none;\n",
              "      border-radius: 50%;\n",
              "      cursor: pointer;\n",
              "      display: none;\n",
              "      fill: #1967D2;\n",
              "      height: 32px;\n",
              "      padding: 0 0 0 0;\n",
              "      width: 32px;\n",
              "    }\n",
              "\n",
              "    .colab-df-convert:hover {\n",
              "      background-color: #E2EBFA;\n",
              "      box-shadow: 0px 1px 2px rgba(60, 64, 67, 0.3), 0px 1px 3px 1px rgba(60, 64, 67, 0.15);\n",
              "      fill: #174EA6;\n",
              "    }\n",
              "\n",
              "    [theme=dark] .colab-df-convert {\n",
              "      background-color: #3B4455;\n",
              "      fill: #D2E3FC;\n",
              "    }\n",
              "\n",
              "    [theme=dark] .colab-df-convert:hover {\n",
              "      background-color: #434B5C;\n",
              "      box-shadow: 0px 1px 3px 1px rgba(0, 0, 0, 0.15);\n",
              "      filter: drop-shadow(0px 1px 2px rgba(0, 0, 0, 0.3));\n",
              "      fill: #FFFFFF;\n",
              "    }\n",
              "  </style>\n",
              "\n",
              "      <script>\n",
              "        const buttonEl =\n",
              "          document.querySelector('#df-52b88a09-cd3c-4987-a840-8fa6f145f50d button.colab-df-convert');\n",
              "        buttonEl.style.display =\n",
              "          google.colab.kernel.accessAllowed ? 'block' : 'none';\n",
              "\n",
              "        async function convertToInteractive(key) {\n",
              "          const element = document.querySelector('#df-52b88a09-cd3c-4987-a840-8fa6f145f50d');\n",
              "          const dataTable =\n",
              "            await google.colab.kernel.invokeFunction('convertToInteractive',\n",
              "                                                     [key], {});\n",
              "          if (!dataTable) return;\n",
              "\n",
              "          const docLinkHtml = 'Like what you see? Visit the ' +\n",
              "            '<a target=\"_blank\" href=https://colab.research.google.com/notebooks/data_table.ipynb>data table notebook</a>'\n",
              "            + ' to learn more about interactive tables.';\n",
              "          element.innerHTML = '';\n",
              "          dataTable['output_type'] = 'display_data';\n",
              "          await google.colab.output.renderOutput(dataTable, element);\n",
              "          const docLink = document.createElement('div');\n",
              "          docLink.innerHTML = docLinkHtml;\n",
              "          element.appendChild(docLink);\n",
              "        }\n",
              "      </script>\n",
              "    </div>\n",
              "  </div>\n",
              "  "
            ]
          },
          "metadata": {},
          "execution_count": 429
        }
      ]
    },
    {
      "cell_type": "markdown",
      "source": [
        "confidence score"
      ],
      "metadata": {
        "id": "ql44Bcq8QLrt"
      }
    },
    {
      "cell_type": "code",
      "source": [
        "def Confidence_Score(matrice_support, threshold=0.7):\n",
        "  '''\n",
        "     Confidence Code\n",
        "\n",
        "    Si nous voulons extraire des règles basées sur d'autres métriques comme la confidence, \n",
        "    nous pouvons utiliser association_rules de la bibliothèque mlxtend.frequent_patterns.\n",
        "\n",
        "    associent des itemsets avec un niveau de confidence supérieur min_threshold\n",
        "  '''\n",
        "\n",
        "  from mlxtend.frequent_patterns import association_rules \n",
        "\n",
        "  return association_rules(matrice_support,metric=\"confidence\",min_threshold=threshold)"
      ],
      "metadata": {
        "id": "0jJ-_-eXQJ1K"
      },
      "execution_count": 427,
      "outputs": []
    },
    {
      "cell_type": "code",
      "source": [
        "matrice_confiance = Confidence_Score(matrice_support)"
      ],
      "metadata": {
        "id": "Z-DXCpybRFiN"
      },
      "execution_count": 430,
      "outputs": []
    },
    {
      "cell_type": "code",
      "source": [
        "matrice_confiance"
      ],
      "metadata": {
        "colab": {
          "base_uri": "https://localhost:8080/",
          "height": 112
        },
        "id": "v6ogVgV1RYgr",
        "outputId": "0194e670-70a4-4696-de80-20371bad1013"
      },
      "execution_count": 431,
      "outputs": [
        {
          "output_type": "execute_result",
          "data": {
            "text/plain": [
              "       antecedents      consequents  antecedent support  consequent support  \\\n",
              "0      (green tea)  (mineral water)            0.690667            0.720400   \n",
              "1  (mineral water)      (green tea)            0.720400            0.690667   \n",
              "\n",
              "   support  confidence      lift  leverage  conviction  \n",
              "0   0.5912    0.855985  1.188207  0.093644    1.941458  \n",
              "1   0.5912    0.820655  1.188207  0.093644    1.724797  "
            ],
            "text/html": [
              "\n",
              "  <div id=\"df-09c74dfa-3afe-4457-9647-a5dfe0cfa464\">\n",
              "    <div class=\"colab-df-container\">\n",
              "      <div>\n",
              "<style scoped>\n",
              "    .dataframe tbody tr th:only-of-type {\n",
              "        vertical-align: middle;\n",
              "    }\n",
              "\n",
              "    .dataframe tbody tr th {\n",
              "        vertical-align: top;\n",
              "    }\n",
              "\n",
              "    .dataframe thead th {\n",
              "        text-align: right;\n",
              "    }\n",
              "</style>\n",
              "<table border=\"1\" class=\"dataframe\">\n",
              "  <thead>\n",
              "    <tr style=\"text-align: right;\">\n",
              "      <th></th>\n",
              "      <th>antecedents</th>\n",
              "      <th>consequents</th>\n",
              "      <th>antecedent support</th>\n",
              "      <th>consequent support</th>\n",
              "      <th>support</th>\n",
              "      <th>confidence</th>\n",
              "      <th>lift</th>\n",
              "      <th>leverage</th>\n",
              "      <th>conviction</th>\n",
              "    </tr>\n",
              "  </thead>\n",
              "  <tbody>\n",
              "    <tr>\n",
              "      <th>0</th>\n",
              "      <td>(green tea)</td>\n",
              "      <td>(mineral water)</td>\n",
              "      <td>0.690667</td>\n",
              "      <td>0.720400</td>\n",
              "      <td>0.5912</td>\n",
              "      <td>0.855985</td>\n",
              "      <td>1.188207</td>\n",
              "      <td>0.093644</td>\n",
              "      <td>1.941458</td>\n",
              "    </tr>\n",
              "    <tr>\n",
              "      <th>1</th>\n",
              "      <td>(mineral water)</td>\n",
              "      <td>(green tea)</td>\n",
              "      <td>0.720400</td>\n",
              "      <td>0.690667</td>\n",
              "      <td>0.5912</td>\n",
              "      <td>0.820655</td>\n",
              "      <td>1.188207</td>\n",
              "      <td>0.093644</td>\n",
              "      <td>1.724797</td>\n",
              "    </tr>\n",
              "  </tbody>\n",
              "</table>\n",
              "</div>\n",
              "      <button class=\"colab-df-convert\" onclick=\"convertToInteractive('df-09c74dfa-3afe-4457-9647-a5dfe0cfa464')\"\n",
              "              title=\"Convert this dataframe to an interactive table.\"\n",
              "              style=\"display:none;\">\n",
              "        \n",
              "  <svg xmlns=\"http://www.w3.org/2000/svg\" height=\"24px\"viewBox=\"0 0 24 24\"\n",
              "       width=\"24px\">\n",
              "    <path d=\"M0 0h24v24H0V0z\" fill=\"none\"/>\n",
              "    <path d=\"M18.56 5.44l.94 2.06.94-2.06 2.06-.94-2.06-.94-.94-2.06-.94 2.06-2.06.94zm-11 1L8.5 8.5l.94-2.06 2.06-.94-2.06-.94L8.5 2.5l-.94 2.06-2.06.94zm10 10l.94 2.06.94-2.06 2.06-.94-2.06-.94-.94-2.06-.94 2.06-2.06.94z\"/><path d=\"M17.41 7.96l-1.37-1.37c-.4-.4-.92-.59-1.43-.59-.52 0-1.04.2-1.43.59L10.3 9.45l-7.72 7.72c-.78.78-.78 2.05 0 2.83L4 21.41c.39.39.9.59 1.41.59.51 0 1.02-.2 1.41-.59l7.78-7.78 2.81-2.81c.8-.78.8-2.07 0-2.86zM5.41 20L4 18.59l7.72-7.72 1.47 1.35L5.41 20z\"/>\n",
              "  </svg>\n",
              "      </button>\n",
              "      \n",
              "  <style>\n",
              "    .colab-df-container {\n",
              "      display:flex;\n",
              "      flex-wrap:wrap;\n",
              "      gap: 12px;\n",
              "    }\n",
              "\n",
              "    .colab-df-convert {\n",
              "      background-color: #E8F0FE;\n",
              "      border: none;\n",
              "      border-radius: 50%;\n",
              "      cursor: pointer;\n",
              "      display: none;\n",
              "      fill: #1967D2;\n",
              "      height: 32px;\n",
              "      padding: 0 0 0 0;\n",
              "      width: 32px;\n",
              "    }\n",
              "\n",
              "    .colab-df-convert:hover {\n",
              "      background-color: #E2EBFA;\n",
              "      box-shadow: 0px 1px 2px rgba(60, 64, 67, 0.3), 0px 1px 3px 1px rgba(60, 64, 67, 0.15);\n",
              "      fill: #174EA6;\n",
              "    }\n",
              "\n",
              "    [theme=dark] .colab-df-convert {\n",
              "      background-color: #3B4455;\n",
              "      fill: #D2E3FC;\n",
              "    }\n",
              "\n",
              "    [theme=dark] .colab-df-convert:hover {\n",
              "      background-color: #434B5C;\n",
              "      box-shadow: 0px 1px 3px 1px rgba(0, 0, 0, 0.15);\n",
              "      filter: drop-shadow(0px 1px 2px rgba(0, 0, 0, 0.3));\n",
              "      fill: #FFFFFF;\n",
              "    }\n",
              "  </style>\n",
              "\n",
              "      <script>\n",
              "        const buttonEl =\n",
              "          document.querySelector('#df-09c74dfa-3afe-4457-9647-a5dfe0cfa464 button.colab-df-convert');\n",
              "        buttonEl.style.display =\n",
              "          google.colab.kernel.accessAllowed ? 'block' : 'none';\n",
              "\n",
              "        async function convertToInteractive(key) {\n",
              "          const element = document.querySelector('#df-09c74dfa-3afe-4457-9647-a5dfe0cfa464');\n",
              "          const dataTable =\n",
              "            await google.colab.kernel.invokeFunction('convertToInteractive',\n",
              "                                                     [key], {});\n",
              "          if (!dataTable) return;\n",
              "\n",
              "          const docLinkHtml = 'Like what you see? Visit the ' +\n",
              "            '<a target=\"_blank\" href=https://colab.research.google.com/notebooks/data_table.ipynb>data table notebook</a>'\n",
              "            + ' to learn more about interactive tables.';\n",
              "          element.innerHTML = '';\n",
              "          dataTable['output_type'] = 'display_data';\n",
              "          await google.colab.output.renderOutput(dataTable, element);\n",
              "          const docLink = document.createElement('div');\n",
              "          docLink.innerHTML = docLinkHtml;\n",
              "          element.appendChild(docLink);\n",
              "        }\n",
              "      </script>\n",
              "    </div>\n",
              "  </div>\n",
              "  "
            ]
          },
          "metadata": {},
          "execution_count": 431
        }
      ]
    },
    {
      "cell_type": "code",
      "source": [
        "def Lift_Score(matrice_support, threshold=0.25):\n",
        "  '''\n",
        "     Association basée sur l'ascenseur: association_rules avec metric = lift\n",
        "  '''\n",
        "\n",
        "  from mlxtend.frequent_patterns import association_rules \n",
        "\n",
        "  return association_rules(matrice_support,metric=\"lift\",min_threshold=threshold)\n"
      ],
      "metadata": {
        "id": "avSBKOOZRht1"
      },
      "execution_count": 436,
      "outputs": []
    },
    {
      "cell_type": "code",
      "source": [
        "matrice_lift = Lift_Score(matrice_support)"
      ],
      "metadata": {
        "id": "7AJTYwBRR6wc"
      },
      "execution_count": 437,
      "outputs": []
    },
    {
      "cell_type": "code",
      "source": [
        "matrice_lift"
      ],
      "metadata": {
        "colab": {
          "base_uri": "https://localhost:8080/",
          "height": 112
        },
        "id": "9Z3_ks0sSstK",
        "outputId": "073fcaa6-7f23-4627-a411-5f2905ec3a0f"
      },
      "execution_count": 440,
      "outputs": [
        {
          "output_type": "execute_result",
          "data": {
            "text/plain": [
              "       antecedents      consequents  antecedent support  consequent support  \\\n",
              "0      (green tea)  (mineral water)            0.690667            0.720400   \n",
              "1  (mineral water)      (green tea)            0.720400            0.690667   \n",
              "\n",
              "   support  confidence      lift  leverage  conviction  \n",
              "0   0.5912    0.855985  1.188207  0.093644    1.941458  \n",
              "1   0.5912    0.820655  1.188207  0.093644    1.724797  "
            ],
            "text/html": [
              "\n",
              "  <div id=\"df-151eec75-7591-4043-bc6e-f58d48eb2c47\">\n",
              "    <div class=\"colab-df-container\">\n",
              "      <div>\n",
              "<style scoped>\n",
              "    .dataframe tbody tr th:only-of-type {\n",
              "        vertical-align: middle;\n",
              "    }\n",
              "\n",
              "    .dataframe tbody tr th {\n",
              "        vertical-align: top;\n",
              "    }\n",
              "\n",
              "    .dataframe thead th {\n",
              "        text-align: right;\n",
              "    }\n",
              "</style>\n",
              "<table border=\"1\" class=\"dataframe\">\n",
              "  <thead>\n",
              "    <tr style=\"text-align: right;\">\n",
              "      <th></th>\n",
              "      <th>antecedents</th>\n",
              "      <th>consequents</th>\n",
              "      <th>antecedent support</th>\n",
              "      <th>consequent support</th>\n",
              "      <th>support</th>\n",
              "      <th>confidence</th>\n",
              "      <th>lift</th>\n",
              "      <th>leverage</th>\n",
              "      <th>conviction</th>\n",
              "    </tr>\n",
              "  </thead>\n",
              "  <tbody>\n",
              "    <tr>\n",
              "      <th>0</th>\n",
              "      <td>(green tea)</td>\n",
              "      <td>(mineral water)</td>\n",
              "      <td>0.690667</td>\n",
              "      <td>0.720400</td>\n",
              "      <td>0.5912</td>\n",
              "      <td>0.855985</td>\n",
              "      <td>1.188207</td>\n",
              "      <td>0.093644</td>\n",
              "      <td>1.941458</td>\n",
              "    </tr>\n",
              "    <tr>\n",
              "      <th>1</th>\n",
              "      <td>(mineral water)</td>\n",
              "      <td>(green tea)</td>\n",
              "      <td>0.720400</td>\n",
              "      <td>0.690667</td>\n",
              "      <td>0.5912</td>\n",
              "      <td>0.820655</td>\n",
              "      <td>1.188207</td>\n",
              "      <td>0.093644</td>\n",
              "      <td>1.724797</td>\n",
              "    </tr>\n",
              "  </tbody>\n",
              "</table>\n",
              "</div>\n",
              "      <button class=\"colab-df-convert\" onclick=\"convertToInteractive('df-151eec75-7591-4043-bc6e-f58d48eb2c47')\"\n",
              "              title=\"Convert this dataframe to an interactive table.\"\n",
              "              style=\"display:none;\">\n",
              "        \n",
              "  <svg xmlns=\"http://www.w3.org/2000/svg\" height=\"24px\"viewBox=\"0 0 24 24\"\n",
              "       width=\"24px\">\n",
              "    <path d=\"M0 0h24v24H0V0z\" fill=\"none\"/>\n",
              "    <path d=\"M18.56 5.44l.94 2.06.94-2.06 2.06-.94-2.06-.94-.94-2.06-.94 2.06-2.06.94zm-11 1L8.5 8.5l.94-2.06 2.06-.94-2.06-.94L8.5 2.5l-.94 2.06-2.06.94zm10 10l.94 2.06.94-2.06 2.06-.94-2.06-.94-.94-2.06-.94 2.06-2.06.94z\"/><path d=\"M17.41 7.96l-1.37-1.37c-.4-.4-.92-.59-1.43-.59-.52 0-1.04.2-1.43.59L10.3 9.45l-7.72 7.72c-.78.78-.78 2.05 0 2.83L4 21.41c.39.39.9.59 1.41.59.51 0 1.02-.2 1.41-.59l7.78-7.78 2.81-2.81c.8-.78.8-2.07 0-2.86zM5.41 20L4 18.59l7.72-7.72 1.47 1.35L5.41 20z\"/>\n",
              "  </svg>\n",
              "      </button>\n",
              "      \n",
              "  <style>\n",
              "    .colab-df-container {\n",
              "      display:flex;\n",
              "      flex-wrap:wrap;\n",
              "      gap: 12px;\n",
              "    }\n",
              "\n",
              "    .colab-df-convert {\n",
              "      background-color: #E8F0FE;\n",
              "      border: none;\n",
              "      border-radius: 50%;\n",
              "      cursor: pointer;\n",
              "      display: none;\n",
              "      fill: #1967D2;\n",
              "      height: 32px;\n",
              "      padding: 0 0 0 0;\n",
              "      width: 32px;\n",
              "    }\n",
              "\n",
              "    .colab-df-convert:hover {\n",
              "      background-color: #E2EBFA;\n",
              "      box-shadow: 0px 1px 2px rgba(60, 64, 67, 0.3), 0px 1px 3px 1px rgba(60, 64, 67, 0.15);\n",
              "      fill: #174EA6;\n",
              "    }\n",
              "\n",
              "    [theme=dark] .colab-df-convert {\n",
              "      background-color: #3B4455;\n",
              "      fill: #D2E3FC;\n",
              "    }\n",
              "\n",
              "    [theme=dark] .colab-df-convert:hover {\n",
              "      background-color: #434B5C;\n",
              "      box-shadow: 0px 1px 3px 1px rgba(0, 0, 0, 0.15);\n",
              "      filter: drop-shadow(0px 1px 2px rgba(0, 0, 0, 0.3));\n",
              "      fill: #FFFFFF;\n",
              "    }\n",
              "  </style>\n",
              "\n",
              "      <script>\n",
              "        const buttonEl =\n",
              "          document.querySelector('#df-151eec75-7591-4043-bc6e-f58d48eb2c47 button.colab-df-convert');\n",
              "        buttonEl.style.display =\n",
              "          google.colab.kernel.accessAllowed ? 'block' : 'none';\n",
              "\n",
              "        async function convertToInteractive(key) {\n",
              "          const element = document.querySelector('#df-151eec75-7591-4043-bc6e-f58d48eb2c47');\n",
              "          const dataTable =\n",
              "            await google.colab.kernel.invokeFunction('convertToInteractive',\n",
              "                                                     [key], {});\n",
              "          if (!dataTable) return;\n",
              "\n",
              "          const docLinkHtml = 'Like what you see? Visit the ' +\n",
              "            '<a target=\"_blank\" href=https://colab.research.google.com/notebooks/data_table.ipynb>data table notebook</a>'\n",
              "            + ' to learn more about interactive tables.';\n",
              "          element.innerHTML = '';\n",
              "          dataTable['output_type'] = 'display_data';\n",
              "          await google.colab.output.renderOutput(dataTable, element);\n",
              "          const docLink = document.createElement('div');\n",
              "          docLink.innerHTML = docLinkHtml;\n",
              "          element.appendChild(docLink);\n",
              "        }\n",
              "      </script>\n",
              "    </div>\n",
              "  </div>\n",
              "  "
            ]
          },
          "metadata": {},
          "execution_count": 440
        }
      ]
    }
  ]
}