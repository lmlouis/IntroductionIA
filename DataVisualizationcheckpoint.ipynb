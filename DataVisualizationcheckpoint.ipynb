{
  "nbformat": 4,
  "nbformat_minor": 0,
  "metadata": {
    "colab": {
      "provenance": [],
      "collapsed_sections": [
        "Huba6dKaIIDH",
        "a6a56eYS_dXV",
        "Vq1twJx-e6r3",
        "tZK0SvsM_5K7",
        "HCWpEbvBx9iA",
        "tP4CUVq7a5Tb",
        "f_vV7p6Vdry1",
        "PJmFF8PxgOaP",
        "tcse8NtwkRN2",
        "rHEZ84BonIQ5",
        "ozgqoSxvour0",
        "w8JEvkZMvIFw"
      ],
      "authorship_tag": "ABX9TyNeP13C4n15JLZ9AAhkYAAd",
      "include_colab_link": true
    },
    "kernelspec": {
      "name": "python3",
      "display_name": "Python 3"
    },
    "language_info": {
      "name": "python"
    }
  },
  "cells": [
    {
      "cell_type": "markdown",
      "metadata": {
        "id": "view-in-github",
        "colab_type": "text"
      },
      "source": [
        "<a href=\"https://colab.research.google.com/github/lmlouis/IntroductionIA/blob/main/DataVisualizationcheckpoint.ipynb\" target=\"_parent\"><img src=\"https://colab.research.google.com/assets/colab-badge.svg\" alt=\"Open In Colab\"/></a>"
      ]
    },
    {
      "cell_type": "markdown",
      "source": [
        "# Data Visualization\n",
        "\n",
        "Objective\n",
        "Data Visualization\n",
        "Let's practice what we have learned so far and visualize some data!\n",
        "\n",
        "In order to validate this checkpoint you must accomplish the following tasks:\n",
        "\n",
        "Preprocessing phase:\n",
        "After importing the dataset using Pandas start by showing the head of the dataset then some general information about the data columns and values.\n",
        "\n",
        "As a next step, apply what you have learned in the course to preprocess your data: find missing information and replace it with the appropriate values.\n",
        "\n",
        "Verify that your data is ready to be treated.\n",
        "\n",
        "2. Visualization phase:\n",
        "\n",
        "Start by studying the distribution of the most important features based on your understanding of the dataset and the problem.\n",
        "\n",
        "Visualize the correlation between Sex and Age in a plot of your choosing. The visualized plot should give us obvious deductions concerning the importance of age and sex in the survival of the individuals.\n",
        "\n",
        "Pick two other features and study their impact on the survival of the individuals.\n",
        "\n",
        "Have a look at this function:\n",
        "\n",
        "def plot_correlation_map( df ):\n",
        "\n",
        "    corr = df.corr()\n",
        "\n",
        "    s , ax = plt.subplots( figsize =( 12 , 10 ) )\n",
        "\n",
        "    cmap = sns.diverging_palette( 220 , 10 , as_cmap = True )\n",
        "\n",
        "    s = sns.heatmap(\n",
        "\n",
        "        corr, \n",
        "\n",
        "        cmap = cmap,\n",
        "\n",
        "        square=True, \n",
        "\n",
        "        cbar_kws={ 'shrink' : .9 }, \n",
        "\n",
        "        ax=ax, \n",
        "\n",
        "        annot = True, \n",
        "\n",
        "        annot_kws = { 'fontsize' : 12 }\n",
        "\n",
        "        )\n",
        "\n",
        "Try running the function, analyze what it does exactly and its utilities. Write a paragraph describing your analysis (the paragraph should be in English).\n",
        "\n",
        "Use the groupby function combined with the mean() to view the relation between Pclass and survived \n",
        "\n",
        "As a final step, try to drop the useless columns (such as Names).\n",
        "\n",
        "We dropped the column Names because we evaluated it to be useless. But that's ultimately not the case because we can create a very useful feature from Names.\n",
        "\n",
        "Your task now is to create a new column called Title which contains the appropriate Title for each individual. Hint: Extract the title from the column Names.\n",
        "\n",
        "Visualize the correlation between Title and other features(e.g Sex, Fare, Age).\n",
        "\n",
        "As you have seen, there are a lot of titles which makes the feature very impractical. Let's try to group these titles into more useful ones.\n",
        "\n",
        "Hint: Use the following dictionary\n",
        "\n",
        "Title_Dictionary = {\n",
        "\n",
        "                    \"Capt\":       \"Officer\",\n",
        "\n",
        "                    \"Col\":        \"Officer\",\n",
        "\n",
        "                    \"Major\":      \"Officer\",\n",
        "\n",
        "                      \"Dr\":         \"Officer\",\n",
        "\n",
        "                    \"Rev\":        \"Officer”,\n",
        "\n",
        "                    \"Jonkheer\":   \"Royalty\",\n",
        "\n",
        "                    \"Don\":        \"Royalty\",\n",
        "\n",
        "                    \"Sir\" :       \"Royalty\",\n",
        "\n",
        "                   \"Lady\" :      \"Royalty\"\n",
        "\n",
        "                  \"the Countess\": \"Royalty\",\n",
        "\n",
        "                    \"Dona\":       \"Royalty”,\n",
        "\n",
        "                    \"Mme\":        \"Miss\",\n",
        "\n",
        "                    \"Mlle\":       \"Miss\",\n",
        "\n",
        "                    \"Miss\" :      \"Miss\",\n",
        "\n",
        "                    \"Ms\":         \"Mrs\",\n",
        "\n",
        "                    \"Mr\" :        \"Mrs\",\n",
        "\n",
        "                    \"Mrs\" :       \"Mrs\n",
        "\n",
        "                    \"Master\" :    \"Master\"\n",
        "\n",
        "                    }\n",
        "\n",
        "Let's visualize the same correlations using these new titles now.\n",
        "\n",
        "Finally, use the Parch and the SibSp columns to create a more useful feature, let's call it FamilySize.\n",
        "\n",
        "Use what you have learned so far to conclude if this feature is useful or not."
      ],
      "metadata": {
        "id": "Huba6dKaIIDH"
      }
    },
    {
      "cell_type": "code",
      "source": [
        "from google.colab import drive # import google colab \n",
        "drive.mount('/gdrive') # importer google drive \n",
        "\n",
        "\n",
        "import os "
      ],
      "metadata": {
        "colab": {
          "base_uri": "https://localhost:8080/"
        },
        "id": "kGVyo0llJ9-m",
        "outputId": "0f38ed08-f70e-40a6-c7ae-fba2e1c45b0f"
      },
      "execution_count": 291,
      "outputs": [
        {
          "output_type": "stream",
          "name": "stdout",
          "text": [
            "Drive already mounted at /gdrive; to attempt to forcibly remount, call drive.mount(\"/gdrive\", force_remount=True).\n"
          ]
        }
      ]
    },
    {
      "cell_type": "code",
      "source": [
        "# chemin du fichier \n",
        "dataPath = '/gdrive/MyDrive/Gomycode /Introduction a IA /cours 4/checkpoint/titanic-passengers.csv'     "
      ],
      "metadata": {
        "id": "BMgPcHPkKcsm"
      },
      "execution_count": 292,
      "outputs": []
    },
    {
      "cell_type": "markdown",
      "source": [
        "# Preprocessing phase \n",
        "\n",
        "Phase de prétraitement :\n",
        " Après avoir importé le jeu de données à l'aide de Pandas, commencez par montrer l'en-tête du jeu de données puis quelques informations générales sur les colonnes et les valeurs des données.\n",
        "\n",
        "Dans un deuxième temps, appliquez ce que vous avez appris dans le cours pour prétraiter vos données : trouvez les informations manquantes et remplacez-les par les valeurs appropriées.\n",
        "\n",
        "Vérifiez que vos données sont prêtes à être traitées."
      ],
      "metadata": {
        "id": "gjl4vq_oIlHi"
      }
    },
    {
      "cell_type": "code",
      "execution_count": 426,
      "metadata": {
        "id": "XcKjQUd2HZpa"
      },
      "outputs": [],
      "source": [
        "import pandas as pd\n",
        "import matplotlib.pyplot as plt\n",
        "import seaborn as sns"
      ]
    },
    {
      "cell_type": "markdown",
      "source": [
        "## L'en-tête du jeu de données"
      ],
      "metadata": {
        "id": "a6a56eYS_dXV"
      }
    },
    {
      "cell_type": "code",
      "source": [
        "df = pd.read_csv(dataPath, encoding='ISO-8859-1', sep=';')\n",
        "df.head()"
      ],
      "metadata": {
        "colab": {
          "base_uri": "https://localhost:8080/",
          "height": 0
        },
        "id": "v7Qgv6gSIuZc",
        "outputId": "47bae31f-f5b3-44d8-d5d0-c8f4b3daf20a"
      },
      "execution_count": 427,
      "outputs": [
        {
          "output_type": "execute_result",
          "data": {
            "text/plain": [
              "   PassengerId Survived  Pclass                                         Name  \\\n",
              "0          343       No       2                   Collander, Mr. Erik Gustaf   \n",
              "1           76       No       3                      Moen, Mr. Sigurd Hansen   \n",
              "2          641       No       3                       Jensen, Mr. Hans Peder   \n",
              "3          568       No       3  Palsson, Mrs. Nils (Alma Cornelia Berglund)   \n",
              "4          672       No       1                       Davidson, Mr. Thornton   \n",
              "\n",
              "      Sex   Age  SibSp  Parch      Ticket     Fare  Cabin Embarked  \n",
              "0    male  28.0      0      0      248740  13.0000    NaN        S  \n",
              "1    male  25.0      0      0      348123   7.6500  F G73        S  \n",
              "2    male  20.0      0      0      350050   7.8542    NaN        S  \n",
              "3  female  29.0      0      4      349909  21.0750    NaN        S  \n",
              "4    male  31.0      1      0  F.C. 12750  52.0000    B71        S  "
            ],
            "text/html": [
              "\n",
              "  <div id=\"df-e49c2d0c-1212-452f-afa5-0ccea0cca2ff\">\n",
              "    <div class=\"colab-df-container\">\n",
              "      <div>\n",
              "<style scoped>\n",
              "    .dataframe tbody tr th:only-of-type {\n",
              "        vertical-align: middle;\n",
              "    }\n",
              "\n",
              "    .dataframe tbody tr th {\n",
              "        vertical-align: top;\n",
              "    }\n",
              "\n",
              "    .dataframe thead th {\n",
              "        text-align: right;\n",
              "    }\n",
              "</style>\n",
              "<table border=\"1\" class=\"dataframe\">\n",
              "  <thead>\n",
              "    <tr style=\"text-align: right;\">\n",
              "      <th></th>\n",
              "      <th>PassengerId</th>\n",
              "      <th>Survived</th>\n",
              "      <th>Pclass</th>\n",
              "      <th>Name</th>\n",
              "      <th>Sex</th>\n",
              "      <th>Age</th>\n",
              "      <th>SibSp</th>\n",
              "      <th>Parch</th>\n",
              "      <th>Ticket</th>\n",
              "      <th>Fare</th>\n",
              "      <th>Cabin</th>\n",
              "      <th>Embarked</th>\n",
              "    </tr>\n",
              "  </thead>\n",
              "  <tbody>\n",
              "    <tr>\n",
              "      <th>0</th>\n",
              "      <td>343</td>\n",
              "      <td>No</td>\n",
              "      <td>2</td>\n",
              "      <td>Collander, Mr. Erik Gustaf</td>\n",
              "      <td>male</td>\n",
              "      <td>28.0</td>\n",
              "      <td>0</td>\n",
              "      <td>0</td>\n",
              "      <td>248740</td>\n",
              "      <td>13.0000</td>\n",
              "      <td>NaN</td>\n",
              "      <td>S</td>\n",
              "    </tr>\n",
              "    <tr>\n",
              "      <th>1</th>\n",
              "      <td>76</td>\n",
              "      <td>No</td>\n",
              "      <td>3</td>\n",
              "      <td>Moen, Mr. Sigurd Hansen</td>\n",
              "      <td>male</td>\n",
              "      <td>25.0</td>\n",
              "      <td>0</td>\n",
              "      <td>0</td>\n",
              "      <td>348123</td>\n",
              "      <td>7.6500</td>\n",
              "      <td>F G73</td>\n",
              "      <td>S</td>\n",
              "    </tr>\n",
              "    <tr>\n",
              "      <th>2</th>\n",
              "      <td>641</td>\n",
              "      <td>No</td>\n",
              "      <td>3</td>\n",
              "      <td>Jensen, Mr. Hans Peder</td>\n",
              "      <td>male</td>\n",
              "      <td>20.0</td>\n",
              "      <td>0</td>\n",
              "      <td>0</td>\n",
              "      <td>350050</td>\n",
              "      <td>7.8542</td>\n",
              "      <td>NaN</td>\n",
              "      <td>S</td>\n",
              "    </tr>\n",
              "    <tr>\n",
              "      <th>3</th>\n",
              "      <td>568</td>\n",
              "      <td>No</td>\n",
              "      <td>3</td>\n",
              "      <td>Palsson, Mrs. Nils (Alma Cornelia Berglund)</td>\n",
              "      <td>female</td>\n",
              "      <td>29.0</td>\n",
              "      <td>0</td>\n",
              "      <td>4</td>\n",
              "      <td>349909</td>\n",
              "      <td>21.0750</td>\n",
              "      <td>NaN</td>\n",
              "      <td>S</td>\n",
              "    </tr>\n",
              "    <tr>\n",
              "      <th>4</th>\n",
              "      <td>672</td>\n",
              "      <td>No</td>\n",
              "      <td>1</td>\n",
              "      <td>Davidson, Mr. Thornton</td>\n",
              "      <td>male</td>\n",
              "      <td>31.0</td>\n",
              "      <td>1</td>\n",
              "      <td>0</td>\n",
              "      <td>F.C. 12750</td>\n",
              "      <td>52.0000</td>\n",
              "      <td>B71</td>\n",
              "      <td>S</td>\n",
              "    </tr>\n",
              "  </tbody>\n",
              "</table>\n",
              "</div>\n",
              "      <button class=\"colab-df-convert\" onclick=\"convertToInteractive('df-e49c2d0c-1212-452f-afa5-0ccea0cca2ff')\"\n",
              "              title=\"Convert this dataframe to an interactive table.\"\n",
              "              style=\"display:none;\">\n",
              "        \n",
              "  <svg xmlns=\"http://www.w3.org/2000/svg\" height=\"24px\"viewBox=\"0 0 24 24\"\n",
              "       width=\"24px\">\n",
              "    <path d=\"M0 0h24v24H0V0z\" fill=\"none\"/>\n",
              "    <path d=\"M18.56 5.44l.94 2.06.94-2.06 2.06-.94-2.06-.94-.94-2.06-.94 2.06-2.06.94zm-11 1L8.5 8.5l.94-2.06 2.06-.94-2.06-.94L8.5 2.5l-.94 2.06-2.06.94zm10 10l.94 2.06.94-2.06 2.06-.94-2.06-.94-.94-2.06-.94 2.06-2.06.94z\"/><path d=\"M17.41 7.96l-1.37-1.37c-.4-.4-.92-.59-1.43-.59-.52 0-1.04.2-1.43.59L10.3 9.45l-7.72 7.72c-.78.78-.78 2.05 0 2.83L4 21.41c.39.39.9.59 1.41.59.51 0 1.02-.2 1.41-.59l7.78-7.78 2.81-2.81c.8-.78.8-2.07 0-2.86zM5.41 20L4 18.59l7.72-7.72 1.47 1.35L5.41 20z\"/>\n",
              "  </svg>\n",
              "      </button>\n",
              "      \n",
              "  <style>\n",
              "    .colab-df-container {\n",
              "      display:flex;\n",
              "      flex-wrap:wrap;\n",
              "      gap: 12px;\n",
              "    }\n",
              "\n",
              "    .colab-df-convert {\n",
              "      background-color: #E8F0FE;\n",
              "      border: none;\n",
              "      border-radius: 50%;\n",
              "      cursor: pointer;\n",
              "      display: none;\n",
              "      fill: #1967D2;\n",
              "      height: 32px;\n",
              "      padding: 0 0 0 0;\n",
              "      width: 32px;\n",
              "    }\n",
              "\n",
              "    .colab-df-convert:hover {\n",
              "      background-color: #E2EBFA;\n",
              "      box-shadow: 0px 1px 2px rgba(60, 64, 67, 0.3), 0px 1px 3px 1px rgba(60, 64, 67, 0.15);\n",
              "      fill: #174EA6;\n",
              "    }\n",
              "\n",
              "    [theme=dark] .colab-df-convert {\n",
              "      background-color: #3B4455;\n",
              "      fill: #D2E3FC;\n",
              "    }\n",
              "\n",
              "    [theme=dark] .colab-df-convert:hover {\n",
              "      background-color: #434B5C;\n",
              "      box-shadow: 0px 1px 3px 1px rgba(0, 0, 0, 0.15);\n",
              "      filter: drop-shadow(0px 1px 2px rgba(0, 0, 0, 0.3));\n",
              "      fill: #FFFFFF;\n",
              "    }\n",
              "  </style>\n",
              "\n",
              "      <script>\n",
              "        const buttonEl =\n",
              "          document.querySelector('#df-e49c2d0c-1212-452f-afa5-0ccea0cca2ff button.colab-df-convert');\n",
              "        buttonEl.style.display =\n",
              "          google.colab.kernel.accessAllowed ? 'block' : 'none';\n",
              "\n",
              "        async function convertToInteractive(key) {\n",
              "          const element = document.querySelector('#df-e49c2d0c-1212-452f-afa5-0ccea0cca2ff');\n",
              "          const dataTable =\n",
              "            await google.colab.kernel.invokeFunction('convertToInteractive',\n",
              "                                                     [key], {});\n",
              "          if (!dataTable) return;\n",
              "\n",
              "          const docLinkHtml = 'Like what you see? Visit the ' +\n",
              "            '<a target=\"_blank\" href=https://colab.research.google.com/notebooks/data_table.ipynb>data table notebook</a>'\n",
              "            + ' to learn more about interactive tables.';\n",
              "          element.innerHTML = '';\n",
              "          dataTable['output_type'] = 'display_data';\n",
              "          await google.colab.output.renderOutput(dataTable, element);\n",
              "          const docLink = document.createElement('div');\n",
              "          docLink.innerHTML = docLinkHtml;\n",
              "          element.appendChild(docLink);\n",
              "        }\n",
              "      </script>\n",
              "    </div>\n",
              "  </div>\n",
              "  "
            ]
          },
          "metadata": {},
          "execution_count": 427
        }
      ]
    },
    {
      "cell_type": "markdown",
      "source": [
        "## Le Titanic et l'enjeu du problème\n",
        "\n",
        "### Titanic\n",
        "Le Titanic est un paquebot transatlantique britannique qui fait naufrage dans l'océan Atlantique Nord en 1912 à la suite d'une collision avec un iceberg, lors de son voyage inaugural de Southampton à New York \n",
        "\n",
        "\n",
        "Sur les près de 2 240 passagers qui se trouvaient à bord du Titanic, on estime à 712 le nombre de personnes ayant survécues au naufrage\n",
        "\n",
        "source : [wikipedia](https://fr.wikipedia.org/wiki/Titanic)\n",
        "\n",
        "### Enjeu\n",
        "\n",
        "L'enjeu du problème ici est de déterminer grace à l'analyse de données quelles personnes avaient plus de chances de survi que d'autres ?"
      ],
      "metadata": {
        "id": "Vq1twJx-e6r3"
      }
    },
    {
      "cell_type": "markdown",
      "source": [
        "## Information generales "
      ],
      "metadata": {
        "id": "cQbuGR-HW71y"
      }
    },
    {
      "cell_type": "markdown",
      "source": [
        " ### Information generales sur les colones"
      ],
      "metadata": {
        "id": "6TEBwHCeABSV"
      }
    },
    {
      "cell_type": "markdown",
      "source": [
        "Le dataset contient 12 colones que sont : ['PassengerId', 'Survived', 'Pclass', 'Name', 'Sex', 'Age', 'SibSp',\n",
        "       'Parch', 'Ticket', 'Fare', 'Cabin', 'Embarked']\n"
      ],
      "metadata": {
        "id": "bvdouUtyhcWd"
      }
    },
    {
      "cell_type": "code",
      "source": [
        "df.columns"
      ],
      "metadata": {
        "colab": {
          "base_uri": "https://localhost:8080/"
        },
        "id": "tZR0Z8MTihL8",
        "outputId": "1a8b332e-2657-4055-e42d-d60a4ba26f83"
      },
      "execution_count": 428,
      "outputs": [
        {
          "output_type": "execute_result",
          "data": {
            "text/plain": [
              "Index(['PassengerId', 'Survived', 'Pclass', 'Name', 'Sex', 'Age', 'SibSp',\n",
              "       'Parch', 'Ticket', 'Fare', 'Cabin', 'Embarked'],\n",
              "      dtype='object')"
            ]
          },
          "metadata": {},
          "execution_count": 428
        }
      ]
    },
    {
      "cell_type": "code",
      "source": [
        "df.info()"
      ],
      "metadata": {
        "colab": {
          "base_uri": "https://localhost:8080/"
        },
        "id": "4VWVod8JU_GL",
        "outputId": "87ca4ad5-0a2b-4eda-bef7-33bbf15f2189"
      },
      "execution_count": 429,
      "outputs": [
        {
          "output_type": "stream",
          "name": "stdout",
          "text": [
            "<class 'pandas.core.frame.DataFrame'>\n",
            "RangeIndex: 891 entries, 0 to 890\n",
            "Data columns (total 12 columns):\n",
            " #   Column       Non-Null Count  Dtype  \n",
            "---  ------       --------------  -----  \n",
            " 0   PassengerId  891 non-null    int64  \n",
            " 1   Survived     891 non-null    object \n",
            " 2   Pclass       891 non-null    int64  \n",
            " 3   Name         891 non-null    object \n",
            " 4   Sex          891 non-null    object \n",
            " 5   Age          714 non-null    float64\n",
            " 6   SibSp        891 non-null    int64  \n",
            " 7   Parch        891 non-null    int64  \n",
            " 8   Ticket       891 non-null    object \n",
            " 9   Fare         891 non-null    float64\n",
            " 10  Cabin        204 non-null    object \n",
            " 11  Embarked     889 non-null    object \n",
            "dtypes: float64(2), int64(4), object(6)\n",
            "memory usage: 83.7+ KB\n"
          ]
        }
      ]
    },
    {
      "cell_type": "markdown",
      "source": [
        "### Information generales sur les valeurs des données "
      ],
      "metadata": {
        "id": "tZK0SvsM_5K7"
      }
    },
    {
      "cell_type": "markdown",
      "source": [
        "**PassengerId** : Numméro de passsagers qui sont à valeur unique et compte **891** passagers à bord dans notre dataset"
      ],
      "metadata": {
        "id": "UEUWswQNkhPl"
      }
    },
    {
      "cell_type": "code",
      "source": [
        "df.PassengerId.is_unique"
      ],
      "metadata": {
        "colab": {
          "base_uri": "https://localhost:8080/"
        },
        "id": "RclwuWtnlC36",
        "outputId": "d7ec8086-571c-45ec-a184-3f85ee054e7f"
      },
      "execution_count": 430,
      "outputs": [
        {
          "output_type": "execute_result",
          "data": {
            "text/plain": [
              "True"
            ]
          },
          "metadata": {},
          "execution_count": 430
        }
      ]
    },
    {
      "cell_type": "code",
      "source": [
        "df.PassengerId.describe()\n"
      ],
      "metadata": {
        "colab": {
          "base_uri": "https://localhost:8080/"
        },
        "id": "p-48mBJaiS7E",
        "outputId": "84cf3d23-754a-4e2d-fd01-5496f0fe46f5"
      },
      "execution_count": 431,
      "outputs": [
        {
          "output_type": "execute_result",
          "data": {
            "text/plain": [
              "count    891.000000\n",
              "mean     446.000000\n",
              "std      257.353842\n",
              "min        1.000000\n",
              "25%      223.500000\n",
              "50%      446.000000\n",
              "75%      668.500000\n",
              "max      891.000000\n",
              "Name: PassengerId, dtype: float64"
            ]
          },
          "metadata": {},
          "execution_count": 431
        }
      ]
    },
    {
      "cell_type": "markdown",
      "source": [
        "**Survived** :  à valeurs catégoriques soit 2 possibilités\n",
        "\n",
        "**No** pour survivant \n",
        "\n",
        "**Yes** pour non survivant  \n"
      ],
      "metadata": {
        "id": "fY8Xd9eRlRQ-"
      }
    },
    {
      "cell_type": "code",
      "source": [
        "df.Survived.describe()"
      ],
      "metadata": {
        "colab": {
          "base_uri": "https://localhost:8080/"
        },
        "id": "nUvtJFgclS77",
        "outputId": "d2e365f9-a51c-4f74-cdef-898ea1204935"
      },
      "execution_count": 432,
      "outputs": [
        {
          "output_type": "execute_result",
          "data": {
            "text/plain": [
              "count     891\n",
              "unique      2\n",
              "top        No\n",
              "freq      549\n",
              "Name: Survived, dtype: object"
            ]
          },
          "metadata": {},
          "execution_count": 432
        }
      ]
    },
    {
      "cell_type": "code",
      "source": [
        "df.Survived.value_counts()"
      ],
      "metadata": {
        "colab": {
          "base_uri": "https://localhost:8080/"
        },
        "id": "KG4zJOU3lakQ",
        "outputId": "cdf0b3a1-566f-4799-cdc9-83a8356e9ed0"
      },
      "execution_count": 433,
      "outputs": [
        {
          "output_type": "execute_result",
          "data": {
            "text/plain": [
              "No     549\n",
              "Yes    342\n",
              "Name: Survived, dtype: int64"
            ]
          },
          "metadata": {},
          "execution_count": 433
        }
      ]
    },
    {
      "cell_type": "markdown",
      "source": [
        "**Pclass** : La classe des passagers à valeurs catégoriques\n",
        "\n",
        "**1**  : 1ère classe ( classe Affaire )\n",
        "\n",
        "**2** : 2em classe (classe moyenne)\n",
        "\n",
        "**3** : 3em classe (classe economique)"
      ],
      "metadata": {
        "id": "PcmqF7stnFIM"
      }
    },
    {
      "cell_type": "code",
      "source": [
        "df.Pclass.value_counts()"
      ],
      "metadata": {
        "colab": {
          "base_uri": "https://localhost:8080/"
        },
        "id": "LZAt_bDMnP42",
        "outputId": "8a0f78a8-5245-4822-c9be-385202d290d0"
      },
      "execution_count": 434,
      "outputs": [
        {
          "output_type": "execute_result",
          "data": {
            "text/plain": [
              "3    491\n",
              "1    216\n",
              "2    184\n",
              "Name: Pclass, dtype: int64"
            ]
          },
          "metadata": {},
          "execution_count": 434
        }
      ]
    },
    {
      "cell_type": "markdown",
      "source": [
        "**Name** :  Le registre de noms de chaque passagers au format :\n",
        "\n",
        "**Prenom**, Titre. **Nom**(nom jeune fille)"
      ],
      "metadata": {
        "id": "vQR4GzQBof_D"
      }
    },
    {
      "cell_type": "code",
      "source": [
        "df.Name.head()"
      ],
      "metadata": {
        "colab": {
          "base_uri": "https://localhost:8080/"
        },
        "id": "9IaYnc46oqte",
        "outputId": "2f47b568-546a-4b22-efb4-d379fa70b6e2"
      },
      "execution_count": 435,
      "outputs": [
        {
          "output_type": "execute_result",
          "data": {
            "text/plain": [
              "0                     Collander, Mr. Erik Gustaf\n",
              "1                        Moen, Mr. Sigurd Hansen\n",
              "2                         Jensen, Mr. Hans Peder\n",
              "3    Palsson, Mrs. Nils (Alma Cornelia Berglund)\n",
              "4                         Davidson, Mr. Thornton\n",
              "Name: Name, dtype: object"
            ]
          },
          "metadata": {},
          "execution_count": 435
        }
      ]
    },
    {
      "cell_type": "markdown",
      "source": [
        "**Sex** : Le sexe des passagers \n",
        "\n",
        "male : sexe masculin\n",
        "\n",
        "female : sexe féminin"
      ],
      "metadata": {
        "id": "xk5QaJL9pVev"
      }
    },
    {
      "cell_type": "code",
      "source": [
        "df.Sex.value_counts()"
      ],
      "metadata": {
        "colab": {
          "base_uri": "https://localhost:8080/"
        },
        "id": "fOHKw8iPpdR3",
        "outputId": "feaad4ff-7372-44b4-db2a-8c467454e246"
      },
      "execution_count": 436,
      "outputs": [
        {
          "output_type": "execute_result",
          "data": {
            "text/plain": [
              "male      577\n",
              "female    314\n",
              "Name: Sex, dtype: int64"
            ]
          },
          "metadata": {},
          "execution_count": 436
        }
      ]
    },
    {
      "cell_type": "markdown",
      "source": [
        "**Age** :  l'âge des passagers agés de 0 à 80 ans avec une moyenne d'age de 29 ans  "
      ],
      "metadata": {
        "id": "c-hVbSyqoZwJ"
      }
    },
    {
      "cell_type": "code",
      "source": [
        "df.Age.describe()"
      ],
      "metadata": {
        "colab": {
          "base_uri": "https://localhost:8080/"
        },
        "id": "lp7KDTJRqF10",
        "outputId": "d01e5455-a10a-4c45-c93b-a75c66b00901"
      },
      "execution_count": 437,
      "outputs": [
        {
          "output_type": "execute_result",
          "data": {
            "text/plain": [
              "count    714.000000\n",
              "mean      29.699118\n",
              "std       14.526497\n",
              "min        0.420000\n",
              "25%       20.125000\n",
              "50%       28.000000\n",
              "75%       38.000000\n",
              "max       80.000000\n",
              "Name: Age, dtype: float64"
            ]
          },
          "metadata": {},
          "execution_count": 437
        }
      ]
    },
    {
      "cell_type": "markdown",
      "source": [
        "**SibSp** :  le lien fraternelle c'est-à dire frère,sours.. de 0 à 5"
      ],
      "metadata": {
        "id": "HgSKRc-2qamQ"
      }
    },
    {
      "cell_type": "code",
      "source": [
        "df.SibSp.value_counts()"
      ],
      "metadata": {
        "colab": {
          "base_uri": "https://localhost:8080/"
        },
        "id": "GoEOclI8qbUk",
        "outputId": "7446f26b-38a3-4a65-b6bb-cdc9f6a710e9"
      },
      "execution_count": 438,
      "outputs": [
        {
          "output_type": "execute_result",
          "data": {
            "text/plain": [
              "0    608\n",
              "1    209\n",
              "2     28\n",
              "4     18\n",
              "3     16\n",
              "8      7\n",
              "5      5\n",
              "Name: SibSp, dtype: int64"
            ]
          },
          "metadata": {},
          "execution_count": 438
        }
      ]
    },
    {
      "cell_type": "markdown",
      "source": [
        "**Parch** : Le lien de parenté  c'est-à dire père,mère,fils,fille... némoroté de 0 à 6"
      ],
      "metadata": {
        "id": "dtrHICNYrMzA"
      }
    },
    {
      "cell_type": "code",
      "source": [
        "df.Parch.value_counts()"
      ],
      "metadata": {
        "colab": {
          "base_uri": "https://localhost:8080/"
        },
        "id": "SqJgaoTjrNAL",
        "outputId": "5189899d-e384-4d42-e5ca-5da1f7f6818e"
      },
      "execution_count": 439,
      "outputs": [
        {
          "output_type": "execute_result",
          "data": {
            "text/plain": [
              "0    678\n",
              "1    118\n",
              "2     80\n",
              "5      5\n",
              "3      5\n",
              "4      4\n",
              "6      1\n",
              "Name: Parch, dtype: int64"
            ]
          },
          "metadata": {},
          "execution_count": 439
        }
      ]
    },
    {
      "cell_type": "markdown",
      "source": [
        "**Ticket** : Le numéro de ticket, certains partages le même ticket sans doute un bébé ou un enfant enrégistré au numéro de ticket de son parent "
      ],
      "metadata": {
        "id": "Qi59Ozbdsb32"
      }
    },
    {
      "cell_type": "code",
      "source": [
        "df.Ticket.value_counts()"
      ],
      "metadata": {
        "colab": {
          "base_uri": "https://localhost:8080/"
        },
        "id": "0lFkURhiscET",
        "outputId": "07805761-760e-430e-af5e-058bffd7981d"
      },
      "execution_count": 440,
      "outputs": [
        {
          "output_type": "execute_result",
          "data": {
            "text/plain": [
              "CA. 2343      7\n",
              "1601          7\n",
              "347082        7\n",
              "3101295       6\n",
              "347088        6\n",
              "             ..\n",
              "C.A. 34260    1\n",
              "28213         1\n",
              "370377        1\n",
              "347063        1\n",
              "349215        1\n",
              "Name: Ticket, Length: 681, dtype: int64"
            ]
          },
          "metadata": {},
          "execution_count": 440
        }
      ]
    },
    {
      "cell_type": "markdown",
      "source": [
        "**Fare** : tarifs des passagers variable discrète en moyenne est de 32.20"
      ],
      "metadata": {
        "id": "F0fET5_ntmTv"
      }
    },
    {
      "cell_type": "code",
      "source": [
        "df.Fare.value_counts()"
      ],
      "metadata": {
        "colab": {
          "base_uri": "https://localhost:8080/"
        },
        "id": "v34NJkeTtmyL",
        "outputId": "379c2ffd-e2b8-4e2c-eef3-a9771701f24d"
      },
      "execution_count": 441,
      "outputs": [
        {
          "output_type": "execute_result",
          "data": {
            "text/plain": [
              "8.0500     43\n",
              "13.0000    42\n",
              "7.8958     38\n",
              "7.7500     34\n",
              "26.0000    31\n",
              "           ..\n",
              "8.0292      1\n",
              "6.9500      1\n",
              "7.8875      1\n",
              "14.0000     1\n",
              "38.5000     1\n",
              "Name: Fare, Length: 248, dtype: int64"
            ]
          },
          "metadata": {},
          "execution_count": 441
        }
      ]
    },
    {
      "cell_type": "code",
      "source": [
        "df.Fare.describe()"
      ],
      "metadata": {
        "colab": {
          "base_uri": "https://localhost:8080/"
        },
        "id": "xmhPQ3Uet_2G",
        "outputId": "56509945-1cab-4458-812b-67f47981b0a6"
      },
      "execution_count": 442,
      "outputs": [
        {
          "output_type": "execute_result",
          "data": {
            "text/plain": [
              "count    891.000000\n",
              "mean      32.204208\n",
              "std       49.693429\n",
              "min        0.000000\n",
              "25%        7.910400\n",
              "50%       14.454200\n",
              "75%       31.000000\n",
              "max      512.329200\n",
              "Name: Fare, dtype: float64"
            ]
          },
          "metadata": {},
          "execution_count": 442
        }
      ]
    },
    {
      "cell_type": "markdown",
      "source": [
        "**Cabin** :  Numéro de cabines dont 147 sont utilisé dans le dataset "
      ],
      "metadata": {
        "id": "CU-ulHB4ua1_"
      }
    },
    {
      "cell_type": "code",
      "source": [
        "df.Cabin.value_counts()"
      ],
      "metadata": {
        "colab": {
          "base_uri": "https://localhost:8080/"
        },
        "id": "hkMxoyVquel-",
        "outputId": "c44bfd2b-f389-4327-e67b-6705738b1bb5"
      },
      "execution_count": 443,
      "outputs": [
        {
          "output_type": "execute_result",
          "data": {
            "text/plain": [
              "G6             4\n",
              "B96 B98        4\n",
              "C23 C25 C27    4\n",
              "F33            3\n",
              "D              3\n",
              "              ..\n",
              "C91            1\n",
              "D45            1\n",
              "F G63          1\n",
              "A34            1\n",
              "E63            1\n",
              "Name: Cabin, Length: 147, dtype: int64"
            ]
          },
          "metadata": {},
          "execution_count": 443
        }
      ]
    },
    {
      "cell_type": "code",
      "source": [
        "df.Cabin.value_counts().count()\n"
      ],
      "metadata": {
        "colab": {
          "base_uri": "https://localhost:8080/"
        },
        "id": "7SkSRdnYuxhG",
        "outputId": "172883ae-e99a-4574-8244-dc9d62d04655"
      },
      "execution_count": 444,
      "outputs": [
        {
          "output_type": "execute_result",
          "data": {
            "text/plain": [
              "147"
            ]
          },
          "metadata": {},
          "execution_count": 444
        }
      ]
    },
    {
      "cell_type": "markdown",
      "source": [
        "**Embarked** : les lieux d'embarquement\n",
        "\n",
        "**S**: Southampton (Angleterre) soit 644 passagers\n",
        "\n",
        "**C**: Cherbourg (France) soit 168 passagers\n",
        "\n",
        "**Q**: Queenstown (Irland) soit 77 passagers *texte en italique*"
      ],
      "metadata": {
        "id": "Ys7CZDCvwGS3"
      }
    },
    {
      "cell_type": "code",
      "source": [
        "df.Embarked.value_counts()"
      ],
      "metadata": {
        "colab": {
          "base_uri": "https://localhost:8080/"
        },
        "id": "xaw0AUdGwHkw",
        "outputId": "467cdc1f-3d6f-4279-e189-ba18f90f11b8"
      },
      "execution_count": 445,
      "outputs": [
        {
          "output_type": "execute_result",
          "data": {
            "text/plain": [
              "S    644\n",
              "C    168\n",
              "Q     77\n",
              "Name: Embarked, dtype: int64"
            ]
          },
          "metadata": {},
          "execution_count": 445
        }
      ]
    },
    {
      "cell_type": "markdown",
      "source": [
        "# Pre-traitement"
      ],
      "metadata": {
        "id": "HCWpEbvBx9iA"
      }
    },
    {
      "cell_type": "markdown",
      "source": [
        "### Où se trouvent les missing values ?"
      ],
      "metadata": {
        "id": "tP4CUVq7a5Tb"
      }
    },
    {
      "cell_type": "code",
      "source": [
        "nbrTotalNanValue = df.isnull().sum().sum()\n",
        "print('les missing values du dataset sont au nbr de ',nbrTotalNanValue)"
      ],
      "metadata": {
        "colab": {
          "base_uri": "https://localhost:8080/"
        },
        "id": "yvsMVxfzMTTK",
        "outputId": "46160125-3340-4bed-bc89-836ff0312c7e"
      },
      "execution_count": 313,
      "outputs": [
        {
          "output_type": "stream",
          "name": "stdout",
          "text": [
            "les missing values du dataset sont au nbr de  866\n"
          ]
        }
      ]
    },
    {
      "cell_type": "code",
      "source": [
        "# Ou se trouve les valeurs null ? \n",
        "\n",
        "df.isnull().sum()\n"
      ],
      "metadata": {
        "colab": {
          "base_uri": "https://localhost:8080/"
        },
        "id": "A9ADU4reTPUA",
        "outputId": "01532736-9262-4f90-d077-77be59f506ff"
      },
      "execution_count": 314,
      "outputs": [
        {
          "output_type": "execute_result",
          "data": {
            "text/plain": [
              "PassengerId      0\n",
              "Survived         0\n",
              "Pclass           0\n",
              "Name             0\n",
              "Sex              0\n",
              "Age            177\n",
              "SibSp            0\n",
              "Parch            0\n",
              "Ticket           0\n",
              "Fare             0\n",
              "Cabin          687\n",
              "Embarked         2\n",
              "dtype: int64"
            ]
          },
          "metadata": {},
          "execution_count": 314
        }
      ]
    },
    {
      "cell_type": "code",
      "source": [
        "# la liste des colones ou se trouvent les valeur nan \n",
        "df.columns[df.isnull().any()]"
      ],
      "metadata": {
        "colab": {
          "base_uri": "https://localhost:8080/"
        },
        "id": "cXH3GqICTn4N",
        "outputId": "87800f08-4a63-4211-d417-64b129741f90"
      },
      "execution_count": 315,
      "outputs": [
        {
          "output_type": "execute_result",
          "data": {
            "text/plain": [
              "Index(['Age', 'Cabin', 'Embarked'], dtype='object')"
            ]
          },
          "metadata": {},
          "execution_count": 315
        }
      ]
    },
    {
      "cell_type": "markdown",
      "source": [
        "## data cleaning\n",
        "\n",
        "⬛ On peut soit remplacer les missing value avec:\n",
        "- mean\n",
        "- median\n",
        "- normal\n",
        "\n",
        "⬛ soit supprimer des des colones / lignes \n",
        "\n",
        "les missing values peuvent être remplie soit \n",
        "\n",
        "▶ manuellement pour un petit dataset \n",
        "\n",
        "▶ automatiquement dans un grand dataset "
      ],
      "metadata": {
        "id": "f_vV7p6Vdry1"
      }
    },
    {
      "cell_type": "code",
      "source": [
        "dfcleaning = df.copy()"
      ],
      "metadata": {
        "id": "t0hijKSyGJJV"
      },
      "execution_count": 316,
      "outputs": []
    },
    {
      "cell_type": "code",
      "source": [
        "\n",
        "dfcleaning.isnull().sum()"
      ],
      "metadata": {
        "colab": {
          "base_uri": "https://localhost:8080/"
        },
        "id": "uzcqtvCoUg_b",
        "outputId": "56770671-093e-4f2c-e518-c0b6c6df02ee"
      },
      "execution_count": 317,
      "outputs": [
        {
          "output_type": "execute_result",
          "data": {
            "text/plain": [
              "PassengerId      0\n",
              "Survived         0\n",
              "Pclass           0\n",
              "Name             0\n",
              "Sex              0\n",
              "Age            177\n",
              "SibSp            0\n",
              "Parch            0\n",
              "Ticket           0\n",
              "Fare             0\n",
              "Cabin          687\n",
              "Embarked         2\n",
              "dtype: int64"
            ]
          },
          "metadata": {},
          "execution_count": 317
        }
      ]
    },
    {
      "cell_type": "markdown",
      "source": [
        "### dropna() method"
      ],
      "metadata": {
        "id": "PJmFF8PxgOaP"
      }
    },
    {
      "cell_type": "markdown",
      "source": [
        "On  peut remarquer que la colone `Cabin` contient 687/891 lignes soit 78% du dataset on peut prendre ce maximun de valeurs pour supprimer une colone qui contient de valeur NaN \\\n",
        "\n",
        "\n"
      ],
      "metadata": {
        "id": "jRhizNGHec9z"
      }
    },
    {
      "cell_type": "code",
      "source": [
        "dfcleaning = dfcleaning.dropna(axis=1, thresh=687)\n",
        "dfcleaning.columns.to_list()"
      ],
      "metadata": {
        "colab": {
          "base_uri": "https://localhost:8080/"
        },
        "id": "2bPrqSBLeDW0",
        "outputId": "270badd3-55de-4fda-bf1c-82b387a9097f"
      },
      "execution_count": 318,
      "outputs": [
        {
          "output_type": "execute_result",
          "data": {
            "text/plain": [
              "['PassengerId',\n",
              " 'Survived',\n",
              " 'Pclass',\n",
              " 'Name',\n",
              " 'Sex',\n",
              " 'Age',\n",
              " 'SibSp',\n",
              " 'Parch',\n",
              " 'Ticket',\n",
              " 'Fare',\n",
              " 'Embarked']"
            ]
          },
          "metadata": {},
          "execution_count": 318
        }
      ]
    },
    {
      "cell_type": "markdown",
      "source": [
        "la colone `Embarked` contient que 2/891 lignes contenant des valeurs NaN\n",
        "on peut dont remplacer par une méthode appris en cours  avec la methode ffill "
      ],
      "metadata": {
        "id": "ixI2xHJZfxxA"
      }
    },
    {
      "cell_type": "code",
      "source": [
        "dfcleaning['Embarked'].fillna(method = 'ffill', inplace=True)\n",
        "print('le nbre de valeur NaN de Embarked est egale à ',dfcleaning['Embarked'].isnull().sum())"
      ],
      "metadata": {
        "colab": {
          "base_uri": "https://localhost:8080/"
        },
        "id": "LNDYoVJefy_z",
        "outputId": "28ba1698-c0c2-492d-9aae-e873f73d1eaf"
      },
      "execution_count": 319,
      "outputs": [
        {
          "output_type": "stream",
          "name": "stdout",
          "text": [
            "le nbre de valeur NaN de Embarked est egale à  0\n"
          ]
        }
      ]
    },
    {
      "cell_type": "markdown",
      "source": [
        "### fillna() methode\n",
        "Remplacer les missing value dans la colone `Age` par la moyenne d'âge (177/891 lignes  soit 20% du dataset)"
      ],
      "metadata": {
        "id": "tcse8NtwkRN2"
      }
    },
    {
      "cell_type": "code",
      "source": [
        "dfcleaning['Age'].fillna(dfcleaning['Age'].mean(), inplace=True)\n",
        "\n",
        "dfcleaning['Age'] = dfcleaning['Age'].round(2) # arrondir la valeur à 2 chiffre significatis \n",
        "dfcleaning['Age']"
      ],
      "metadata": {
        "colab": {
          "base_uri": "https://localhost:8080/"
        },
        "id": "XFzTDg3fiZVI",
        "outputId": "48f347f7-09d9-496e-b050-161cffa7086b"
      },
      "execution_count": 320,
      "outputs": [
        {
          "output_type": "execute_result",
          "data": {
            "text/plain": [
              "0      28.0\n",
              "1      25.0\n",
              "2      20.0\n",
              "3      29.0\n",
              "4      31.0\n",
              "       ... \n",
              "886    14.0\n",
              "887    22.0\n",
              "888    30.0\n",
              "889    29.7\n",
              "890    19.0\n",
              "Name: Age, Length: 891, dtype: float64"
            ]
          },
          "metadata": {},
          "execution_count": 320
        }
      ]
    },
    {
      "cell_type": "markdown",
      "source": [
        "## Data transformation"
      ],
      "metadata": {
        "id": "rHEZ84BonIQ5"
      }
    },
    {
      "cell_type": "markdown",
      "source": [
        "On doit faire l'encodage des valeurs Catégorique en valeur Numérique sur les colones de dtype = `object`\\\n",
        "Pour ce fare on peut utiliser le LabelEncoder de sklearn.preprocessing"
      ],
      "metadata": {
        "id": "IwW14-RIoH5B"
      }
    },
    {
      "cell_type": "code",
      "source": [
        "# data frame qui contient une colone dtype = objet \n",
        "dfObject = pd.DataFrame()\n",
        "dfObject['A'] = object\n",
        "dfObject.A.dtypes\n",
        "\n",
        "print('Les colones de types ',dfObject.A.dtypes,' sont :')\n",
        "for colone in dfcleaning.columns.to_list():\n",
        "    if( dfcleaning[colone].dtypes == dfObject.A.dtypes):\n",
        "      print(colone)\n"
      ],
      "metadata": {
        "colab": {
          "base_uri": "https://localhost:8080/"
        },
        "id": "FLBtdwTHOqEd",
        "outputId": "f6a198a2-5ef6-44eb-b3ac-bff542d880fc"
      },
      "execution_count": 321,
      "outputs": [
        {
          "output_type": "stream",
          "name": "stdout",
          "text": [
            "Les colones de types  object  sont :\n",
            "Survived\n",
            "Name\n",
            "Sex\n",
            "Ticket\n",
            "Embarked\n"
          ]
        }
      ]
    },
    {
      "cell_type": "markdown",
      "source": [
        "### Initialisation d'un LabelEncoder()"
      ],
      "metadata": {
        "id": "ozgqoSxvour0"
      }
    },
    {
      "cell_type": "code",
      "source": [
        "from sklearn.preprocessing import LabelEncoder\n",
        "encoder = LabelEncoder()"
      ],
      "metadata": {
        "id": "-JctBrEcnMWc"
      },
      "execution_count": 322,
      "outputs": []
    },
    {
      "cell_type": "markdown",
      "source": [
        "### Encodage "
      ],
      "metadata": {
        "id": "w8JEvkZMvIFw"
      }
    },
    {
      "cell_type": "code",
      "source": [
        "\n",
        "dtypeObjectList = [colone for colone in dfcleaning.columns.to_list() if(dfcleaning[colone].dtypes == dfObject.A.dtypes)]\n",
        "dtypeObjectList"
      ],
      "metadata": {
        "colab": {
          "base_uri": "https://localhost:8080/"
        },
        "id": "KS4scdU-SpxR",
        "outputId": "f30a7db6-4d11-4d48-a1f9-67f923dcda73"
      },
      "execution_count": 323,
      "outputs": [
        {
          "output_type": "execute_result",
          "data": {
            "text/plain": [
              "['Survived', 'Name', 'Sex', 'Ticket', 'Embarked']"
            ]
          },
          "metadata": {},
          "execution_count": 323
        }
      ]
    },
    {
      "cell_type": "code",
      "source": [
        "def Encodage(instance_colone):\n",
        "  instance_colone = encoder.fit_transform(instance_colone)\n",
        "  return instance_colone\n",
        "\n",
        "# Aplication Code \n",
        "def code(data):\n",
        "  for colone in [colone for colone in data.columns.to_list() if(data[colone].dtypes == dfObject.A.dtypes)]:\n",
        "    data[colone] = Encodage(data[colone])\n",
        "  return data\n",
        "\n",
        "# dataset clean  \n",
        "dataSauvegarde = dfcleaning.copy() \n",
        "dataframe = code(dfcleaning)\n",
        "\n",
        "dataframe\n"
      ],
      "metadata": {
        "colab": {
          "base_uri": "https://localhost:8080/",
          "height": 424
        },
        "id": "zOQoknh1o5PK",
        "outputId": "f2a375eb-1e83-4df9-922b-5cb6f2c3b241"
      },
      "execution_count": 324,
      "outputs": [
        {
          "output_type": "execute_result",
          "data": {
            "text/plain": [
              "     PassengerId  Survived  Pclass  Name  Sex   Age  SibSp  Parch  Ticket  \\\n",
              "0            343         0       2   170    1  28.0      0      0     159   \n",
              "1             76         0       3   546    1  25.0      0      0     347   \n",
              "2            641         0       3   397    1  20.0      0      0     409   \n",
              "3            568         0       3   627    0  29.0      0      4     395   \n",
              "4            672         0       1   202    1  31.0      1      0     569   \n",
              "..           ...       ...     ...   ...  ...   ...    ...    ...     ...   \n",
              "886           10         1       2   576    0  14.0      1      0     132   \n",
              "887           61         0       3   749    1  22.0      0      0     197   \n",
              "888          535         0       3   123    0  30.0      0      0     260   \n",
              "889          102         0       3   658    1  29.7      0      0     361   \n",
              "890          428         1       2   662    0  19.0      0      0     170   \n",
              "\n",
              "        Fare  Embarked  \n",
              "0    13.0000         2  \n",
              "1     7.6500         2  \n",
              "2     7.8542         2  \n",
              "3    21.0750         2  \n",
              "4    52.0000         2  \n",
              "..       ...       ...  \n",
              "886  30.0708         0  \n",
              "887   7.2292         0  \n",
              "888   8.6625         2  \n",
              "889   7.8958         2  \n",
              "890  26.0000         2  \n",
              "\n",
              "[891 rows x 11 columns]"
            ],
            "text/html": [
              "\n",
              "  <div id=\"df-2bfecf53-5dad-468d-90f2-6ddbaaf421b0\">\n",
              "    <div class=\"colab-df-container\">\n",
              "      <div>\n",
              "<style scoped>\n",
              "    .dataframe tbody tr th:only-of-type {\n",
              "        vertical-align: middle;\n",
              "    }\n",
              "\n",
              "    .dataframe tbody tr th {\n",
              "        vertical-align: top;\n",
              "    }\n",
              "\n",
              "    .dataframe thead th {\n",
              "        text-align: right;\n",
              "    }\n",
              "</style>\n",
              "<table border=\"1\" class=\"dataframe\">\n",
              "  <thead>\n",
              "    <tr style=\"text-align: right;\">\n",
              "      <th></th>\n",
              "      <th>PassengerId</th>\n",
              "      <th>Survived</th>\n",
              "      <th>Pclass</th>\n",
              "      <th>Name</th>\n",
              "      <th>Sex</th>\n",
              "      <th>Age</th>\n",
              "      <th>SibSp</th>\n",
              "      <th>Parch</th>\n",
              "      <th>Ticket</th>\n",
              "      <th>Fare</th>\n",
              "      <th>Embarked</th>\n",
              "    </tr>\n",
              "  </thead>\n",
              "  <tbody>\n",
              "    <tr>\n",
              "      <th>0</th>\n",
              "      <td>343</td>\n",
              "      <td>0</td>\n",
              "      <td>2</td>\n",
              "      <td>170</td>\n",
              "      <td>1</td>\n",
              "      <td>28.0</td>\n",
              "      <td>0</td>\n",
              "      <td>0</td>\n",
              "      <td>159</td>\n",
              "      <td>13.0000</td>\n",
              "      <td>2</td>\n",
              "    </tr>\n",
              "    <tr>\n",
              "      <th>1</th>\n",
              "      <td>76</td>\n",
              "      <td>0</td>\n",
              "      <td>3</td>\n",
              "      <td>546</td>\n",
              "      <td>1</td>\n",
              "      <td>25.0</td>\n",
              "      <td>0</td>\n",
              "      <td>0</td>\n",
              "      <td>347</td>\n",
              "      <td>7.6500</td>\n",
              "      <td>2</td>\n",
              "    </tr>\n",
              "    <tr>\n",
              "      <th>2</th>\n",
              "      <td>641</td>\n",
              "      <td>0</td>\n",
              "      <td>3</td>\n",
              "      <td>397</td>\n",
              "      <td>1</td>\n",
              "      <td>20.0</td>\n",
              "      <td>0</td>\n",
              "      <td>0</td>\n",
              "      <td>409</td>\n",
              "      <td>7.8542</td>\n",
              "      <td>2</td>\n",
              "    </tr>\n",
              "    <tr>\n",
              "      <th>3</th>\n",
              "      <td>568</td>\n",
              "      <td>0</td>\n",
              "      <td>3</td>\n",
              "      <td>627</td>\n",
              "      <td>0</td>\n",
              "      <td>29.0</td>\n",
              "      <td>0</td>\n",
              "      <td>4</td>\n",
              "      <td>395</td>\n",
              "      <td>21.0750</td>\n",
              "      <td>2</td>\n",
              "    </tr>\n",
              "    <tr>\n",
              "      <th>4</th>\n",
              "      <td>672</td>\n",
              "      <td>0</td>\n",
              "      <td>1</td>\n",
              "      <td>202</td>\n",
              "      <td>1</td>\n",
              "      <td>31.0</td>\n",
              "      <td>1</td>\n",
              "      <td>0</td>\n",
              "      <td>569</td>\n",
              "      <td>52.0000</td>\n",
              "      <td>2</td>\n",
              "    </tr>\n",
              "    <tr>\n",
              "      <th>...</th>\n",
              "      <td>...</td>\n",
              "      <td>...</td>\n",
              "      <td>...</td>\n",
              "      <td>...</td>\n",
              "      <td>...</td>\n",
              "      <td>...</td>\n",
              "      <td>...</td>\n",
              "      <td>...</td>\n",
              "      <td>...</td>\n",
              "      <td>...</td>\n",
              "      <td>...</td>\n",
              "    </tr>\n",
              "    <tr>\n",
              "      <th>886</th>\n",
              "      <td>10</td>\n",
              "      <td>1</td>\n",
              "      <td>2</td>\n",
              "      <td>576</td>\n",
              "      <td>0</td>\n",
              "      <td>14.0</td>\n",
              "      <td>1</td>\n",
              "      <td>0</td>\n",
              "      <td>132</td>\n",
              "      <td>30.0708</td>\n",
              "      <td>0</td>\n",
              "    </tr>\n",
              "    <tr>\n",
              "      <th>887</th>\n",
              "      <td>61</td>\n",
              "      <td>0</td>\n",
              "      <td>3</td>\n",
              "      <td>749</td>\n",
              "      <td>1</td>\n",
              "      <td>22.0</td>\n",
              "      <td>0</td>\n",
              "      <td>0</td>\n",
              "      <td>197</td>\n",
              "      <td>7.2292</td>\n",
              "      <td>0</td>\n",
              "    </tr>\n",
              "    <tr>\n",
              "      <th>888</th>\n",
              "      <td>535</td>\n",
              "      <td>0</td>\n",
              "      <td>3</td>\n",
              "      <td>123</td>\n",
              "      <td>0</td>\n",
              "      <td>30.0</td>\n",
              "      <td>0</td>\n",
              "      <td>0</td>\n",
              "      <td>260</td>\n",
              "      <td>8.6625</td>\n",
              "      <td>2</td>\n",
              "    </tr>\n",
              "    <tr>\n",
              "      <th>889</th>\n",
              "      <td>102</td>\n",
              "      <td>0</td>\n",
              "      <td>3</td>\n",
              "      <td>658</td>\n",
              "      <td>1</td>\n",
              "      <td>29.7</td>\n",
              "      <td>0</td>\n",
              "      <td>0</td>\n",
              "      <td>361</td>\n",
              "      <td>7.8958</td>\n",
              "      <td>2</td>\n",
              "    </tr>\n",
              "    <tr>\n",
              "      <th>890</th>\n",
              "      <td>428</td>\n",
              "      <td>1</td>\n",
              "      <td>2</td>\n",
              "      <td>662</td>\n",
              "      <td>0</td>\n",
              "      <td>19.0</td>\n",
              "      <td>0</td>\n",
              "      <td>0</td>\n",
              "      <td>170</td>\n",
              "      <td>26.0000</td>\n",
              "      <td>2</td>\n",
              "    </tr>\n",
              "  </tbody>\n",
              "</table>\n",
              "<p>891 rows × 11 columns</p>\n",
              "</div>\n",
              "      <button class=\"colab-df-convert\" onclick=\"convertToInteractive('df-2bfecf53-5dad-468d-90f2-6ddbaaf421b0')\"\n",
              "              title=\"Convert this dataframe to an interactive table.\"\n",
              "              style=\"display:none;\">\n",
              "        \n",
              "  <svg xmlns=\"http://www.w3.org/2000/svg\" height=\"24px\"viewBox=\"0 0 24 24\"\n",
              "       width=\"24px\">\n",
              "    <path d=\"M0 0h24v24H0V0z\" fill=\"none\"/>\n",
              "    <path d=\"M18.56 5.44l.94 2.06.94-2.06 2.06-.94-2.06-.94-.94-2.06-.94 2.06-2.06.94zm-11 1L8.5 8.5l.94-2.06 2.06-.94-2.06-.94L8.5 2.5l-.94 2.06-2.06.94zm10 10l.94 2.06.94-2.06 2.06-.94-2.06-.94-.94-2.06-.94 2.06-2.06.94z\"/><path d=\"M17.41 7.96l-1.37-1.37c-.4-.4-.92-.59-1.43-.59-.52 0-1.04.2-1.43.59L10.3 9.45l-7.72 7.72c-.78.78-.78 2.05 0 2.83L4 21.41c.39.39.9.59 1.41.59.51 0 1.02-.2 1.41-.59l7.78-7.78 2.81-2.81c.8-.78.8-2.07 0-2.86zM5.41 20L4 18.59l7.72-7.72 1.47 1.35L5.41 20z\"/>\n",
              "  </svg>\n",
              "      </button>\n",
              "      \n",
              "  <style>\n",
              "    .colab-df-container {\n",
              "      display:flex;\n",
              "      flex-wrap:wrap;\n",
              "      gap: 12px;\n",
              "    }\n",
              "\n",
              "    .colab-df-convert {\n",
              "      background-color: #E8F0FE;\n",
              "      border: none;\n",
              "      border-radius: 50%;\n",
              "      cursor: pointer;\n",
              "      display: none;\n",
              "      fill: #1967D2;\n",
              "      height: 32px;\n",
              "      padding: 0 0 0 0;\n",
              "      width: 32px;\n",
              "    }\n",
              "\n",
              "    .colab-df-convert:hover {\n",
              "      background-color: #E2EBFA;\n",
              "      box-shadow: 0px 1px 2px rgba(60, 64, 67, 0.3), 0px 1px 3px 1px rgba(60, 64, 67, 0.15);\n",
              "      fill: #174EA6;\n",
              "    }\n",
              "\n",
              "    [theme=dark] .colab-df-convert {\n",
              "      background-color: #3B4455;\n",
              "      fill: #D2E3FC;\n",
              "    }\n",
              "\n",
              "    [theme=dark] .colab-df-convert:hover {\n",
              "      background-color: #434B5C;\n",
              "      box-shadow: 0px 1px 3px 1px rgba(0, 0, 0, 0.15);\n",
              "      filter: drop-shadow(0px 1px 2px rgba(0, 0, 0, 0.3));\n",
              "      fill: #FFFFFF;\n",
              "    }\n",
              "  </style>\n",
              "\n",
              "      <script>\n",
              "        const buttonEl =\n",
              "          document.querySelector('#df-2bfecf53-5dad-468d-90f2-6ddbaaf421b0 button.colab-df-convert');\n",
              "        buttonEl.style.display =\n",
              "          google.colab.kernel.accessAllowed ? 'block' : 'none';\n",
              "\n",
              "        async function convertToInteractive(key) {\n",
              "          const element = document.querySelector('#df-2bfecf53-5dad-468d-90f2-6ddbaaf421b0');\n",
              "          const dataTable =\n",
              "            await google.colab.kernel.invokeFunction('convertToInteractive',\n",
              "                                                     [key], {});\n",
              "          if (!dataTable) return;\n",
              "\n",
              "          const docLinkHtml = 'Like what you see? Visit the ' +\n",
              "            '<a target=\"_blank\" href=https://colab.research.google.com/notebooks/data_table.ipynb>data table notebook</a>'\n",
              "            + ' to learn more about interactive tables.';\n",
              "          element.innerHTML = '';\n",
              "          dataTable['output_type'] = 'display_data';\n",
              "          await google.colab.output.renderOutput(dataTable, element);\n",
              "          const docLink = document.createElement('div');\n",
              "          docLink.innerHTML = docLinkHtml;\n",
              "          element.appendChild(docLink);\n",
              "        }\n",
              "      </script>\n",
              "    </div>\n",
              "  </div>\n",
              "  "
            ]
          },
          "metadata": {},
          "execution_count": 324
        }
      ]
    },
    {
      "cell_type": "code",
      "source": [
        "dataframe = code(dfcleaning)"
      ],
      "metadata": {
        "id": "T2UYRAwMj4IR"
      },
      "execution_count": 325,
      "outputs": []
    },
    {
      "cell_type": "markdown",
      "source": [
        "# 2. Phase de visualisation :"
      ],
      "metadata": {
        "id": "RwzgFB3Jvcqz"
      }
    },
    {
      "cell_type": "markdown",
      "source": [
        "Commencez par étudier la distribution des caractéristiques les plus importantes en fonction de votre compréhension de l'ensemble de données et du problème.\n",
        "\n",
        "Visualisez la corrélation entre le sexe et l'âge dans un graphique de votre choix. Le graphique visualisé devrait nous donner des déductions évidentes concernant l'importance de l'âge et du sexe dans la survie des individus.\n",
        "\n",
        "Choisissez deux autres caractéristiques et étudiez leur impact sur la survie des individus.\n"
      ],
      "metadata": {
        "id": "GBNJ7XCTwQEq"
      }
    },
    {
      "cell_type": "markdown",
      "source": [
        "Supprimer des colones pas très importantes pour notre model "
      ],
      "metadata": {
        "id": "VkqySpl0f5X5"
      }
    },
    {
      "cell_type": "code",
      "source": [
        "dataVisualisation = dataframe.copy() \n",
        "dataVisualisation"
      ],
      "metadata": {
        "colab": {
          "base_uri": "https://localhost:8080/",
          "height": 424
        },
        "id": "ftRfjEWZqLhm",
        "outputId": "707024a7-fef5-4126-9c11-070e904dcd60"
      },
      "execution_count": 326,
      "outputs": [
        {
          "output_type": "execute_result",
          "data": {
            "text/plain": [
              "     PassengerId  Survived  Pclass  Name  Sex   Age  SibSp  Parch  Ticket  \\\n",
              "0            343         0       2   170    1  28.0      0      0     159   \n",
              "1             76         0       3   546    1  25.0      0      0     347   \n",
              "2            641         0       3   397    1  20.0      0      0     409   \n",
              "3            568         0       3   627    0  29.0      0      4     395   \n",
              "4            672         0       1   202    1  31.0      1      0     569   \n",
              "..           ...       ...     ...   ...  ...   ...    ...    ...     ...   \n",
              "886           10         1       2   576    0  14.0      1      0     132   \n",
              "887           61         0       3   749    1  22.0      0      0     197   \n",
              "888          535         0       3   123    0  30.0      0      0     260   \n",
              "889          102         0       3   658    1  29.7      0      0     361   \n",
              "890          428         1       2   662    0  19.0      0      0     170   \n",
              "\n",
              "        Fare  Embarked  \n",
              "0    13.0000         2  \n",
              "1     7.6500         2  \n",
              "2     7.8542         2  \n",
              "3    21.0750         2  \n",
              "4    52.0000         2  \n",
              "..       ...       ...  \n",
              "886  30.0708         0  \n",
              "887   7.2292         0  \n",
              "888   8.6625         2  \n",
              "889   7.8958         2  \n",
              "890  26.0000         2  \n",
              "\n",
              "[891 rows x 11 columns]"
            ],
            "text/html": [
              "\n",
              "  <div id=\"df-64721a83-3a94-4741-8f02-0295e3751528\">\n",
              "    <div class=\"colab-df-container\">\n",
              "      <div>\n",
              "<style scoped>\n",
              "    .dataframe tbody tr th:only-of-type {\n",
              "        vertical-align: middle;\n",
              "    }\n",
              "\n",
              "    .dataframe tbody tr th {\n",
              "        vertical-align: top;\n",
              "    }\n",
              "\n",
              "    .dataframe thead th {\n",
              "        text-align: right;\n",
              "    }\n",
              "</style>\n",
              "<table border=\"1\" class=\"dataframe\">\n",
              "  <thead>\n",
              "    <tr style=\"text-align: right;\">\n",
              "      <th></th>\n",
              "      <th>PassengerId</th>\n",
              "      <th>Survived</th>\n",
              "      <th>Pclass</th>\n",
              "      <th>Name</th>\n",
              "      <th>Sex</th>\n",
              "      <th>Age</th>\n",
              "      <th>SibSp</th>\n",
              "      <th>Parch</th>\n",
              "      <th>Ticket</th>\n",
              "      <th>Fare</th>\n",
              "      <th>Embarked</th>\n",
              "    </tr>\n",
              "  </thead>\n",
              "  <tbody>\n",
              "    <tr>\n",
              "      <th>0</th>\n",
              "      <td>343</td>\n",
              "      <td>0</td>\n",
              "      <td>2</td>\n",
              "      <td>170</td>\n",
              "      <td>1</td>\n",
              "      <td>28.0</td>\n",
              "      <td>0</td>\n",
              "      <td>0</td>\n",
              "      <td>159</td>\n",
              "      <td>13.0000</td>\n",
              "      <td>2</td>\n",
              "    </tr>\n",
              "    <tr>\n",
              "      <th>1</th>\n",
              "      <td>76</td>\n",
              "      <td>0</td>\n",
              "      <td>3</td>\n",
              "      <td>546</td>\n",
              "      <td>1</td>\n",
              "      <td>25.0</td>\n",
              "      <td>0</td>\n",
              "      <td>0</td>\n",
              "      <td>347</td>\n",
              "      <td>7.6500</td>\n",
              "      <td>2</td>\n",
              "    </tr>\n",
              "    <tr>\n",
              "      <th>2</th>\n",
              "      <td>641</td>\n",
              "      <td>0</td>\n",
              "      <td>3</td>\n",
              "      <td>397</td>\n",
              "      <td>1</td>\n",
              "      <td>20.0</td>\n",
              "      <td>0</td>\n",
              "      <td>0</td>\n",
              "      <td>409</td>\n",
              "      <td>7.8542</td>\n",
              "      <td>2</td>\n",
              "    </tr>\n",
              "    <tr>\n",
              "      <th>3</th>\n",
              "      <td>568</td>\n",
              "      <td>0</td>\n",
              "      <td>3</td>\n",
              "      <td>627</td>\n",
              "      <td>0</td>\n",
              "      <td>29.0</td>\n",
              "      <td>0</td>\n",
              "      <td>4</td>\n",
              "      <td>395</td>\n",
              "      <td>21.0750</td>\n",
              "      <td>2</td>\n",
              "    </tr>\n",
              "    <tr>\n",
              "      <th>4</th>\n",
              "      <td>672</td>\n",
              "      <td>0</td>\n",
              "      <td>1</td>\n",
              "      <td>202</td>\n",
              "      <td>1</td>\n",
              "      <td>31.0</td>\n",
              "      <td>1</td>\n",
              "      <td>0</td>\n",
              "      <td>569</td>\n",
              "      <td>52.0000</td>\n",
              "      <td>2</td>\n",
              "    </tr>\n",
              "    <tr>\n",
              "      <th>...</th>\n",
              "      <td>...</td>\n",
              "      <td>...</td>\n",
              "      <td>...</td>\n",
              "      <td>...</td>\n",
              "      <td>...</td>\n",
              "      <td>...</td>\n",
              "      <td>...</td>\n",
              "      <td>...</td>\n",
              "      <td>...</td>\n",
              "      <td>...</td>\n",
              "      <td>...</td>\n",
              "    </tr>\n",
              "    <tr>\n",
              "      <th>886</th>\n",
              "      <td>10</td>\n",
              "      <td>1</td>\n",
              "      <td>2</td>\n",
              "      <td>576</td>\n",
              "      <td>0</td>\n",
              "      <td>14.0</td>\n",
              "      <td>1</td>\n",
              "      <td>0</td>\n",
              "      <td>132</td>\n",
              "      <td>30.0708</td>\n",
              "      <td>0</td>\n",
              "    </tr>\n",
              "    <tr>\n",
              "      <th>887</th>\n",
              "      <td>61</td>\n",
              "      <td>0</td>\n",
              "      <td>3</td>\n",
              "      <td>749</td>\n",
              "      <td>1</td>\n",
              "      <td>22.0</td>\n",
              "      <td>0</td>\n",
              "      <td>0</td>\n",
              "      <td>197</td>\n",
              "      <td>7.2292</td>\n",
              "      <td>0</td>\n",
              "    </tr>\n",
              "    <tr>\n",
              "      <th>888</th>\n",
              "      <td>535</td>\n",
              "      <td>0</td>\n",
              "      <td>3</td>\n",
              "      <td>123</td>\n",
              "      <td>0</td>\n",
              "      <td>30.0</td>\n",
              "      <td>0</td>\n",
              "      <td>0</td>\n",
              "      <td>260</td>\n",
              "      <td>8.6625</td>\n",
              "      <td>2</td>\n",
              "    </tr>\n",
              "    <tr>\n",
              "      <th>889</th>\n",
              "      <td>102</td>\n",
              "      <td>0</td>\n",
              "      <td>3</td>\n",
              "      <td>658</td>\n",
              "      <td>1</td>\n",
              "      <td>29.7</td>\n",
              "      <td>0</td>\n",
              "      <td>0</td>\n",
              "      <td>361</td>\n",
              "      <td>7.8958</td>\n",
              "      <td>2</td>\n",
              "    </tr>\n",
              "    <tr>\n",
              "      <th>890</th>\n",
              "      <td>428</td>\n",
              "      <td>1</td>\n",
              "      <td>2</td>\n",
              "      <td>662</td>\n",
              "      <td>0</td>\n",
              "      <td>19.0</td>\n",
              "      <td>0</td>\n",
              "      <td>0</td>\n",
              "      <td>170</td>\n",
              "      <td>26.0000</td>\n",
              "      <td>2</td>\n",
              "    </tr>\n",
              "  </tbody>\n",
              "</table>\n",
              "<p>891 rows × 11 columns</p>\n",
              "</div>\n",
              "      <button class=\"colab-df-convert\" onclick=\"convertToInteractive('df-64721a83-3a94-4741-8f02-0295e3751528')\"\n",
              "              title=\"Convert this dataframe to an interactive table.\"\n",
              "              style=\"display:none;\">\n",
              "        \n",
              "  <svg xmlns=\"http://www.w3.org/2000/svg\" height=\"24px\"viewBox=\"0 0 24 24\"\n",
              "       width=\"24px\">\n",
              "    <path d=\"M0 0h24v24H0V0z\" fill=\"none\"/>\n",
              "    <path d=\"M18.56 5.44l.94 2.06.94-2.06 2.06-.94-2.06-.94-.94-2.06-.94 2.06-2.06.94zm-11 1L8.5 8.5l.94-2.06 2.06-.94-2.06-.94L8.5 2.5l-.94 2.06-2.06.94zm10 10l.94 2.06.94-2.06 2.06-.94-2.06-.94-.94-2.06-.94 2.06-2.06.94z\"/><path d=\"M17.41 7.96l-1.37-1.37c-.4-.4-.92-.59-1.43-.59-.52 0-1.04.2-1.43.59L10.3 9.45l-7.72 7.72c-.78.78-.78 2.05 0 2.83L4 21.41c.39.39.9.59 1.41.59.51 0 1.02-.2 1.41-.59l7.78-7.78 2.81-2.81c.8-.78.8-2.07 0-2.86zM5.41 20L4 18.59l7.72-7.72 1.47 1.35L5.41 20z\"/>\n",
              "  </svg>\n",
              "      </button>\n",
              "      \n",
              "  <style>\n",
              "    .colab-df-container {\n",
              "      display:flex;\n",
              "      flex-wrap:wrap;\n",
              "      gap: 12px;\n",
              "    }\n",
              "\n",
              "    .colab-df-convert {\n",
              "      background-color: #E8F0FE;\n",
              "      border: none;\n",
              "      border-radius: 50%;\n",
              "      cursor: pointer;\n",
              "      display: none;\n",
              "      fill: #1967D2;\n",
              "      height: 32px;\n",
              "      padding: 0 0 0 0;\n",
              "      width: 32px;\n",
              "    }\n",
              "\n",
              "    .colab-df-convert:hover {\n",
              "      background-color: #E2EBFA;\n",
              "      box-shadow: 0px 1px 2px rgba(60, 64, 67, 0.3), 0px 1px 3px 1px rgba(60, 64, 67, 0.15);\n",
              "      fill: #174EA6;\n",
              "    }\n",
              "\n",
              "    [theme=dark] .colab-df-convert {\n",
              "      background-color: #3B4455;\n",
              "      fill: #D2E3FC;\n",
              "    }\n",
              "\n",
              "    [theme=dark] .colab-df-convert:hover {\n",
              "      background-color: #434B5C;\n",
              "      box-shadow: 0px 1px 3px 1px rgba(0, 0, 0, 0.15);\n",
              "      filter: drop-shadow(0px 1px 2px rgba(0, 0, 0, 0.3));\n",
              "      fill: #FFFFFF;\n",
              "    }\n",
              "  </style>\n",
              "\n",
              "      <script>\n",
              "        const buttonEl =\n",
              "          document.querySelector('#df-64721a83-3a94-4741-8f02-0295e3751528 button.colab-df-convert');\n",
              "        buttonEl.style.display =\n",
              "          google.colab.kernel.accessAllowed ? 'block' : 'none';\n",
              "\n",
              "        async function convertToInteractive(key) {\n",
              "          const element = document.querySelector('#df-64721a83-3a94-4741-8f02-0295e3751528');\n",
              "          const dataTable =\n",
              "            await google.colab.kernel.invokeFunction('convertToInteractive',\n",
              "                                                     [key], {});\n",
              "          if (!dataTable) return;\n",
              "\n",
              "          const docLinkHtml = 'Like what you see? Visit the ' +\n",
              "            '<a target=\"_blank\" href=https://colab.research.google.com/notebooks/data_table.ipynb>data table notebook</a>'\n",
              "            + ' to learn more about interactive tables.';\n",
              "          element.innerHTML = '';\n",
              "          dataTable['output_type'] = 'display_data';\n",
              "          await google.colab.output.renderOutput(dataTable, element);\n",
              "          const docLink = document.createElement('div');\n",
              "          docLink.innerHTML = docLinkHtml;\n",
              "          element.appendChild(docLink);\n",
              "        }\n",
              "      </script>\n",
              "    </div>\n",
              "  </div>\n",
              "  "
            ]
          },
          "metadata": {},
          "execution_count": 326
        }
      ]
    },
    {
      "cell_type": "markdown",
      "source": [
        "### Visualiser les variables les plus importantes :\n",
        "Les colones suivantes sont ne necessites pas d'être visualisées :\n",
        "\n",
        "❌ Ticket\n",
        "\n",
        "❌ PassengerId\n",
        "\n",
        "❌ Name\n",
        "\n",
        "car elle comportent un grand nombre de valeurs uniques   "
      ],
      "metadata": {
        "id": "sCWE_MN5HoKw"
      }
    },
    {
      "cell_type": "code",
      "source": [
        "dataVisualisation = dataVisualisation.drop(columns=['Ticket', 'PassengerId', 'Name'])\n",
        "dataVisualisation.columns"
      ],
      "metadata": {
        "colab": {
          "base_uri": "https://localhost:8080/"
        },
        "id": "sfqe5SkqI2Fe",
        "outputId": "9396c946-ce56-453c-e772-1a3825ae1ccc"
      },
      "execution_count": 327,
      "outputs": [
        {
          "output_type": "execute_result",
          "data": {
            "text/plain": [
              "Index(['Survived', 'Pclass', 'Sex', 'Age', 'SibSp', 'Parch', 'Fare',\n",
              "       'Embarked'],\n",
              "      dtype='object')"
            ]
          },
          "metadata": {},
          "execution_count": 327
        }
      ]
    },
    {
      "cell_type": "markdown",
      "source": [
        "### Distribution des caractéristiques les plus importantes "
      ],
      "metadata": {
        "id": "X0TezPuGJhTh"
      }
    },
    {
      "cell_type": "markdown",
      "source": [
        "la distribution des passagers selon leur Sexes"
      ],
      "metadata": {
        "id": "o6f-Uxb4J9dp"
      }
    },
    {
      "cell_type": "code",
      "source": [
        "dataVisualisation['Sex'].value_counts()"
      ],
      "metadata": {
        "colab": {
          "base_uri": "https://localhost:8080/"
        },
        "id": "sgYSiua9JxSV",
        "outputId": "426c3cbd-2980-47fc-afdb-6a04644e5f76"
      },
      "execution_count": 328,
      "outputs": [
        {
          "output_type": "execute_result",
          "data": {
            "text/plain": [
              "1    577\n",
              "0    314\n",
              "Name: Sex, dtype: int64"
            ]
          },
          "metadata": {},
          "execution_count": 328
        }
      ]
    },
    {
      "cell_type": "code",
      "source": [
        "\n",
        "g = dataVisualisation['Sex'].value_counts().plot.pie(labels =[\"Homme 57,7%\",'Femme 31,4%'], title=\"La distribution des passagers selon leur genres\")"
      ],
      "metadata": {
        "colab": {
          "base_uri": "https://localhost:8080/",
          "height": 264
        },
        "id": "yyiCT1eOKL0W",
        "outputId": "ac49fcbc-5cef-4407-aef5-21d668ed7b7f"
      },
      "execution_count": 329,
      "outputs": [
        {
          "output_type": "display_data",
          "data": {
            "text/plain": [
              "<Figure size 432x288 with 1 Axes>"
            ],
            "image/png": "[encoded data removed]"
          },
          "metadata": {}
        }
      ]
    },
    {
      "cell_type": "markdown",
      "source": [
        "la distribution des passagers selon leur Age"
      ],
      "metadata": {
        "id": "bmeDEvhfO2vX"
      }
    },
    {
      "cell_type": "code",
      "source": [
        "sns.displot(dataVisualisation, x=\"Age\", hue=\"Sex\", kind=\"kde\", fill=True)\n"
      ],
      "metadata": {
        "colab": {
          "base_uri": "https://localhost:8080/",
          "height": 382
        },
        "id": "ws11WwImnY0p",
        "outputId": "f63e2de1-4bbd-47fd-b4f2-dabd000b9e17"
      },
      "execution_count": 330,
      "outputs": [
        {
          "output_type": "execute_result",
          "data": {
            "text/plain": [
              "<seaborn.axisgrid.FacetGrid at 0x7f4f3f9e3250>"
            ]
          },
          "metadata": {},
          "execution_count": 330
        },
        {
          "output_type": "display_data",
          "data": {
            "text/plain": [
              "<Figure size 406.6x360 with 1 Axes>"
            ],
            "image/png": "[encoded data removed]"
          },
          "metadata": {}
        }
      ]
    },
    {
      "cell_type": "markdown",
      "source": [
        "Combien de personnes ont survecu ?"
      ],
      "metadata": {
        "id": "z2yRvP6t0wU0"
      }
    },
    {
      "cell_type": "code",
      "source": [
        "dataVisualisation.Survived.value_counts()"
      ],
      "metadata": {
        "colab": {
          "base_uri": "https://localhost:8080/"
        },
        "id": "9J41rYac0vId",
        "outputId": "7a57488f-508d-449d-e0f8-1cbaf5a5f2d3"
      },
      "execution_count": 331,
      "outputs": [
        {
          "output_type": "execute_result",
          "data": {
            "text/plain": [
              "0    549\n",
              "1    342\n",
              "Name: Survived, dtype: int64"
            ]
          },
          "metadata": {},
          "execution_count": 331
        }
      ]
    },
    {
      "cell_type": "markdown",
      "source": [
        "#### Les distributions des survivants selon La classe Passagers"
      ],
      "metadata": {
        "id": "3k3wUM4lW8yu"
      }
    },
    {
      "cell_type": "code",
      "source": [
        "SurvivedparPclass =(dataframe.groupby(['Survived','Pclass']).count()).PassengerId\n",
        "SurvivedparPclass"
      ],
      "metadata": {
        "colab": {
          "base_uri": "https://localhost:8080/"
        },
        "id": "ZUZ9rmgI1qjg",
        "outputId": "c12e7cf6-87a2-4df6-dd42-0399ba561c0d"
      },
      "execution_count": 368,
      "outputs": [
        {
          "output_type": "execute_result",
          "data": {
            "text/plain": [
              "Survived  Pclass\n",
              "0         1          80\n",
              "          2          97\n",
              "          3         372\n",
              "1         1         136\n",
              "          2          87\n",
              "          3         119\n",
              "Name: PassengerId, dtype: int64"
            ]
          },
          "metadata": {},
          "execution_count": 368
        }
      ]
    },
    {
      "cell_type": "code",
      "source": [
        "g = SurvivedparPclass.plot.bar()\n",
        "g.legend(labels=[\"(0,1) : non survecu en 1er classe \\n(0,2) : non survecu en 2em classe \\n(0,3) : non survecu en 3em classe \\n(1,1) : survecu en 1er classe \\n(1,2) : survecu en 2em classe \\n(1,3) : survecu en 3em classe \\n\"])\n",
        "g.plot([891]) # colone\n",
        "g.set_title('\\n distributions des survivants selon La classe Passagers \\n')\n",
        "g.set_ylabel('Nombre Totale passager')\n",
        "g.set_xlabel('(Survivant?, Classe)')"
      ],
      "metadata": {
        "colab": {
          "base_uri": "https://localhost:8080/",
          "height": 367
        },
        "id": "Q1k8L1mn4Ull",
        "outputId": "f792a91c-5cc1-4d1a-e68a-39b7488146a6"
      },
      "execution_count": 456,
      "outputs": [
        {
          "output_type": "execute_result",
          "data": {
            "text/plain": [
              "Text(0.5, 0, '(Survivant?, Classe)')"
            ]
          },
          "metadata": {},
          "execution_count": 456
        },
        {
          "output_type": "display_data",
          "data": {
            "text/plain": [
              "<Figure size 432x288 with 1 Axes>"
            ],
            "image/png": "[encoded data removed]"
          },
          "metadata": {}
        }
      ]
    },
    {
      "cell_type": "markdown",
      "source": [
        "Proportion des tarif payés en moyenne d'age  \n",
        "\n",
        "\n"
      ],
      "metadata": {
        "id": "KvYgAH3CVPcM"
      }
    },
    {
      "cell_type": "code",
      "source": [
        "sns.set_theme(style=\"white\")\n",
        "\n",
        "\n",
        "sns.relplot(x=\"Age\", \n",
        "            y=\"Fare\",\n",
        "            hue=\"Sex\", \n",
        "            size=\"Survived\",\n",
        "            sizes=(40, 400), \n",
        "            alpha=.5, \n",
        "            palette=\"muted\",\n",
        "            height=6, \n",
        "            data=dataVisualisation.groupby(['Age']).mean().round(0))"
      ],
      "metadata": {
        "colab": {
          "base_uri": "https://localhost:8080/",
          "height": 454
        },
        "id": "1xJ2xyxC4Htq",
        "outputId": "86368481-5472-4d2b-cfc4-e5794664f754"
      },
      "execution_count": 552,
      "outputs": [
        {
          "output_type": "execute_result",
          "data": {
            "text/plain": [
              "<seaborn.axisgrid.FacetGrid at 0x7f4f2de8d810>"
            ]
          },
          "metadata": {},
          "execution_count": 552
        },
        {
          "output_type": "display_data",
          "data": {
            "text/plain": [
              "<Figure size 502.35x432 with 1 Axes>"
            ],
            "image/png": "[encoded data removed]"
          },
          "metadata": {}
        }
      ]
    },
    {
      "cell_type": "markdown",
      "source": [
        "### Corelation sex & age "
      ],
      "metadata": {
        "id": "5ywZHyYCCTH8"
      }
    },
    {
      "cell_type": "code",
      "source": [
        "sns.set_theme(style=\"ticks\", palette=\"pastel\")\n",
        "\n",
        "sns.boxplot(x=\"Sex\", #variable catégorique\n",
        "            y=\"Age\", #variable Numerique\n",
        "            hue=\"Survived\", #variable catégorique \n",
        "            palette=[\"m\", \"g\"],\n",
        "            data=dataVisualisation)\n",
        "sns.despine(offset=10, trim=True) "
      ],
      "metadata": {
        "id": "_2rAn7Y8vaIs",
        "colab": {
          "base_uri": "https://localhost:8080/",
          "height": 295
        },
        "outputId": "9930d7f8-d126-4c91-d045-327b23eca73a"
      },
      "execution_count": 553,
      "outputs": [
        {
          "output_type": "display_data",
          "data": {
            "text/plain": [
              "<Figure size 432x288 with 1 Axes>"
            ],
            "image/png": "[encoded data removed]"
          },
          "metadata": {}
        }
      ]
    },
    {
      "cell_type": "code",
      "source": [
        "sns.set_theme(style=\"whitegrid\", palette=\"muted\")\n",
        "\n",
        "ax = sns.swarmplot(data=dataVisualisation[dataVisualisation['Age']<=40][dataVisualisation['Age']>=20], x=\"Sex\", y=\"Age\", hue=\"Survived\")\n",
        "ax.set(ylabel=\"\")"
      ],
      "metadata": {
        "colab": {
          "base_uri": "https://localhost:8080/",
          "height": 407
        },
        "id": "iCyEM3JNxfzP",
        "outputId": "b9cc1113-b915-40d2-fb40-a5ba728a64f7"
      },
      "execution_count": 554,
      "outputs": [
        {
          "output_type": "stream",
          "name": "stderr",
          "text": [
            "/usr/local/lib/python3.7/dist-packages/ipykernel_launcher.py:3: UserWarning: Boolean Series key will be reindexed to match DataFrame index.\n",
            "  This is separate from the ipykernel package so we can avoid doing imports until\n",
            "/usr/local/lib/python3.7/dist-packages/seaborn/categorical.py:1296: UserWarning: 20.4% of the points cannot be placed; you may want to decrease the size of the markers or use stripplot.\n",
            "  warnings.warn(msg, UserWarning)\n",
            "/usr/local/lib/python3.7/dist-packages/seaborn/categorical.py:1296: UserWarning: 29.3% of the points cannot be placed; you may want to decrease the size of the markers or use stripplot.\n",
            "  warnings.warn(msg, UserWarning)\n"
          ]
        },
        {
          "output_type": "execute_result",
          "data": {
            "text/plain": [
              "[Text(0, 0.5, '')]"
            ]
          },
          "metadata": {},
          "execution_count": 554
        },
        {
          "output_type": "display_data",
          "data": {
            "text/plain": [
              "<Figure size 432x288 with 1 Axes>"
            ],
            "image/png": "[encoded data removed]"
          },
          "metadata": {}
        }
      ]
    },
    {
      "cell_type": "markdown",
      "source": [
        "### Interpretation\n",
        "🔜  Les femmes ont plus de chance de survit que les hommes surtout sur une moyenne d'age 20<= femme, homme <40"
      ],
      "metadata": {
        "id": "HNewHPkCEX8o"
      }
    },
    {
      "cell_type": "markdown",
      "source": [
        "Choisissez deux autres fonctions et étudiez leur impact sur la survie des individus.\n",
        "\n",
        "Examinez cette fonction :\n",
        "\n",
        "def plot_correlation_map( df ):\n",
        "\n",
        "    corr = df.corr()\n",
        "\n",
        "    s , ax = plt.subplots( figsize =( 12 , 10 ) )\n",
        "\n",
        "    cmap = sns.diverging_palette( 220 , 10 , as_cmap = True )\n",
        "\n",
        "    s = sns.heatmap(\n",
        "\n",
        "        corr, \n",
        "\n",
        "        cmap = cmap,\n",
        "\n",
        "        square=True, \n",
        "\n",
        "        cbar_kws={ 'shrink' : .9 }, \n",
        "\n",
        "        ax=ax, \n",
        "\n",
        "        annot = True, \n",
        "\n",
        "        annot_kws = { 'fontsize' : 12 }\n",
        "\n",
        "        )\n",
        "\n",
        "Essayez d'exécuter la fonction, analysez ce qu'elle fait exactement et ses utilités. Rédigez un paragraphe décrivant votre analyse (le paragraphe doit être rédigé en anglais).\n",
        "\n"
      ],
      "metadata": {
        "id": "q1HbbMgTHEV6"
      }
    },
    {
      "cell_type": "code",
      "source": [
        "\n",
        "# implementer la fonction \n",
        "def plot_correlation_map( df ):\n",
        "  corr = df.corr()\n",
        "  s , ax = plt.subplots( figsize =( 12 , 10 ) )\n",
        "  cmap = sns.diverging_palette( 220 , 10 , as_cmap = True )\n",
        "  s = sns.heatmap(\n",
        "    corr, \n",
        "\n",
        "    cmap = cmap,\n",
        "\n",
        "    square=True, \n",
        "\n",
        "    cbar_kws={ 'shrink' : .9 }, \n",
        "\n",
        "    ax=ax, \n",
        "\n",
        "    annot = True, \n",
        "\n",
        "    annot_kws = { 'fontsize' : 12 }\n",
        "\n",
        "    )\n",
        "  \n",
        "plot_correlation_map(dataVisualisation)"
      ],
      "metadata": {
        "colab": {
          "base_uri": "https://localhost:8080/",
          "height": 586
        },
        "id": "uYzc-ezGGSrA",
        "outputId": "00f0f6fb-79f4-4880-c297-58bd98912b3d"
      },
      "execution_count": 555,
      "outputs": [
        {
          "output_type": "display_data",
          "data": {
            "text/plain": [
              "<Figure size 864x720 with 2 Axes>"
            ],
            "image/png": "[encoded data removed]"
          },
          "metadata": {}
        }
      ]
    },
    {
      "cell_type": "markdown",
      "source": [
        "### Analyse de la fonction `plot_correlation_map`\n",
        "\n",
        "La fonction `plot_correlation_map` de créer une matrice de correlation entre les différentes variables du dataframe. L'échèlle de correlation étant de -0.4 à 1.0 avec un code couleur allant du bleu au rouge.\n",
        "les variables fortement corrolées sont donc celles qui ont des couleurs qui tendent vers le rouge et les moins corrolées sont celles qui tendent vers le bleu.\n",
        "\n",
        "Exemple  : Fare et Survived sont fortements en correlation et le Sex et Survived sont pas en faible correlation\n",
        "\n"
      ],
      "metadata": {
        "id": "E4HxqLuoKCCd"
      }
    },
    {
      "cell_type": "markdown",
      "source": [
        "Utilisez la fonction groupby combinée avec la fonction mean() pour visualiser la relation entre Pclass et survived."
      ],
      "metadata": {
        "id": "Yu4ofI4UOVsW"
      }
    },
    {
      "cell_type": "code",
      "source": [
        "dPclass  = dataVisualisation.groupby(['Pclass', 'Survived']).mean().round(2)\n",
        "dPclass"
      ],
      "metadata": {
        "colab": {
          "base_uri": "https://localhost:8080/",
          "height": 269
        },
        "id": "XUb8mtoOOXDG",
        "outputId": "9886fcf2-a5a0-430f-e9ed-76344eb10209"
      },
      "execution_count": 556,
      "outputs": [
        {
          "output_type": "execute_result",
          "data": {
            "text/plain": [
              "                  Sex    Age  SibSp  Parch   Fare  Embarked\n",
              "Pclass Survived                                            \n",
              "1      0         0.96  40.90   0.29   0.30  64.68      1.34\n",
              "       1         0.33  34.78   0.49   0.39  95.61      1.11\n",
              "2      0         0.94  33.27   0.32   0.14  19.41      1.82\n",
              "       1         0.20  26.08   0.49   0.64  22.06      1.77\n",
              "3      0         0.81  27.42   0.67   0.38  13.67      1.66\n",
              "       1         0.39  23.23   0.44   0.42  13.69      1.35"
            ],
            "text/html": [
              "\n",
              "  <div id=\"df-2f61a0a3-cf9d-4a1f-96cd-e9f97bd5da2b\">\n",
              "    <div class=\"colab-df-container\">\n",
              "      <div>\n",
              "<style scoped>\n",
              "    .dataframe tbody tr th:only-of-type {\n",
              "        vertical-align: middle;\n",
              "    }\n",
              "\n",
              "    .dataframe tbody tr th {\n",
              "        vertical-align: top;\n",
              "    }\n",
              "\n",
              "    .dataframe thead th {\n",
              "        text-align: right;\n",
              "    }\n",
              "</style>\n",
              "<table border=\"1\" class=\"dataframe\">\n",
              "  <thead>\n",
              "    <tr style=\"text-align: right;\">\n",
              "      <th></th>\n",
              "      <th></th>\n",
              "      <th>Sex</th>\n",
              "      <th>Age</th>\n",
              "      <th>SibSp</th>\n",
              "      <th>Parch</th>\n",
              "      <th>Fare</th>\n",
              "      <th>Embarked</th>\n",
              "    </tr>\n",
              "    <tr>\n",
              "      <th>Pclass</th>\n",
              "      <th>Survived</th>\n",
              "      <th></th>\n",
              "      <th></th>\n",
              "      <th></th>\n",
              "      <th></th>\n",
              "      <th></th>\n",
              "      <th></th>\n",
              "    </tr>\n",
              "  </thead>\n",
              "  <tbody>\n",
              "    <tr>\n",
              "      <th rowspan=\"2\" valign=\"top\">1</th>\n",
              "      <th>0</th>\n",
              "      <td>0.96</td>\n",
              "      <td>40.90</td>\n",
              "      <td>0.29</td>\n",
              "      <td>0.30</td>\n",
              "      <td>64.68</td>\n",
              "      <td>1.34</td>\n",
              "    </tr>\n",
              "    <tr>\n",
              "      <th>1</th>\n",
              "      <td>0.33</td>\n",
              "      <td>34.78</td>\n",
              "      <td>0.49</td>\n",
              "      <td>0.39</td>\n",
              "      <td>95.61</td>\n",
              "      <td>1.11</td>\n",
              "    </tr>\n",
              "    <tr>\n",
              "      <th rowspan=\"2\" valign=\"top\">2</th>\n",
              "      <th>0</th>\n",
              "      <td>0.94</td>\n",
              "      <td>33.27</td>\n",
              "      <td>0.32</td>\n",
              "      <td>0.14</td>\n",
              "      <td>19.41</td>\n",
              "      <td>1.82</td>\n",
              "    </tr>\n",
              "    <tr>\n",
              "      <th>1</th>\n",
              "      <td>0.20</td>\n",
              "      <td>26.08</td>\n",
              "      <td>0.49</td>\n",
              "      <td>0.64</td>\n",
              "      <td>22.06</td>\n",
              "      <td>1.77</td>\n",
              "    </tr>\n",
              "    <tr>\n",
              "      <th rowspan=\"2\" valign=\"top\">3</th>\n",
              "      <th>0</th>\n",
              "      <td>0.81</td>\n",
              "      <td>27.42</td>\n",
              "      <td>0.67</td>\n",
              "      <td>0.38</td>\n",
              "      <td>13.67</td>\n",
              "      <td>1.66</td>\n",
              "    </tr>\n",
              "    <tr>\n",
              "      <th>1</th>\n",
              "      <td>0.39</td>\n",
              "      <td>23.23</td>\n",
              "      <td>0.44</td>\n",
              "      <td>0.42</td>\n",
              "      <td>13.69</td>\n",
              "      <td>1.35</td>\n",
              "    </tr>\n",
              "  </tbody>\n",
              "</table>\n",
              "</div>\n",
              "      <button class=\"colab-df-convert\" onclick=\"convertToInteractive('df-2f61a0a3-cf9d-4a1f-96cd-e9f97bd5da2b')\"\n",
              "              title=\"Convert this dataframe to an interactive table.\"\n",
              "              style=\"display:none;\">\n",
              "        \n",
              "  <svg xmlns=\"http://www.w3.org/2000/svg\" height=\"24px\"viewBox=\"0 0 24 24\"\n",
              "       width=\"24px\">\n",
              "    <path d=\"M0 0h24v24H0V0z\" fill=\"none\"/>\n",
              "    <path d=\"M18.56 5.44l.94 2.06.94-2.06 2.06-.94-2.06-.94-.94-2.06-.94 2.06-2.06.94zm-11 1L8.5 8.5l.94-2.06 2.06-.94-2.06-.94L8.5 2.5l-.94 2.06-2.06.94zm10 10l.94 2.06.94-2.06 2.06-.94-2.06-.94-.94-2.06-.94 2.06-2.06.94z\"/><path d=\"M17.41 7.96l-1.37-1.37c-.4-.4-.92-.59-1.43-.59-.52 0-1.04.2-1.43.59L10.3 9.45l-7.72 7.72c-.78.78-.78 2.05 0 2.83L4 21.41c.39.39.9.59 1.41.59.51 0 1.02-.2 1.41-.59l7.78-7.78 2.81-2.81c.8-.78.8-2.07 0-2.86zM5.41 20L4 18.59l7.72-7.72 1.47 1.35L5.41 20z\"/>\n",
              "  </svg>\n",
              "      </button>\n",
              "      \n",
              "  <style>\n",
              "    .colab-df-container {\n",
              "      display:flex;\n",
              "      flex-wrap:wrap;\n",
              "      gap: 12px;\n",
              "    }\n",
              "\n",
              "    .colab-df-convert {\n",
              "      background-color: #E8F0FE;\n",
              "      border: none;\n",
              "      border-radius: 50%;\n",
              "      cursor: pointer;\n",
              "      display: none;\n",
              "      fill: #1967D2;\n",
              "      height: 32px;\n",
              "      padding: 0 0 0 0;\n",
              "      width: 32px;\n",
              "    }\n",
              "\n",
              "    .colab-df-convert:hover {\n",
              "      background-color: #E2EBFA;\n",
              "      box-shadow: 0px 1px 2px rgba(60, 64, 67, 0.3), 0px 1px 3px 1px rgba(60, 64, 67, 0.15);\n",
              "      fill: #174EA6;\n",
              "    }\n",
              "\n",
              "    [theme=dark] .colab-df-convert {\n",
              "      background-color: #3B4455;\n",
              "      fill: #D2E3FC;\n",
              "    }\n",
              "\n",
              "    [theme=dark] .colab-df-convert:hover {\n",
              "      background-color: #434B5C;\n",
              "      box-shadow: 0px 1px 3px 1px rgba(0, 0, 0, 0.15);\n",
              "      filter: drop-shadow(0px 1px 2px rgba(0, 0, 0, 0.3));\n",
              "      fill: #FFFFFF;\n",
              "    }\n",
              "  </style>\n",
              "\n",
              "      <script>\n",
              "        const buttonEl =\n",
              "          document.querySelector('#df-2f61a0a3-cf9d-4a1f-96cd-e9f97bd5da2b button.colab-df-convert');\n",
              "        buttonEl.style.display =\n",
              "          google.colab.kernel.accessAllowed ? 'block' : 'none';\n",
              "\n",
              "        async function convertToInteractive(key) {\n",
              "          const element = document.querySelector('#df-2f61a0a3-cf9d-4a1f-96cd-e9f97bd5da2b');\n",
              "          const dataTable =\n",
              "            await google.colab.kernel.invokeFunction('convertToInteractive',\n",
              "                                                     [key], {});\n",
              "          if (!dataTable) return;\n",
              "\n",
              "          const docLinkHtml = 'Like what you see? Visit the ' +\n",
              "            '<a target=\"_blank\" href=https://colab.research.google.com/notebooks/data_table.ipynb>data table notebook</a>'\n",
              "            + ' to learn more about interactive tables.';\n",
              "          element.innerHTML = '';\n",
              "          dataTable['output_type'] = 'display_data';\n",
              "          await google.colab.output.renderOutput(dataTable, element);\n",
              "          const docLink = document.createElement('div');\n",
              "          docLink.innerHTML = docLinkHtml;\n",
              "          element.appendChild(docLink);\n",
              "        }\n",
              "      </script>\n",
              "    </div>\n",
              "  </div>\n",
              "  "
            ]
          },
          "metadata": {},
          "execution_count": 556
        }
      ]
    },
    {
      "cell_type": "markdown",
      "source": [
        "\n",
        "\n",
        "Comme étape finale, essayez d'éliminer les colonnes inutiles (telles que Names).\n",
        "\n",
        "Nous avons supprimé la colonne Names parce que nous l'avons jugée inutile. Mais ce n'est finalement pas le cas car nous pouvons créer une fonctionnalité très utile à partir de Names.\n",
        "\n"
      ],
      "metadata": {
        "id": "cR45Zbf_J_l6"
      }
    },
    {
      "cell_type": "code",
      "source": [
        "data = dataVisualisation.drop(columns=['SibSp', 'Parch', 'Embarked'])\n",
        "data['Name'] = df['Name']\n",
        "data"
      ],
      "metadata": {
        "colab": {
          "base_uri": "https://localhost:8080/",
          "height": 424
        },
        "id": "jO_QnT9pUWa1",
        "outputId": "e3bb05e9-df1e-4fce-c055-4e6a8f3ee6bb"
      },
      "execution_count": 557,
      "outputs": [
        {
          "output_type": "execute_result",
          "data": {
            "text/plain": [
              "     Survived  Pclass  Sex   Age     Fare  \\\n",
              "0           0       2    1  28.0  13.0000   \n",
              "1           0       3    1  25.0   7.6500   \n",
              "2           0       3    1  20.0   7.8542   \n",
              "3           0       3    0  29.0  21.0750   \n",
              "4           0       1    1  31.0  52.0000   \n",
              "..        ...     ...  ...   ...      ...   \n",
              "886         1       2    0  14.0  30.0708   \n",
              "887         0       3    1  22.0   7.2292   \n",
              "888         0       3    0  30.0   8.6625   \n",
              "889         0       3    1  29.7   7.8958   \n",
              "890         1       2    0  19.0  26.0000   \n",
              "\n",
              "                                                  Name  \n",
              "0                           Collander, Mr. Erik Gustaf  \n",
              "1                              Moen, Mr. Sigurd Hansen  \n",
              "2                               Jensen, Mr. Hans Peder  \n",
              "3          Palsson, Mrs. Nils (Alma Cornelia Berglund)  \n",
              "4                               Davidson, Mr. Thornton  \n",
              "..                                                 ...  \n",
              "886                Nasser, Mrs. Nicholas (Adele Achem)  \n",
              "887                              Sirayanian, Mr. Orsen  \n",
              "888                                Cacic, Miss. Marija  \n",
              "889                   Petroff, Mr. Pastcho (\"Pentcho\")  \n",
              "890  Phillips, Miss. Kate Florence (\"Mrs Kate Louis...  \n",
              "\n",
              "[891 rows x 6 columns]"
            ],
            "text/html": [
              "\n",
              "  <div id=\"df-820a90fc-114e-4e88-8a78-b66dc78f6ffd\">\n",
              "    <div class=\"colab-df-container\">\n",
              "      <div>\n",
              "<style scoped>\n",
              "    .dataframe tbody tr th:only-of-type {\n",
              "        vertical-align: middle;\n",
              "    }\n",
              "\n",
              "    .dataframe tbody tr th {\n",
              "        vertical-align: top;\n",
              "    }\n",
              "\n",
              "    .dataframe thead th {\n",
              "        text-align: right;\n",
              "    }\n",
              "</style>\n",
              "<table border=\"1\" class=\"dataframe\">\n",
              "  <thead>\n",
              "    <tr style=\"text-align: right;\">\n",
              "      <th></th>\n",
              "      <th>Survived</th>\n",
              "      <th>Pclass</th>\n",
              "      <th>Sex</th>\n",
              "      <th>Age</th>\n",
              "      <th>Fare</th>\n",
              "      <th>Name</th>\n",
              "    </tr>\n",
              "  </thead>\n",
              "  <tbody>\n",
              "    <tr>\n",
              "      <th>0</th>\n",
              "      <td>0</td>\n",
              "      <td>2</td>\n",
              "      <td>1</td>\n",
              "      <td>28.0</td>\n",
              "      <td>13.0000</td>\n",
              "      <td>Collander, Mr. Erik Gustaf</td>\n",
              "    </tr>\n",
              "    <tr>\n",
              "      <th>1</th>\n",
              "      <td>0</td>\n",
              "      <td>3</td>\n",
              "      <td>1</td>\n",
              "      <td>25.0</td>\n",
              "      <td>7.6500</td>\n",
              "      <td>Moen, Mr. Sigurd Hansen</td>\n",
              "    </tr>\n",
              "    <tr>\n",
              "      <th>2</th>\n",
              "      <td>0</td>\n",
              "      <td>3</td>\n",
              "      <td>1</td>\n",
              "      <td>20.0</td>\n",
              "      <td>7.8542</td>\n",
              "      <td>Jensen, Mr. Hans Peder</td>\n",
              "    </tr>\n",
              "    <tr>\n",
              "      <th>3</th>\n",
              "      <td>0</td>\n",
              "      <td>3</td>\n",
              "      <td>0</td>\n",
              "      <td>29.0</td>\n",
              "      <td>21.0750</td>\n",
              "      <td>Palsson, Mrs. Nils (Alma Cornelia Berglund)</td>\n",
              "    </tr>\n",
              "    <tr>\n",
              "      <th>4</th>\n",
              "      <td>0</td>\n",
              "      <td>1</td>\n",
              "      <td>1</td>\n",
              "      <td>31.0</td>\n",
              "      <td>52.0000</td>\n",
              "      <td>Davidson, Mr. Thornton</td>\n",
              "    </tr>\n",
              "    <tr>\n",
              "      <th>...</th>\n",
              "      <td>...</td>\n",
              "      <td>...</td>\n",
              "      <td>...</td>\n",
              "      <td>...</td>\n",
              "      <td>...</td>\n",
              "      <td>...</td>\n",
              "    </tr>\n",
              "    <tr>\n",
              "      <th>886</th>\n",
              "      <td>1</td>\n",
              "      <td>2</td>\n",
              "      <td>0</td>\n",
              "      <td>14.0</td>\n",
              "      <td>30.0708</td>\n",
              "      <td>Nasser, Mrs. Nicholas (Adele Achem)</td>\n",
              "    </tr>\n",
              "    <tr>\n",
              "      <th>887</th>\n",
              "      <td>0</td>\n",
              "      <td>3</td>\n",
              "      <td>1</td>\n",
              "      <td>22.0</td>\n",
              "      <td>7.2292</td>\n",
              "      <td>Sirayanian, Mr. Orsen</td>\n",
              "    </tr>\n",
              "    <tr>\n",
              "      <th>888</th>\n",
              "      <td>0</td>\n",
              "      <td>3</td>\n",
              "      <td>0</td>\n",
              "      <td>30.0</td>\n",
              "      <td>8.6625</td>\n",
              "      <td>Cacic, Miss. Marija</td>\n",
              "    </tr>\n",
              "    <tr>\n",
              "      <th>889</th>\n",
              "      <td>0</td>\n",
              "      <td>3</td>\n",
              "      <td>1</td>\n",
              "      <td>29.7</td>\n",
              "      <td>7.8958</td>\n",
              "      <td>Petroff, Mr. Pastcho (\"Pentcho\")</td>\n",
              "    </tr>\n",
              "    <tr>\n",
              "      <th>890</th>\n",
              "      <td>1</td>\n",
              "      <td>2</td>\n",
              "      <td>0</td>\n",
              "      <td>19.0</td>\n",
              "      <td>26.0000</td>\n",
              "      <td>Phillips, Miss. Kate Florence (\"Mrs Kate Louis...</td>\n",
              "    </tr>\n",
              "  </tbody>\n",
              "</table>\n",
              "<p>891 rows × 6 columns</p>\n",
              "</div>\n",
              "      <button class=\"colab-df-convert\" onclick=\"convertToInteractive('df-820a90fc-114e-4e88-8a78-b66dc78f6ffd')\"\n",
              "              title=\"Convert this dataframe to an interactive table.\"\n",
              "              style=\"display:none;\">\n",
              "        \n",
              "  <svg xmlns=\"http://www.w3.org/2000/svg\" height=\"24px\"viewBox=\"0 0 24 24\"\n",
              "       width=\"24px\">\n",
              "    <path d=\"M0 0h24v24H0V0z\" fill=\"none\"/>\n",
              "    <path d=\"M18.56 5.44l.94 2.06.94-2.06 2.06-.94-2.06-.94-.94-2.06-.94 2.06-2.06.94zm-11 1L8.5 8.5l.94-2.06 2.06-.94-2.06-.94L8.5 2.5l-.94 2.06-2.06.94zm10 10l.94 2.06.94-2.06 2.06-.94-2.06-.94-.94-2.06-.94 2.06-2.06.94z\"/><path d=\"M17.41 7.96l-1.37-1.37c-.4-.4-.92-.59-1.43-.59-.52 0-1.04.2-1.43.59L10.3 9.45l-7.72 7.72c-.78.78-.78 2.05 0 2.83L4 21.41c.39.39.9.59 1.41.59.51 0 1.02-.2 1.41-.59l7.78-7.78 2.81-2.81c.8-.78.8-2.07 0-2.86zM5.41 20L4 18.59l7.72-7.72 1.47 1.35L5.41 20z\"/>\n",
              "  </svg>\n",
              "      </button>\n",
              "      \n",
              "  <style>\n",
              "    .colab-df-container {\n",
              "      display:flex;\n",
              "      flex-wrap:wrap;\n",
              "      gap: 12px;\n",
              "    }\n",
              "\n",
              "    .colab-df-convert {\n",
              "      background-color: #E8F0FE;\n",
              "      border: none;\n",
              "      border-radius: 50%;\n",
              "      cursor: pointer;\n",
              "      display: none;\n",
              "      fill: #1967D2;\n",
              "      height: 32px;\n",
              "      padding: 0 0 0 0;\n",
              "      width: 32px;\n",
              "    }\n",
              "\n",
              "    .colab-df-convert:hover {\n",
              "      background-color: #E2EBFA;\n",
              "      box-shadow: 0px 1px 2px rgba(60, 64, 67, 0.3), 0px 1px 3px 1px rgba(60, 64, 67, 0.15);\n",
              "      fill: #174EA6;\n",
              "    }\n",
              "\n",
              "    [theme=dark] .colab-df-convert {\n",
              "      background-color: #3B4455;\n",
              "      fill: #D2E3FC;\n",
              "    }\n",
              "\n",
              "    [theme=dark] .colab-df-convert:hover {\n",
              "      background-color: #434B5C;\n",
              "      box-shadow: 0px 1px 3px 1px rgba(0, 0, 0, 0.15);\n",
              "      filter: drop-shadow(0px 1px 2px rgba(0, 0, 0, 0.3));\n",
              "      fill: #FFFFFF;\n",
              "    }\n",
              "  </style>\n",
              "\n",
              "      <script>\n",
              "        const buttonEl =\n",
              "          document.querySelector('#df-820a90fc-114e-4e88-8a78-b66dc78f6ffd button.colab-df-convert');\n",
              "        buttonEl.style.display =\n",
              "          google.colab.kernel.accessAllowed ? 'block' : 'none';\n",
              "\n",
              "        async function convertToInteractive(key) {\n",
              "          const element = document.querySelector('#df-820a90fc-114e-4e88-8a78-b66dc78f6ffd');\n",
              "          const dataTable =\n",
              "            await google.colab.kernel.invokeFunction('convertToInteractive',\n",
              "                                                     [key], {});\n",
              "          if (!dataTable) return;\n",
              "\n",
              "          const docLinkHtml = 'Like what you see? Visit the ' +\n",
              "            '<a target=\"_blank\" href=https://colab.research.google.com/notebooks/data_table.ipynb>data table notebook</a>'\n",
              "            + ' to learn more about interactive tables.';\n",
              "          element.innerHTML = '';\n",
              "          dataTable['output_type'] = 'display_data';\n",
              "          await google.colab.output.renderOutput(dataTable, element);\n",
              "          const docLink = document.createElement('div');\n",
              "          docLink.innerHTML = docLinkHtml;\n",
              "          element.appendChild(docLink);\n",
              "        }\n",
              "      </script>\n",
              "    </div>\n",
              "  </div>\n",
              "  "
            ]
          },
          "metadata": {},
          "execution_count": 557
        }
      ]
    },
    {
      "cell_type": "markdown",
      "source": [
        "Votre tâche consiste maintenant à créer une nouvelle colonne appelée Titre qui contient le Titre approprié pour chaque individu. Astuce : Extrayez le titre de la colonne Noms.\n",
        "\n"
      ],
      "metadata": {
        "id": "I0e1EbXUnsjv"
      }
    },
    {
      "cell_type": "code",
      "source": [
        "\n",
        "Titres= data.Name.str.split(\", \").map(lambda x:x[1]).str.split(\".\").map(lambda x:x[0])\n",
        "# ou \n",
        "# Titres = data.Name.apply(lambda name: name.split(',')[1].split('.')[0].strip())\n",
        "data['Title']= Titres\n",
        "type(Titres)"
      ],
      "metadata": {
        "colab": {
          "base_uri": "https://localhost:8080/"
        },
        "id": "YC5hQxUM6sA9",
        "outputId": "9a6f4c89-88ec-4728-fe14-b791e429add1"
      },
      "execution_count": 558,
      "outputs": [
        {
          "output_type": "execute_result",
          "data": {
            "text/plain": [
              "pandas.core.series.Series"
            ]
          },
          "metadata": {},
          "execution_count": 558
        }
      ]
    },
    {
      "cell_type": "code",
      "source": [
        "data['Title'].value_counts()"
      ],
      "metadata": {
        "colab": {
          "base_uri": "https://localhost:8080/"
        },
        "id": "Lg8HbIOKQyqL",
        "outputId": "593cc645-80a2-4f27-d6b0-5004a578b4fa"
      },
      "execution_count": null,
      "outputs": [
        {
          "output_type": "execute_result",
          "data": {
            "text/plain": [
              "Mr              517\n",
              "Miss            182\n",
              "Mrs             125\n",
              "Master           40\n",
              "Dr                7\n",
              "Rev               6\n",
              "Mlle              2\n",
              "Col               2\n",
              "Major             2\n",
              "Don               1\n",
              "Lady              1\n",
              "Jonkheer          1\n",
              "Mme               1\n",
              "Sir               1\n",
              "Capt              1\n",
              "the Countess      1\n",
              "Ms                1\n",
              "Name: Title, dtype: int64"
            ]
          },
          "metadata": {},
          "execution_count": 207
        }
      ]
    },
    {
      "cell_type": "markdown",
      "source": [
        "Visualisez la corrélation entre le titre et d'autres caractéristiques (par exemple, le sexe, l'âge, la couleur).\n",
        "\n"
      ],
      "metadata": {
        "id": "qZPwFMwfu5pz"
      }
    },
    {
      "cell_type": "code",
      "source": [
        "graphTitle = sns.FacetGrid(data, height=6, aspect=3.5 )\n",
        "graphTitle.map_dataframe(sns.scatterplot, x=\"Title\", y=\"Age\", hue=\"Sex\" )\n",
        "graphTitle.add_legend( title='Correlation Title, Age et Sex')"
      ],
      "metadata": {
        "colab": {
          "base_uri": "https://localhost:8080/",
          "height": 454
        },
        "id": "2WlotEy8SbuP",
        "outputId": "7f5cabe8-4ee0-49bd-8230-f9f2dd0ef4ae"
      },
      "execution_count": 559,
      "outputs": [
        {
          "output_type": "execute_result",
          "data": {
            "text/plain": [
              "<seaborn.axisgrid.FacetGrid at 0x7f4f2d8c5790>"
            ]
          },
          "metadata": {},
          "execution_count": 559
        },
        {
          "output_type": "display_data",
          "data": {
            "text/plain": [
              "<Figure size 1689.42x432 with 1 Axes>"
            ],
            "image/png": "[encoded data removed]"
          },
          "metadata": {}
        }
      ]
    },
    {
      "cell_type": "markdown",
      "source": [
        "## Interpretation\n",
        "\n",
        "* Le Titre Mr correspond aux hommes agés entre 10 et 80 ans \\\n",
        "* Le Titre Mrs correspond aux femmes agés entre 12 et 65 ans \\\n",
        "* Le Titre Miss correspond aux femmes agés entre 0 et 65 ans \\\n",
        "* Le Titre Dr correspond majoritairement aux Hommes de entre 20 et 55 ans\n",
        "à femmes agés 49 ans \\\n",
        "\n",
        "* Les Titres Major, Don, Rev, Col, Jonkheer, Sir, Capt correspondent aux Hommes de 0 à 70 ans \\\n",
        "* Les Titres Mlle, Mme, The Countess, Ms correspondent à des femmes agées de 25,\n",
        "50 ans\n"
      ],
      "metadata": {
        "id": "BQV_1HhrhsRk"
      }
    },
    {
      "cell_type": "code",
      "source": [
        "data = data.drop(columns=['Name'])\n",
        "data"
      ],
      "metadata": {
        "colab": {
          "base_uri": "https://localhost:8080/",
          "height": 424
        },
        "id": "fAwCIMQ4A2VS",
        "outputId": "c8b62632-afb3-4e46-8e07-2617d37a1d47"
      },
      "execution_count": 560,
      "outputs": [
        {
          "output_type": "execute_result",
          "data": {
            "text/plain": [
              "     Survived  Pclass  Sex   Age     Fare Title\n",
              "0           0       2    1  28.0  13.0000    Mr\n",
              "1           0       3    1  25.0   7.6500    Mr\n",
              "2           0       3    1  20.0   7.8542    Mr\n",
              "3           0       3    0  29.0  21.0750   Mrs\n",
              "4           0       1    1  31.0  52.0000    Mr\n",
              "..        ...     ...  ...   ...      ...   ...\n",
              "886         1       2    0  14.0  30.0708   Mrs\n",
              "887         0       3    1  22.0   7.2292    Mr\n",
              "888         0       3    0  30.0   8.6625  Miss\n",
              "889         0       3    1  29.7   7.8958    Mr\n",
              "890         1       2    0  19.0  26.0000  Miss\n",
              "\n",
              "[891 rows x 6 columns]"
            ],
            "text/html": [
              "\n",
              "  <div id=\"df-2d7b7c81-1d8d-4374-af87-f9f91140e5bd\">\n",
              "    <div class=\"colab-df-container\">\n",
              "      <div>\n",
              "<style scoped>\n",
              "    .dataframe tbody tr th:only-of-type {\n",
              "        vertical-align: middle;\n",
              "    }\n",
              "\n",
              "    .dataframe tbody tr th {\n",
              "        vertical-align: top;\n",
              "    }\n",
              "\n",
              "    .dataframe thead th {\n",
              "        text-align: right;\n",
              "    }\n",
              "</style>\n",
              "<table border=\"1\" class=\"dataframe\">\n",
              "  <thead>\n",
              "    <tr style=\"text-align: right;\">\n",
              "      <th></th>\n",
              "      <th>Survived</th>\n",
              "      <th>Pclass</th>\n",
              "      <th>Sex</th>\n",
              "      <th>Age</th>\n",
              "      <th>Fare</th>\n",
              "      <th>Title</th>\n",
              "    </tr>\n",
              "  </thead>\n",
              "  <tbody>\n",
              "    <tr>\n",
              "      <th>0</th>\n",
              "      <td>0</td>\n",
              "      <td>2</td>\n",
              "      <td>1</td>\n",
              "      <td>28.0</td>\n",
              "      <td>13.0000</td>\n",
              "      <td>Mr</td>\n",
              "    </tr>\n",
              "    <tr>\n",
              "      <th>1</th>\n",
              "      <td>0</td>\n",
              "      <td>3</td>\n",
              "      <td>1</td>\n",
              "      <td>25.0</td>\n",
              "      <td>7.6500</td>\n",
              "      <td>Mr</td>\n",
              "    </tr>\n",
              "    <tr>\n",
              "      <th>2</th>\n",
              "      <td>0</td>\n",
              "      <td>3</td>\n",
              "      <td>1</td>\n",
              "      <td>20.0</td>\n",
              "      <td>7.8542</td>\n",
              "      <td>Mr</td>\n",
              "    </tr>\n",
              "    <tr>\n",
              "      <th>3</th>\n",
              "      <td>0</td>\n",
              "      <td>3</td>\n",
              "      <td>0</td>\n",
              "      <td>29.0</td>\n",
              "      <td>21.0750</td>\n",
              "      <td>Mrs</td>\n",
              "    </tr>\n",
              "    <tr>\n",
              "      <th>4</th>\n",
              "      <td>0</td>\n",
              "      <td>1</td>\n",
              "      <td>1</td>\n",
              "      <td>31.0</td>\n",
              "      <td>52.0000</td>\n",
              "      <td>Mr</td>\n",
              "    </tr>\n",
              "    <tr>\n",
              "      <th>...</th>\n",
              "      <td>...</td>\n",
              "      <td>...</td>\n",
              "      <td>...</td>\n",
              "      <td>...</td>\n",
              "      <td>...</td>\n",
              "      <td>...</td>\n",
              "    </tr>\n",
              "    <tr>\n",
              "      <th>886</th>\n",
              "      <td>1</td>\n",
              "      <td>2</td>\n",
              "      <td>0</td>\n",
              "      <td>14.0</td>\n",
              "      <td>30.0708</td>\n",
              "      <td>Mrs</td>\n",
              "    </tr>\n",
              "    <tr>\n",
              "      <th>887</th>\n",
              "      <td>0</td>\n",
              "      <td>3</td>\n",
              "      <td>1</td>\n",
              "      <td>22.0</td>\n",
              "      <td>7.2292</td>\n",
              "      <td>Mr</td>\n",
              "    </tr>\n",
              "    <tr>\n",
              "      <th>888</th>\n",
              "      <td>0</td>\n",
              "      <td>3</td>\n",
              "      <td>0</td>\n",
              "      <td>30.0</td>\n",
              "      <td>8.6625</td>\n",
              "      <td>Miss</td>\n",
              "    </tr>\n",
              "    <tr>\n",
              "      <th>889</th>\n",
              "      <td>0</td>\n",
              "      <td>3</td>\n",
              "      <td>1</td>\n",
              "      <td>29.7</td>\n",
              "      <td>7.8958</td>\n",
              "      <td>Mr</td>\n",
              "    </tr>\n",
              "    <tr>\n",
              "      <th>890</th>\n",
              "      <td>1</td>\n",
              "      <td>2</td>\n",
              "      <td>0</td>\n",
              "      <td>19.0</td>\n",
              "      <td>26.0000</td>\n",
              "      <td>Miss</td>\n",
              "    </tr>\n",
              "  </tbody>\n",
              "</table>\n",
              "<p>891 rows × 6 columns</p>\n",
              "</div>\n",
              "      <button class=\"colab-df-convert\" onclick=\"convertToInteractive('df-2d7b7c81-1d8d-4374-af87-f9f91140e5bd')\"\n",
              "              title=\"Convert this dataframe to an interactive table.\"\n",
              "              style=\"display:none;\">\n",
              "        \n",
              "  <svg xmlns=\"http://www.w3.org/2000/svg\" height=\"24px\"viewBox=\"0 0 24 24\"\n",
              "       width=\"24px\">\n",
              "    <path d=\"M0 0h24v24H0V0z\" fill=\"none\"/>\n",
              "    <path d=\"M18.56 5.44l.94 2.06.94-2.06 2.06-.94-2.06-.94-.94-2.06-.94 2.06-2.06.94zm-11 1L8.5 8.5l.94-2.06 2.06-.94-2.06-.94L8.5 2.5l-.94 2.06-2.06.94zm10 10l.94 2.06.94-2.06 2.06-.94-2.06-.94-.94-2.06-.94 2.06-2.06.94z\"/><path d=\"M17.41 7.96l-1.37-1.37c-.4-.4-.92-.59-1.43-.59-.52 0-1.04.2-1.43.59L10.3 9.45l-7.72 7.72c-.78.78-.78 2.05 0 2.83L4 21.41c.39.39.9.59 1.41.59.51 0 1.02-.2 1.41-.59l7.78-7.78 2.81-2.81c.8-.78.8-2.07 0-2.86zM5.41 20L4 18.59l7.72-7.72 1.47 1.35L5.41 20z\"/>\n",
              "  </svg>\n",
              "      </button>\n",
              "      \n",
              "  <style>\n",
              "    .colab-df-container {\n",
              "      display:flex;\n",
              "      flex-wrap:wrap;\n",
              "      gap: 12px;\n",
              "    }\n",
              "\n",
              "    .colab-df-convert {\n",
              "      background-color: #E8F0FE;\n",
              "      border: none;\n",
              "      border-radius: 50%;\n",
              "      cursor: pointer;\n",
              "      display: none;\n",
              "      fill: #1967D2;\n",
              "      height: 32px;\n",
              "      padding: 0 0 0 0;\n",
              "      width: 32px;\n",
              "    }\n",
              "\n",
              "    .colab-df-convert:hover {\n",
              "      background-color: #E2EBFA;\n",
              "      box-shadow: 0px 1px 2px rgba(60, 64, 67, 0.3), 0px 1px 3px 1px rgba(60, 64, 67, 0.15);\n",
              "      fill: #174EA6;\n",
              "    }\n",
              "\n",
              "    [theme=dark] .colab-df-convert {\n",
              "      background-color: #3B4455;\n",
              "      fill: #D2E3FC;\n",
              "    }\n",
              "\n",
              "    [theme=dark] .colab-df-convert:hover {\n",
              "      background-color: #434B5C;\n",
              "      box-shadow: 0px 1px 3px 1px rgba(0, 0, 0, 0.15);\n",
              "      filter: drop-shadow(0px 1px 2px rgba(0, 0, 0, 0.3));\n",
              "      fill: #FFFFFF;\n",
              "    }\n",
              "  </style>\n",
              "\n",
              "      <script>\n",
              "        const buttonEl =\n",
              "          document.querySelector('#df-2d7b7c81-1d8d-4374-af87-f9f91140e5bd button.colab-df-convert');\n",
              "        buttonEl.style.display =\n",
              "          google.colab.kernel.accessAllowed ? 'block' : 'none';\n",
              "\n",
              "        async function convertToInteractive(key) {\n",
              "          const element = document.querySelector('#df-2d7b7c81-1d8d-4374-af87-f9f91140e5bd');\n",
              "          const dataTable =\n",
              "            await google.colab.kernel.invokeFunction('convertToInteractive',\n",
              "                                                     [key], {});\n",
              "          if (!dataTable) return;\n",
              "\n",
              "          const docLinkHtml = 'Like what you see? Visit the ' +\n",
              "            '<a target=\"_blank\" href=https://colab.research.google.com/notebooks/data_table.ipynb>data table notebook</a>'\n",
              "            + ' to learn more about interactive tables.';\n",
              "          element.innerHTML = '';\n",
              "          dataTable['output_type'] = 'display_data';\n",
              "          await google.colab.output.renderOutput(dataTable, element);\n",
              "          const docLink = document.createElement('div');\n",
              "          docLink.innerHTML = docLinkHtml;\n",
              "          element.appendChild(docLink);\n",
              "        }\n",
              "      </script>\n",
              "    </div>\n",
              "  </div>\n",
              "  "
            ]
          },
          "metadata": {},
          "execution_count": 560
        }
      ]
    },
    {
      "cell_type": "code",
      "source": [
        "data.Title.value_counts()"
      ],
      "metadata": {
        "id": "jf8RPwRD_J9V",
        "colab": {
          "base_uri": "https://localhost:8080/"
        },
        "outputId": "a4d918f2-22df-4d63-9917-e358ac25252a"
      },
      "execution_count": 561,
      "outputs": [
        {
          "output_type": "execute_result",
          "data": {
            "text/plain": [
              "Mr              517\n",
              "Miss            182\n",
              "Mrs             125\n",
              "Master           40\n",
              "Dr                7\n",
              "Rev               6\n",
              "Mlle              2\n",
              "Col               2\n",
              "Major             2\n",
              "Don               1\n",
              "Lady              1\n",
              "Jonkheer          1\n",
              "Mme               1\n",
              "Sir               1\n",
              "Capt              1\n",
              "the Countess      1\n",
              "Ms                1\n",
              "Name: Title, dtype: int64"
            ]
          },
          "metadata": {},
          "execution_count": 561
        }
      ]
    },
    {
      "cell_type": "markdown",
      "source": [
        "Comme vous l'avez vu, il y a beaucoup de titres, ce qui rend cette fonction très peu pratique. Essayons de regrouper ces titres en titres plus utiles.\n",
        "\n",
        "\n",
        "\n",
        "\n",
        "\n"
      ],
      "metadata": {
        "id": "yjz6sXcA-8ZK"
      }
    },
    {
      "cell_type": "code",
      "source": [
        "Title_Dictionary = {\n",
        "    \"Capt\":       \"Officer\",\n",
        "    \"Col\":        \"Officer\",\n",
        "    \"Major\":      \"Officer\",\n",
        "    \"Dr\":         \"Officer\",\n",
        "    \"Rev\":        \"Officer\",\n",
        "    \"Jonkheer\":   \"Royalty\",\n",
        "    \"Don\":        \"Royalty\",\n",
        "    \"Sir\" :       \"Royalty\",\n",
        "    \"Lady\" :      \"Royalty\",\n",
        "    \"the Countess\": \"Royality\",\n",
        "    \"Dona\": \"Royality\",\n",
        "    \"Mme\":        \"Miss\",\n",
        "    \"Mlle\":       \"Miss\",\n",
        "    \"Miss\" :      \"Miss\",\n",
        "    \"Ms\":         \"Mrs\",\n",
        "    \"Mr\" :        \"Mrs\",\n",
        "    \"Mrs\" :       \"Mrs\",\n",
        "    \"Master\" :    \"Master\"\n",
        "    }\n",
        "\n"
      ],
      "metadata": {
        "id": "791MzJ_c--jL"
      },
      "execution_count": 562,
      "outputs": []
    },
    {
      "cell_type": "code",
      "source": [
        "\n",
        "data.Title = data.Title.map(Title_Dictionary)\n",
        "data.Title.value_counts()"
      ],
      "metadata": {
        "colab": {
          "base_uri": "https://localhost:8080/"
        },
        "id": "QHrMmDrNNxYl",
        "outputId": "361fd90f-26cb-4f02-8e36-c681d2f0cf8d"
      },
      "execution_count": 563,
      "outputs": [
        {
          "output_type": "execute_result",
          "data": {
            "text/plain": [
              "Mrs         643\n",
              "Miss        185\n",
              "Master       40\n",
              "Officer      18\n",
              "Royalty       4\n",
              "Royality      1\n",
              "Name: Title, dtype: int64"
            ]
          },
          "metadata": {},
          "execution_count": 563
        }
      ]
    },
    {
      "cell_type": "markdown",
      "source": [
        "Visualisons maintenant les mêmes corrélations en utilisant ces nouveaux titres.\n",
        "\n"
      ],
      "metadata": {
        "id": "Fxknsu-v_KwG"
      }
    },
    {
      "cell_type": "code",
      "source": [
        "graphTitle2 = sns.FacetGrid(data, height=6, aspect=3.5 )\n",
        "graphTitle2.map_dataframe(sns.scatterplot, x=\"Title\", y=\"Age\", hue=\"Sex\" )\n",
        "graphTitle2.add_legend( title='Correlation Title, Age et Sex \\n Sex : \\n bleu (0)  Féminin, \\n orange (1) Masculin')"
      ],
      "metadata": {
        "colab": {
          "base_uri": "https://localhost:8080/",
          "height": 454
        },
        "id": "EX6_UhTHPAlM",
        "outputId": "5b80a64d-786a-4403-914f-bc3055b9bddf"
      },
      "execution_count": 564,
      "outputs": [
        {
          "output_type": "execute_result",
          "data": {
            "text/plain": [
              "<seaborn.axisgrid.FacetGrid at 0x7f4f2d8bbf50>"
            ]
          },
          "metadata": {},
          "execution_count": 564
        },
        {
          "output_type": "display_data",
          "data": {
            "text/plain": [
              "<Figure size 1693.3x432 with 1 Axes>"
            ],
            "image/png": "[encoded data removed]"
          },
          "metadata": {}
        }
      ]
    },
    {
      "cell_type": "markdown",
      "source": [
        "Enfin, utilisez les colonnes Parch et SibSp pour créer une caractéristique plus utile, appelons-la FamilySize.\n",
        "\n"
      ],
      "metadata": {
        "id": "nj1HM2kzaTrw"
      }
    },
    {
      "cell_type": "code",
      "source": [
        "data['FamilySize'] = df.SibSp + df.Parch\n",
        "data['FamilySize'].describe()"
      ],
      "metadata": {
        "colab": {
          "base_uri": "https://localhost:8080/"
        },
        "id": "e2uIuj8Ebfn6",
        "outputId": "c8ee05e1-88a8-4481-9d3e-c078982dd241"
      },
      "execution_count": 565,
      "outputs": [
        {
          "output_type": "execute_result",
          "data": {
            "text/plain": [
              "count    891.000000\n",
              "mean       0.904602\n",
              "std        1.613459\n",
              "min        0.000000\n",
              "25%        0.000000\n",
              "50%        0.000000\n",
              "75%        1.000000\n",
              "max       10.000000\n",
              "Name: FamilySize, dtype: float64"
            ]
          },
          "metadata": {},
          "execution_count": 565
        }
      ]
    },
    {
      "cell_type": "code",
      "source": [
        "g = sns.FacetGrid(data, col='Survived')\n",
        "g.map(plt.hist, 'FamilySize', bins=20)"
      ],
      "metadata": {
        "id": "ZpZnCPNlcixO",
        "colab": {
          "base_uri": "https://localhost:8080/",
          "height": 238
        },
        "outputId": "833395c2-1bca-48b5-fc9a-28965238f3a1"
      },
      "execution_count": 570,
      "outputs": [
        {
          "output_type": "execute_result",
          "data": {
            "text/plain": [
              "<seaborn.axisgrid.FacetGrid at 0x7f4f2d632a90>"
            ]
          },
          "metadata": {},
          "execution_count": 570
        },
        {
          "output_type": "display_data",
          "data": {
            "text/plain": [
              "<Figure size 432x216 with 2 Axes>"
            ],
            "image/png": "[encoded data removed]"
          },
          "metadata": {}
        }
      ]
    },
    {
      "cell_type": "markdown",
      "source": [
        "Utilisez ce que vous avez appris jusqu'à présent pour conclure si cette caractéristique est utile ou non.."
      ],
      "metadata": {
        "id": "euZfA-wYdzBd"
      }
    },
    {
      "cell_type": "markdown",
      "source": [
        "## Conclusion\n",
        "Les personnes qui ont plus de chance de survit sont les femmes Titre Miss de à à 40 situé en 1ère classe \n",
        "\n",
        "Et les hommes entres 20 et 40 ans titre Mrs et Officier située en 1ere classe ausssi "
      ],
      "metadata": {
        "id": "DntYR140Sccx"
      }
    }
  ]
}